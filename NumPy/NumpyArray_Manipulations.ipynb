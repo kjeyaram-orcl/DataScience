{
  "nbformat": 4,
  "nbformat_minor": 0,
  "metadata": {
    "colab": {
      "provenance": [],
      "authorship_tag": "ABX9TyMzIu//jeolOnQrkOJL1Oy4",
      "include_colab_link": true
    },
    "kernelspec": {
      "name": "python3",
      "display_name": "Python 3"
    },
    "language_info": {
      "name": "python"
    }
  },
  "cells": [
    {
      "cell_type": "markdown",
      "metadata": {
        "id": "view-in-github",
        "colab_type": "text"
      },
      "source": [
        "<a href=\"https://colab.research.google.com/github/kjeyaram-orcl/DataScience/blob/main/NumpyArray_Manipulations.ipynb\" target=\"_parent\"><img src=\"https://colab.research.google.com/assets/colab-badge.svg\" alt=\"Open In Colab\"/></a>"
      ]
    },
    {
      "cell_type": "markdown",
      "source": [
        "#Iterating Numpy Array"
      ],
      "metadata": {
        "id": "xKSHr7aYEkcY"
      }
    },
    {
      "cell_type": "code",
      "source": [
        "import numpy as np\n",
        "# iterate through all the rows\n",
        "a = np.array([[9,7,3],[5,6,4]])\n",
        "for x in a:\n",
        "  print(x)"
      ],
      "metadata": {
        "colab": {
          "base_uri": "https://localhost:8080/"
        },
        "id": "zkcMFH2gF_Wh",
        "outputId": "57c4d6fd-e5a4-44f2-f174-64143daeb24a"
      },
      "execution_count": null,
      "outputs": [
        {
          "output_type": "stream",
          "name": "stdout",
          "text": [
            "[9 7 3]\n",
            "[5 6 4]\n"
          ]
        }
      ]
    },
    {
      "cell_type": "code",
      "source": [
        "import numpy as np\n",
        "# iterate the arrays in each dimension\n",
        "a = np.array([[9,7,3],[5,6,4]])\n",
        "for x in a:\n",
        "  for y in x:\n",
        "    print(y)\n"
      ],
      "metadata": {
        "colab": {
          "base_uri": "https://localhost:8080/"
        },
        "id": "u50mEZfBEysW",
        "outputId": "969bcf18-8bcc-42f2-b892-fba87a4aed78"
      },
      "execution_count": null,
      "outputs": [
        {
          "output_type": "stream",
          "name": "stdout",
          "text": [
            "9\n",
            "7\n",
            "3\n",
            "5\n",
            "6\n",
            "4\n"
          ]
        }
      ]
    },
    {
      "cell_type": "code",
      "source": [],
      "metadata": {
        "id": "tRhGHBQ4tsiD"
      },
      "execution_count": null,
      "outputs": []
    },
    {
      "cell_type": "code",
      "source": [
        "import numpy as np\n",
        "# Iterating on each Scalar Element using nditer()\n",
        "a = np.array([[9,7,3],[5,6,4]])\n",
        "for x in np.nditer(a):\n",
        "  print(x)\n"
      ],
      "metadata": {
        "colab": {
          "base_uri": "https://localhost:8080/"
        },
        "outputId": "1dd3c2bf-f371-47db-ba1c-087510a9118b",
        "id": "PffW1HuDttU4"
      },
      "execution_count": null,
      "outputs": [
        {
          "output_type": "stream",
          "name": "stdout",
          "text": [
            "9\n",
            "7\n",
            "3\n",
            "5\n",
            "6\n",
            "4\n"
          ]
        }
      ]
    },
    {
      "cell_type": "code",
      "source": [
        "import numpy as np\n",
        "\n",
        "# Iterating on each Scalar Element using nditer() with step\n",
        "a = np.array([[1, 2, 3, 4], [5, 6, 7, 8]])\n",
        "\n",
        "for x in np.nditer(a[:, ::2]):\n",
        "  print(x)"
      ],
      "metadata": {
        "colab": {
          "base_uri": "https://localhost:8080/"
        },
        "id": "EU3PV7bBuHS0",
        "outputId": "9f063ce2-2961-457d-c240-f0294b5134b2"
      },
      "execution_count": null,
      "outputs": [
        {
          "output_type": "stream",
          "name": "stdout",
          "text": [
            "1\n",
            "3\n",
            "5\n",
            "7\n"
          ]
        }
      ]
    },
    {
      "cell_type": "code",
      "source": [
        "import numpy as np\n",
        "\n",
        "# Iterating on each Scalar Element using nditer() with step\n",
        "a = np.array([[1, 2, 3, 4], [5, 6, 7, 8]])\n",
        "\n",
        "for x in np.nditer(a, op_flags=['readwrite']):\n",
        "  x[...]=x*5\n",
        "\n",
        "print(a)"
      ],
      "metadata": {
        "id": "wyYpfLTs3Q6L",
        "outputId": "779dc0d8-611b-49ed-9925-e344061a9056",
        "colab": {
          "base_uri": "https://localhost:8080/"
        }
      },
      "execution_count": 5,
      "outputs": [
        {
          "output_type": "stream",
          "name": "stdout",
          "text": [
            "[[ 5 10 15 20]\n",
            " [25 30 35 40]]\n"
          ]
        }
      ]
    },
    {
      "cell_type": "markdown",
      "source": [
        "#Joining Numpy Array"
      ],
      "metadata": {
        "id": "FnAcl0obxSyb"
      }
    },
    {
      "cell_type": "code",
      "source": [
        "a = np.array([[1, 2],[3, 4]])\n",
        "b = np.array([[5, 6],[7, 8]])\n",
        "\n",
        "c=np.concatenate((a, b), axis=0) # stack arrays along rows\n",
        "print(c)\n",
        "\n",
        "d=np.vstack((a, b)) # stack arrays along rows using vstack\n",
        "print(d)"
      ],
      "metadata": {
        "colab": {
          "base_uri": "https://localhost:8080/"
        },
        "id": "OdnLa6q_xb1T",
        "outputId": "6dfed2a4-9386-4ea4-fc37-34db57bbde48"
      },
      "execution_count": null,
      "outputs": [
        {
          "output_type": "stream",
          "name": "stdout",
          "text": [
            "[[1 2]\n",
            " [3 4]\n",
            " [5 6]\n",
            " [7 8]]\n",
            "[[1 2]\n",
            " [3 4]\n",
            " [5 6]\n",
            " [7 8]]\n"
          ]
        }
      ]
    },
    {
      "cell_type": "code",
      "source": [
        "a = np.array([[1, 2],[3, 4]])\n",
        "b = np.array([[5, 6],[7, 8]])\n",
        "\n",
        "c=np.concatenate((a, b), axis=1) # stack arrays along columns\n",
        "print(c)\n",
        "\n",
        "d=np.hstack((a, b)) # stack arrays along columns using hstack\n",
        "print(d)\n"
      ],
      "metadata": {
        "colab": {
          "base_uri": "https://localhost:8080/"
        },
        "id": "A1LDXHedqv7C",
        "outputId": "67e8c12b-6209-4caf-c49c-c552342bf0fd"
      },
      "execution_count": null,
      "outputs": [
        {
          "output_type": "stream",
          "name": "stdout",
          "text": [
            "[[1 2 5 6]\n",
            " [3 4 7 8]]\n",
            "[[1 2 5 6]\n",
            " [3 4 7 8]]\n"
          ]
        }
      ]
    },
    {
      "cell_type": "code",
      "source": [
        "a = np.array([[1, 2],[3, 4]])\n",
        "b = np.array([[5, 6],[7, 8]])\n",
        "\n",
        "c = np.stack((a, b), axis=0)\n",
        "print(c)\n",
        "\n",
        "d = np.stack((a, b), axis=1)\n",
        "print(d)"
      ],
      "metadata": {
        "colab": {
          "base_uri": "https://localhost:8080/"
        },
        "id": "TkIOX7xqUp4n",
        "outputId": "b7d4e683-6e3c-4420-fe2e-12a7ced161f2"
      },
      "execution_count": null,
      "outputs": [
        {
          "output_type": "stream",
          "name": "stdout",
          "text": [
            "[[[1 2]\n",
            "  [3 4]]\n",
            "\n",
            " [[5 6]\n",
            "  [7 8]]]\n",
            "[[[1 2]\n",
            "  [5 6]]\n",
            "\n",
            " [[3 4]\n",
            "  [7 8]]]\n"
          ]
        }
      ]
    },
    {
      "cell_type": "code",
      "source": [
        "a = np.array([[1, 2],[3, 4]])\n",
        "b = np.array([[5, 6],[7, 8]])\n",
        "\n",
        "c=np.dstack((a, b)) # stack arrays along height\n",
        "print(c)"
      ],
      "metadata": {
        "colab": {
          "base_uri": "https://localhost:8080/"
        },
        "id": "GirNbSNcuKWj",
        "outputId": "90058dca-5539-4d68-f595-6db046dd80b7"
      },
      "execution_count": null,
      "outputs": [
        {
          "output_type": "stream",
          "name": "stdout",
          "text": [
            "[[[1 5]\n",
            "  [2 6]]\n",
            "\n",
            " [[3 7]\n",
            "  [4 8]]]\n"
          ]
        }
      ]
    },
    {
      "cell_type": "markdown",
      "source": [],
      "metadata": {
        "id": "PmBOWOgL2hLu"
      }
    },
    {
      "cell_type": "markdown",
      "source": [
        "#Spliting Numpy Array"
      ],
      "metadata": {
        "id": "Vs13Qf1I2kWQ"
      }
    },
    {
      "cell_type": "code",
      "source": [
        "a = np.array([\n",
        "    [1, 2, 3],\n",
        "    [4, 5, 6],\n",
        "    [7, 8, 9],\n",
        "    [10, 11, 12]\n",
        "  ])\n",
        "\n",
        "b=np.array_split(a, 3, axis=1) # stack arrays along column\n",
        "print(b[0])\n",
        "print(b[1])\n",
        "print(b[2])\n",
        "\n",
        "c=np.hsplit(a, 3) # stack arrays along column using hsplit\n",
        "print(c[0])\n",
        "print(c[1])\n",
        "print(c[2])"
      ],
      "metadata": {
        "colab": {
          "base_uri": "https://localhost:8080/"
        },
        "id": "6p0iJTff2sDn",
        "outputId": "998d560b-b735-4edd-d4ec-5dce2e1a9cde"
      },
      "execution_count": null,
      "outputs": [
        {
          "output_type": "stream",
          "name": "stdout",
          "text": [
            "[[ 1]\n",
            " [ 4]\n",
            " [ 7]\n",
            " [10]]\n",
            "[[ 2]\n",
            " [ 5]\n",
            " [ 8]\n",
            " [11]]\n",
            "[[ 3]\n",
            " [ 6]\n",
            " [ 9]\n",
            " [12]]\n",
            "[[ 1]\n",
            " [ 4]\n",
            " [ 7]\n",
            " [10]]\n",
            "[[ 2]\n",
            " [ 5]\n",
            " [ 8]\n",
            " [11]]\n",
            "[[ 3]\n",
            " [ 6]\n",
            " [ 9]\n",
            " [12]]\n"
          ]
        }
      ]
    },
    {
      "cell_type": "code",
      "source": [
        "a = np.array([\n",
        "    [1, 2, 3],\n",
        "    [4, 5, 6],\n",
        "    [7, 8, 9],\n",
        "    [10, 11, 12]\n",
        "  ])\n",
        "\n",
        "b=np.array_split(a, 2, axis=0) # stack arrays along row\n",
        "print(b[0])\n",
        "print(b[1])\n",
        "\n",
        "c=np.vsplit(a, 2) # stack arrays along column using vsplit\n",
        "print(c[0])\n",
        "print(c[1])\n"
      ],
      "metadata": {
        "colab": {
          "base_uri": "https://localhost:8080/"
        },
        "id": "NAkAp-rC8KHz",
        "outputId": "a19ef8dc-e719-4ef4-acf7-823d3b1b2dd3"
      },
      "execution_count": null,
      "outputs": [
        {
          "output_type": "stream",
          "name": "stdout",
          "text": [
            "[[1 2 3]\n",
            " [4 5 6]]\n",
            "[[ 7  8  9]\n",
            " [10 11 12]]\n",
            "[[1 2 3]\n",
            " [4 5 6]]\n",
            "[[ 7  8  9]\n",
            " [10 11 12]]\n"
          ]
        }
      ]
    },
    {
      "cell_type": "code",
      "source": [
        "a = np.array([\n",
        "  [\n",
        "    [1, 2, 3],\n",
        "    [4, 5, 6]\n",
        "  ],\n",
        "  [\n",
        "    [7, 8, 9],\n",
        "    [10, 11, 12]\n",
        "  ]\n",
        "])\n",
        "b=np.dsplit(a, 3)\n",
        "print(b[0])\n",
        "print(b[1])\n",
        "print(b[2])"
      ],
      "metadata": {
        "colab": {
          "base_uri": "https://localhost:8080/"
        },
        "id": "AZPMIr4A8w9h",
        "outputId": "b341074c-4817-4e90-d48b-eaae767785e7"
      },
      "execution_count": null,
      "outputs": [
        {
          "output_type": "stream",
          "name": "stdout",
          "text": [
            "[[[ 1]\n",
            "  [ 4]]\n",
            "\n",
            " [[ 7]\n",
            "  [10]]]\n",
            "[[[ 2]\n",
            "  [ 5]]\n",
            "\n",
            " [[ 8]\n",
            "  [11]]]\n",
            "[[[ 3]\n",
            "  [ 6]]\n",
            "\n",
            " [[ 9]\n",
            "  [12]]]\n"
          ]
        }
      ]
    },
    {
      "cell_type": "markdown",
      "source": [
        "#Search in Numpy Array\n"
      ],
      "metadata": {
        "id": "LE_K72VKCk_c"
      }
    },
    {
      "cell_type": "code",
      "source": [
        "import numpy as np\n",
        "\n",
        "# return indexes where the values are even\n",
        "\n",
        "a = np.array([1, 2, 3, 4, 5, 6, 7, 8, 9, 10])\n",
        "b = np.where(a%2 == 0)\n",
        "print(b)"
      ],
      "metadata": {
        "colab": {
          "base_uri": "https://localhost:8080/"
        },
        "id": "d4fEfT5rCoRt",
        "outputId": "9d4d3223-2a32-45bd-b366-67e801019efd"
      },
      "execution_count": null,
      "outputs": [
        {
          "output_type": "stream",
          "name": "stdout",
          "text": [
            "(array([1, 3, 5, 7, 9]),)\n"
          ]
        }
      ]
    },
    {
      "cell_type": "code",
      "source": [
        "import numpy as np\n",
        "\n",
        "# return elements based on condition\n",
        "\n",
        "a = np.arange(10)\n",
        "b=np.where(a < 5, a, 10*a)\n",
        "print(b)"
      ],
      "metadata": {
        "colab": {
          "base_uri": "https://localhost:8080/"
        },
        "id": "TMQSz60vDBSm",
        "outputId": "fc3016af-0d12-49af-b902-f5538269dc28"
      },
      "execution_count": null,
      "outputs": [
        {
          "output_type": "stream",
          "name": "stdout",
          "text": [
            "[ 0  1  2  3  4 50 60 70 80 90]\n"
          ]
        }
      ]
    },
    {
      "cell_type": "code",
      "source": [
        "import numpy as np\n",
        "\n",
        "a = np.array([[0, 1, 2],\n",
        "              [0, 2, 4],\n",
        "              [0, 3, 6]])\n",
        "b=np.where(a < 4, a, -1)\n",
        "print(b)\n",
        "\n",
        "c=np.where(\n",
        "        [\n",
        "          [True, False],\n",
        "          [True, True]\n",
        "        ],\n",
        "        [\n",
        "          [1, 2],\n",
        "          [3, 4]\n",
        "        ],\n",
        "        [\n",
        "          [9, 8],\n",
        "          [7, 6]\n",
        "        ]\n",
        "  )\n",
        "\n",
        "print(c)"
      ],
      "metadata": {
        "colab": {
          "base_uri": "https://localhost:8080/"
        },
        "id": "oMW-b74AD9MM",
        "outputId": "f8a36b7b-260f-4a04-fc36-27f5c8d4bed4"
      },
      "execution_count": null,
      "outputs": [
        {
          "output_type": "stream",
          "name": "stdout",
          "text": [
            "[[ 0  1  2]\n",
            " [ 0  2 -1]\n",
            " [ 0  3 -1]]\n",
            "[[1 8]\n",
            " [3 4]]\n"
          ]
        }
      ]
    },
    {
      "cell_type": "code",
      "source": [
        "import numpy as np\n",
        "\n",
        "# return indexes where the value 7 should be inserted\n",
        "\n",
        "a = np.array([6, 7, 8, 9])\n",
        "b = np.searchsorted(a, 7)\n",
        "print(b)"
      ],
      "metadata": {
        "colab": {
          "base_uri": "https://localhost:8080/"
        },
        "id": "XB75x2lWIUB1",
        "outputId": "08b1125a-5fce-48a0-88a2-e8119d06e52f"
      },
      "execution_count": null,
      "outputs": [
        {
          "output_type": "stream",
          "name": "stdout",
          "text": [
            "1\n"
          ]
        }
      ]
    },
    {
      "cell_type": "code",
      "source": [
        "import numpy as np\n",
        "\n",
        "# return indexes where the below values should be inserted\n",
        "\n",
        "a= np.searchsorted([1,2,3,4,5], [-10, 10, 2, 3])\n",
        "print(a)\n"
      ],
      "metadata": {
        "colab": {
          "base_uri": "https://localhost:8080/"
        },
        "id": "qSPml1ezIfgj",
        "outputId": "14fa8064-3f45-4142-bdcd-34f6494b2aaf"
      },
      "execution_count": null,
      "outputs": [
        {
          "output_type": "stream",
          "name": "stdout",
          "text": [
            "[0 5 1 2]\n"
          ]
        }
      ]
    },
    {
      "cell_type": "markdown",
      "source": [
        "#Sorting Numpy Array\n"
      ],
      "metadata": {
        "id": "icJz4g7PQaBe"
      }
    },
    {
      "cell_type": "code",
      "source": [
        "import numpy as np\n",
        "#sort array with axis\n",
        "\n",
        "a = np.array([[9,7,3],[5,6,4]])\n",
        "print(np.sort(a,axis=None))          # flatten sort\n",
        "print(np.sort(a,axis=-1))            # Row sort\n",
        "print(np.sort(a,axis=0))             # column sort\n"
      ],
      "metadata": {
        "colab": {
          "base_uri": "https://localhost:8080/"
        },
        "id": "TyT5Nh9cQgRc",
        "outputId": "e081a0da-d032-46db-bea2-951be9152b1f"
      },
      "execution_count": null,
      "outputs": [
        {
          "output_type": "stream",
          "name": "stdout",
          "text": [
            "[3 4 5 6 7 9]\n",
            "[[3 7 9]\n",
            " [4 5 6]]\n",
            "[[5 6 3]\n",
            " [9 7 4]]\n"
          ]
        }
      ]
    },
    {
      "cell_type": "code",
      "source": [
        "import numpy as np\n",
        "#sort array with key\n",
        "\n",
        "dtype = [('name', 'S10'), ('height', float), ('age', int)]\n",
        "values = [('Arthur', 1.8, 41), ('Lancelot', 1.6, 42),('Galahad', 1.7, 38)]\n",
        "a = np.array(values, dtype=dtype)       # create a structured array\n",
        "#print(a)\n",
        "b=np.sort(a, order='height')  # sort by height\n",
        "print(b)\n"
      ],
      "metadata": {
        "colab": {
          "base_uri": "https://localhost:8080/"
        },
        "id": "cdqH2Ue-kvD4",
        "outputId": "32a335b0-e878-468b-c743-ccb96e418e21"
      },
      "execution_count": null,
      "outputs": [
        {
          "output_type": "stream",
          "name": "stdout",
          "text": [
            "[(b'Lancelot', 1.6, 42) (b'Galahad', 1.7, 38) (b'Arthur', 1.8, 41)]\n"
          ]
        }
      ]
    },
    {
      "cell_type": "markdown",
      "source": [
        "#Filtering Numpy Array"
      ],
      "metadata": {
        "id": "wFNB2emJQKlF"
      }
    },
    {
      "cell_type": "code",
      "source": [
        "import numpy as np\n",
        "\n",
        "#Filter Array using boolean index list\n",
        "\n",
        "a = np.array([1, 2, 3, 4])\n",
        "x = [False, True, False, True]\n",
        "print(a[x])"
      ],
      "metadata": {
        "colab": {
          "base_uri": "https://localhost:8080/"
        },
        "id": "Z6RZF4ziP_AS",
        "outputId": "91c6a592-1494-438e-e0a8-75072b739bae"
      },
      "execution_count": null,
      "outputs": [
        {
          "output_type": "stream",
          "name": "stdout",
          "text": [
            "[2 4]\n"
          ]
        }
      ]
    },
    {
      "cell_type": "code",
      "source": [
        "import numpy as np\n",
        "\n",
        "#Filter Array with condition\n",
        "\n",
        "a = np.array([1, 2, 3, 4])\n",
        "b=[]\n",
        "for e in a:\n",
        "  if e > 2:\n",
        "    b.append(e)\n",
        "\n",
        "print (b)"
      ],
      "metadata": {
        "colab": {
          "base_uri": "https://localhost:8080/"
        },
        "id": "bpBPtgd6cPYx",
        "outputId": "e8a81243-3e87-49cb-eac6-de7258c15452"
      },
      "execution_count": null,
      "outputs": [
        {
          "output_type": "stream",
          "name": "stdout",
          "text": [
            "[3, 4]\n"
          ]
        }
      ]
    },
    {
      "cell_type": "code",
      "source": [
        "import numpy as np\n",
        "\n",
        "#Filter Array with condition and retrieve data using boolean index list\n",
        "\n",
        "a = np.array([1, 2, 3, 4])\n",
        "b=[];\n",
        "for e in a:\n",
        "  if e%2==0:\n",
        "    b.append(True)\n",
        "  else:\n",
        "    b.append(False)\n",
        "print(a[b])"
      ],
      "metadata": {
        "colab": {
          "base_uri": "https://localhost:8080/"
        },
        "id": "C2uD3wVvdO5u",
        "outputId": "6a8e196c-f6b3-42a4-90de-8ab609446f6f"
      },
      "execution_count": null,
      "outputs": [
        {
          "output_type": "stream",
          "name": "stdout",
          "text": [
            "[2 4]\n"
          ]
        }
      ]
    },
    {
      "cell_type": "code",
      "source": [],
      "metadata": {
        "id": "_RNuq_D2EV19"
      },
      "execution_count": null,
      "outputs": []
    }
  ]
}
