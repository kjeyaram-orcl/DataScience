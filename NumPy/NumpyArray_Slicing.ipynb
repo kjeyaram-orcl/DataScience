{
  "nbformat": 4,
  "nbformat_minor": 0,
  "metadata": {
    "colab": {
      "provenance": [],
      "authorship_tag": "ABX9TyM137Yulw384XRMIYF4mlrl",
      "include_colab_link": true
    },
    "kernelspec": {
      "name": "python3",
      "display_name": "Python 3"
    },
    "language_info": {
      "name": "python"
    }
  },
  "cells": [
    {
      "cell_type": "markdown",
      "metadata": {
        "id": "view-in-github",
        "colab_type": "text"
      },
      "source": [
        "<a href=\"https://colab.research.google.com/github/kjeyaram-orcl/DataScience/blob/main/Numpy_ArraySlicing.ipynb\" target=\"_parent\"><img src=\"https://colab.research.google.com/assets/colab-badge.svg\" alt=\"Open In Colab\"/></a>"
      ]
    },
    {
      "cell_type": "code",
      "execution_count": null,
      "metadata": {
        "colab": {
          "base_uri": "https://localhost:8080/"
        },
        "id": "HknG8vM2eZX-",
        "outputId": "97632449-30f0-4bed-c928-ec492ad2934a"
      },
      "outputs": [
        {
          "output_type": "stream",
          "name": "stdout",
          "text": [
            "[9 8 7 6]\n"
          ]
        }
      ],
      "source": [
        "#Slicing 1D Array\n",
        "\n",
        "import numpy as np\n",
        "\n",
        "a = np.array([0,9,8,7,6,5,4,3,2,1]) #Array 0 indexed\n",
        "\n",
        "print(a[1:5])"
      ]
    },
    {
      "cell_type": "code",
      "source": [
        "#Slicing 1D Array\n",
        "\n",
        "import numpy as np\n",
        "\n",
        "a = np.array([0,9,8,7,6,5,4,3,2,1]) #Array 0 indexed\n",
        "\n",
        "print(a[:7])"
      ],
      "metadata": {
        "colab": {
          "base_uri": "https://localhost:8080/"
        },
        "id": "P7YG7fige4Hp",
        "outputId": "459c93d2-273d-44c1-8310-a5bb26cbd09c"
      },
      "execution_count": null,
      "outputs": [
        {
          "output_type": "stream",
          "name": "stdout",
          "text": [
            "[0 9 8 7 6 5 4]\n"
          ]
        }
      ]
    },
    {
      "cell_type": "code",
      "source": [
        "#Slicing 1D Array\n",
        "\n",
        "import numpy as np\n",
        "\n",
        "a = np.array([0,9,8,7,6,5,4,3,2,1]) #Array 0 indexed\n",
        "\n",
        "print(a[-3:-1]) # Negative Indexing\n"
      ],
      "metadata": {
        "id": "3wOAsG9OfA1i"
      },
      "execution_count": null,
      "outputs": []
    },
    {
      "cell_type": "code",
      "source": [
        "#Slicing 1D Array with Step\n",
        "\n",
        "import numpy as np\n",
        "\n",
        "a = np.array([0,9,8,7,6,5,4,3,2,1]) #Array 0 indexed\n",
        "\n",
        "print(a[::2]) # Every other elements"
      ],
      "metadata": {
        "colab": {
          "base_uri": "https://localhost:8080/"
        },
        "id": "Z1PVc5CYfGxc",
        "outputId": "aa19d32b-6d4f-4e29-cf22-7c20ea7eab64"
      },
      "execution_count": null,
      "outputs": [
        {
          "output_type": "stream",
          "name": "stdout",
          "text": [
            "[0 8 6 4 2]\n"
          ]
        }
      ]
    },
    {
      "cell_type": "code",
      "source": [
        "#Slicing 2D Array\n",
        "\n",
        "import numpy as np\n",
        "\n",
        "a = np.array(\n",
        "    [\n",
        "        [0,9,8,7,6],\n",
        "        [5,4,3,2,1]\n",
        "    ]\n",
        ")\n",
        "\n",
        "print(a[0:2, 1:4])"
      ],
      "metadata": {
        "colab": {
          "base_uri": "https://localhost:8080/"
        },
        "id": "PUk_1edwfcXF",
        "outputId": "f5e5e897-de6d-47ca-de7c-ace571bb09f9"
      },
      "execution_count": null,
      "outputs": [
        {
          "output_type": "stream",
          "name": "stdout",
          "text": [
            "[[9 8 7]\n",
            " [4 3 2]]\n"
          ]
        }
      ]
    },
    {
      "cell_type": "code",
      "source": [
        "#Slicing 3D Array\n",
        "\n",
        "import numpy as np\n",
        "\n",
        "a = np.array(\n",
        "  [\n",
        "    [\n",
        "        [0,9,8,7,6],\n",
        "        [5,4,3,2,1]\n",
        "    ],\n",
        "    [\n",
        "        [5,4,3,2,1],\n",
        "        [0,9,8,7,6]\n",
        "    ]\n",
        "  ]\n",
        "\n",
        ")\n",
        "\n",
        "print(a[1,0,1:4])"
      ],
      "metadata": {
        "colab": {
          "base_uri": "https://localhost:8080/"
        },
        "id": "KtB7a436gCSm",
        "outputId": "fcb84633-53ed-49fc-8eee-7fd2f0d1fb66"
      },
      "execution_count": null,
      "outputs": [
        {
          "output_type": "stream",
          "name": "stdout",
          "text": [
            "[4 3 2]\n"
          ]
        }
      ]
    },
    {
      "cell_type": "code",
      "source": [
        "import numpy as np\n",
        "\n",
        "a = np.array([0,9,8,7,6])\n",
        "x = a.copy()\n",
        "a[0] = 1\n",
        "\n",
        "print('Original', a)\n",
        "print('Copy', x)\n",
        "\n",
        "\n",
        "x = a.view()\n",
        "x[0] = 1 # view does not own the data and any changes made to the view will affect the original array\n",
        "\n",
        "print('Original', a)\n",
        "print('View', x)\n",
        "\n",
        "y=a.copy()\n",
        "print('Copy returns', x.base)\n",
        "print('View returns', y.base)\n",
        "\n"
      ],
      "metadata": {
        "id": "f2cVM7mq8QTu",
        "outputId": "bda63fea-8ed9-4e1c-f028-9879a7e2496c",
        "colab": {
          "base_uri": "https://localhost:8080/"
        }
      },
      "execution_count": 10,
      "outputs": [
        {
          "output_type": "stream",
          "name": "stdout",
          "text": [
            "Original [1 9 8 7 6]\n",
            "Copy [0 9 8 7 6]\n",
            "Original [1 9 8 7 6]\n",
            "View [1 9 8 7 6]\n",
            "Copy returns [1 9 8 7 6]\n",
            "View returns None\n"
          ]
        }
      ]
    }
  ]
}
