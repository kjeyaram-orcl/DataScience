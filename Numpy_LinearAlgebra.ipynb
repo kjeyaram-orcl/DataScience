{
  "nbformat": 4,
  "nbformat_minor": 0,
  "metadata": {
    "colab": {
      "provenance": [],
      "authorship_tag": "ABX9TyNvD2FVzh00OXRAzRSDxWSO",
      "include_colab_link": true
    },
    "kernelspec": {
      "name": "python3",
      "display_name": "Python 3"
    },
    "language_info": {
      "name": "python"
    }
  },
  "cells": [
    {
      "cell_type": "markdown",
      "metadata": {
        "id": "view-in-github",
        "colab_type": "text"
      },
      "source": [
        "<a href=\"https://colab.research.google.com/github/kjeyaram-orcl/DataScience/blob/main/Numpy_LinearAlgebra.ipynb\" target=\"_parent\"><img src=\"https://colab.research.google.com/assets/colab-badge.svg\" alt=\"Open In Colab\"/></a>"
      ]
    },
    {
      "cell_type": "markdown",
      "source": [
        "#Numpy Linear Algebra"
      ],
      "metadata": {
        "id": "ZDyjGrOn2XeQ"
      }
    },
    {
      "cell_type": "code",
      "source": [
        "#Declaring a vector in Python using NumPy\n",
        "\n",
        "import numpy as np\n",
        "v = np.array([3, 2])\n",
        "print(v)\n"
      ],
      "metadata": {
        "colab": {
          "base_uri": "https://localhost:8080/"
        },
        "id": "7uWPurmIcwft",
        "outputId": "2578aa49-cc0c-43f4-e601-f7d0c41cac48"
      },
      "execution_count": null,
      "outputs": [
        {
          "output_type": "stream",
          "name": "stdout",
          "text": [
            "[3 2]\n"
          ]
        }
      ]
    },
    {
      "cell_type": "code",
      "source": [
        "#Adding and Combining Vectors\n",
        "\n",
        "from numpy import array\n",
        "\n",
        "v = array([3, 2])\n",
        "w = array([2, -1])\n",
        "\n",
        "# sum the vectors\n",
        "v_plus_w = v + w\n",
        "\n",
        "# display summed vector\n",
        "print(v_plus_w) # [5, 1]"
      ],
      "metadata": {
        "colab": {
          "base_uri": "https://localhost:8080/"
        },
        "id": "Z-dQBb8L27bl",
        "outputId": "53ce2b02-755b-48f6-b13e-78a9f948c2a2"
      },
      "execution_count": null,
      "outputs": [
        {
          "output_type": "stream",
          "name": "stdout",
          "text": [
            "[5 1]\n"
          ]
        }
      ]
    },
    {
      "cell_type": "code",
      "source": [
        "#Scaling Vectors\n",
        "from numpy import array\n",
        "\n",
        "v = array([3,1])\n",
        "\n",
        "# scale the vector\n",
        "scaled_v = 2.0 * v\n",
        "\n",
        "# display scaled vector\n",
        "print(scaled_v) # [6 2]"
      ],
      "metadata": {
        "colab": {
          "base_uri": "https://localhost:8080/"
        },
        "id": "MeyPL6dXdCCF",
        "outputId": "4ce395ba-cdec-4c1f-9efc-0c3051811386"
      },
      "execution_count": null,
      "outputs": [
        {
          "output_type": "stream",
          "name": "stdout",
          "text": [
            "[6. 2.]\n"
          ]
        }
      ]
    },
    {
      "cell_type": "code",
      "source": [
        "#Scaled down by factor of .5\n",
        "\n",
        "from numpy import array\n",
        "\n",
        "v = array([3,1])\n",
        "\n",
        "# scale the vector\n",
        "scaled_v = 0.5 * v\n",
        "\n",
        "# display scaled vector\n",
        "print(scaled_v) # [6 2]\n",
        "\n"
      ],
      "metadata": {
        "colab": {
          "base_uri": "https://localhost:8080/"
        },
        "id": "bVts8tXqIOfU",
        "outputId": "25c2f828-b68c-48b0-f93b-987dfaa86613"
      },
      "execution_count": null,
      "outputs": [
        {
          "output_type": "stream",
          "name": "stdout",
          "text": [
            "[1.5 0.5]\n"
          ]
        }
      ]
    },
    {
      "cell_type": "code",
      "source": [
        "#Linear Transformation, Transforming a vector using NumPy\n",
        "\n",
        "from numpy import array\n",
        "\n",
        "# Declare i-hat and j-hat\n",
        "i_hat_x = array([2, 3])\n",
        "j_hat_y = array([2, -1])\n",
        "\n",
        "# compose basis matrix using i-hat and j-hat also need to transpose rows into columns\n",
        "basis = array([i_hat_x, j_hat_y]).transpose()\n",
        "\n",
        "# declare vector v 0\n",
        "v = array([2,1])\n",
        "\n",
        "# create new vector by transforming v with dot product\n",
        "new_v = basis.dot(v)\n",
        "\n",
        "print(new_v) # [6, 5]"
      ],
      "metadata": {
        "colab": {
          "base_uri": "https://localhost:8080/"
        },
        "id": "cdaKVsftbygh",
        "outputId": "4f78d510-0683-4ed6-de8a-aedec0b1c100"
      },
      "execution_count": null,
      "outputs": [
        {
          "output_type": "stream",
          "name": "stdout",
          "text": [
            "[6 5]\n"
          ]
        }
      ]
    },
    {
      "cell_type": "code",
      "source": [
        "#Combining two transformations\n",
        "\n",
        "from numpy import array\n",
        "\n",
        "# Transformation 1 (to rotate vector)\n",
        "i_hat1 = array([0, 1])\n",
        "j_hat1 = array([-1, 0])\n",
        "transform1 = array([i_hat1, j_hat1]).transpose()\n",
        "\n",
        "# Transformation 2 (to sheer vector)\n",
        "i_hat2 = array([1, 0])\n",
        "j_hat2 = array([1, 1])\n",
        "transform2 = array([i_hat2, j_hat2]).transpose()\n",
        "\n",
        "# Combine Transformations, apply sheer first and then rotation\n",
        "combined = transform1 @ transform2\n",
        "\n",
        "# Test\n",
        "print(\"COMBINED MATRIX:\\n {}\".format(combined))\n",
        "\n",
        "v = array([1, 2])\n",
        "print(combined.dot(v)) # [-2, 3]\n",
        "\n",
        "# we can also do it seperately\n",
        "s=transform2.dot(v) # sheer\n",
        "r=transform1.dot(s) # rotate\n",
        "print(\"Sheer \", s) # [3, 2]\n",
        "print(\"And then Rotate \", r) # [-2, 3]"
      ],
      "metadata": {
        "colab": {
          "base_uri": "https://localhost:8080/"
        },
        "id": "TQHayfZZtAoO",
        "outputId": "53e9985b-30d8-4c8e-83c3-a07a3938d409"
      },
      "execution_count": null,
      "outputs": [
        {
          "output_type": "stream",
          "name": "stdout",
          "text": [
            "COMBINED MATRIX:\n",
            " [[ 0 -1]\n",
            " [ 1  1]]\n",
            "[-2  3]\n",
            "Sheer  [3 2]\n",
            "And then Rotate  [-2  3]\n"
          ]
        }
      ]
    },
    {
      "cell_type": "code",
      "source": [
        "# Applying the transformations in reverse ie., 1st rotate and then Sheer\n",
        "from numpy import array\n",
        "\n",
        "# Transformation 1\n",
        "i_hat1 = array([0, 1])\n",
        "j_hat1 = array([-1, 0])\n",
        "transform1 = array([i_hat1, j_hat1]).transpose()\n",
        "\n",
        "# Transformation 2\n",
        "i_hat2 = array([1, 0])\n",
        "j_hat2 = array([1, 1])\n",
        "transform2 = array([i_hat2, j_hat2]).transpose()\n",
        "\n",
        "# Combine Transformations\n",
        "combined = transform2 @ transform1\n",
        "\n",
        "# Test\n",
        "print(\"COMBINED MATRIX:\\n {}\".format(combined))\n",
        "\n",
        "v = array([1, 2])\n",
        "print(combined.dot(v))  # [-1, 1]\n",
        "\n",
        "\n",
        "# we can also do it seperately\n",
        "r=transform1.dot(v) # rotate\n",
        "s=transform2.dot(r) # sheer\n",
        "print(\"Rotate \", r) # [-2, 1]\n",
        "print(\"And then Sheer \", s) # [-1, 1]\n",
        "\n"
      ],
      "metadata": {
        "colab": {
          "base_uri": "https://localhost:8080/"
        },
        "id": "iwxaJJuiwUTx",
        "outputId": "7c8eee8c-0641-4bc7-aea3-58600eae278d"
      },
      "execution_count": null,
      "outputs": [
        {
          "output_type": "stream",
          "name": "stdout",
          "text": [
            "COMBINED MATRIX:\n",
            " [[ 1 -1]\n",
            " [ 1  0]]\n",
            "[-1  1]\n",
            "Rotate  [-2  1]\n",
            "And then Sheer  [-1  1]\n"
          ]
        }
      ]
    },
    {
      "cell_type": "code",
      "source": [
        "from numpy.linalg import det\n",
        "from numpy import array\n",
        "\n",
        "# 0 determinant means linear dependence\n",
        "# 1 simple shear scaled determinant\n",
        "# > 1 scaled\n",
        "# Negative determinant - scaled and flipped\n",
        "\n",
        "i_hat = array([-2, 1])\n",
        "j_hat = array([3, -1.5])\n",
        "\n",
        "basis = array([i_hat, j_hat]).transpose()\n",
        "\n",
        "determinant = det(basis)\n",
        "\n",
        "print(determinant) # prints 0.0"
      ],
      "metadata": {
        "id": "vYGDxBcirGgZ"
      },
      "execution_count": null,
      "outputs": []
    },
    {
      "cell_type": "code",
      "source": [
        "import numpy as np\n",
        "\n",
        "#compute the determinant of 3x3\n",
        "\n",
        "a = np.array([\n",
        "    [6,1,1],\n",
        "    [4,-2,5],\n",
        "    [2,8,7]\n",
        "    ])\n",
        "result = np.linalg.det(a)\n",
        "print(result)"
      ],
      "metadata": {
        "colab": {
          "base_uri": "https://localhost:8080/"
        },
        "id": "Fr-TXe0x8hvO",
        "outputId": "63e936f9-e6cf-4208-bf1b-adf2439f82fc"
      },
      "execution_count": null,
      "outputs": [
        {
          "output_type": "stream",
          "name": "stdout",
          "text": [
            "-306.0\n"
          ]
        }
      ]
    },
    {
      "cell_type": "code",
      "source": [
        "# Inverse 2x2 Matrix\n",
        "from sympy import *\n",
        "\n",
        "A = Matrix([\n",
        "    [4, 7],\n",
        "    [2, 6]\n",
        "])\n",
        "\n",
        "X = A.inv()\n",
        "print (X)\n",
        "\n",
        "#Remember it must be true that: AA-1 = I\n",
        "\n",
        "X = A.inv() * A\n",
        "print (X) #Identity Matrix\n"
      ],
      "metadata": {
        "colab": {
          "base_uri": "https://localhost:8080/"
        },
        "id": "ITWqx3s_2eME",
        "outputId": "3e04b113-927c-4526-f62c-b5671073faf4"
      },
      "execution_count": null,
      "outputs": [
        {
          "output_type": "stream",
          "name": "stdout",
          "text": [
            "Matrix([[3/5, -7/10], [-1/5, 2/5]])\n",
            "Matrix([[1, 0], [0, 1]])\n"
          ]
        }
      ]
    },
    {
      "cell_type": "code",
      "source": [
        "from sympy import *\n",
        "\n",
        "# 4x + 2y + 4z = 44\n",
        "# 5x + 3y + 7z = 56\n",
        "# 9x + 3y + 6z = 72\n",
        "\n",
        "A = Matrix([\n",
        "    [4, 2, 4],\n",
        "    [5, 3, 7],\n",
        "    [9, 3, 6]\n",
        "])\n",
        "\n",
        "B = Matrix([\n",
        "    44,\n",
        "    56,\n",
        "    72\n",
        "])\n",
        "\n",
        "#AX=B -> X=B/A == X=B*A-1\n",
        "\n",
        "X = A.inv() * B\n",
        "\n",
        "print(X) #So x = 2, y = 34, and z = –8\n"
      ],
      "metadata": {
        "colab": {
          "base_uri": "https://localhost:8080/"
        },
        "id": "6cNal5R76fn5",
        "outputId": "d4fc650b-164e-465d-d2b2-75d2b87bd0ea"
      },
      "execution_count": null,
      "outputs": [
        {
          "output_type": "stream",
          "name": "stdout",
          "text": [
            "Matrix([[2], [34], [-8]])\n"
          ]
        }
      ]
    },
    {
      "cell_type": "code",
      "source": [
        "import numpy as np\n",
        "\n",
        "#Eigenvector and Eigenvalue\n",
        "#Av = λv -> Lambda(EigenValues), v(EigenVector), A (Matrix)\n",
        "\n",
        "\n",
        "from numpy import array, diag\n",
        "from numpy.linalg import eig, inv\n",
        "\n",
        "A = array([\n",
        "    [-6, 3],\n",
        "    [4, 5]\n",
        "])\n",
        "\n",
        "eigenvals, eigenvecs = eig(A)\n",
        "\n",
        "print(\"EIGENVALUES\")\n",
        "print(eigenvals)\n",
        "print(\"\\nEIGENVECTORS\")\n",
        "print(eigenvecs)\n",
        "\n"
      ],
      "metadata": {
        "colab": {
          "base_uri": "https://localhost:8080/"
        },
        "id": "nelDYxET46RM",
        "outputId": "79f7ca12-58f2-4f2f-abf1-207a06071b3a"
      },
      "execution_count": 1,
      "outputs": [
        {
          "output_type": "stream",
          "name": "stdout",
          "text": [
            "EIGENVALUES\n",
            "[-7.  6.]\n",
            "\n",
            "EIGENVECTORS\n",
            "[[-0.9486833  -0.24253563]\n",
            " [ 0.31622777 -0.9701425 ]]\n"
          ]
        }
      ]
    }
  ]
}