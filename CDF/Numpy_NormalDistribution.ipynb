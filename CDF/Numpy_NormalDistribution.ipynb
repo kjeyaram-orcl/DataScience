{
  "nbformat": 4,
  "nbformat_minor": 0,
  "metadata": {
    "colab": {
      "provenance": [],
      "authorship_tag": "ABX9TyNTplJ9F9Oj9yoN0op7CevG",
      "include_colab_link": true
    },
    "kernelspec": {
      "name": "python3",
      "display_name": "Python 3"
    },
    "language_info": {
      "name": "python"
    }
  },
  "cells": [
    {
      "cell_type": "markdown",
      "metadata": {
        "id": "view-in-github",
        "colab_type": "text"
      },
      "source": [
        "<a href=\"https://colab.research.google.com/github/kjeyaram-orcl/DataScience/blob/main/CDF/Numpy_NormalDistribution.ipynb\" target=\"_parent\"><img src=\"https://colab.research.google.com/assets/colab-badge.svg\" alt=\"Open In Colab\"/></a>"
      ]
    },
    {
      "cell_type": "code",
      "execution_count": 1,
      "metadata": {
        "colab": {
          "base_uri": "https://localhost:8080/",
          "height": 662
        },
        "id": "jdZzfg5pVPHb",
        "outputId": "90ac4041-7328-4be8-d635-d931d2afb2af"
      },
      "outputs": [
        {
          "output_type": "stream",
          "name": "stdout",
          "text": [
            "[[ 0.85141432  0.96115264  0.23365229]\n",
            " [-0.76080209  0.51908247 -0.93295856]]\n"
          ]
        },
        {
          "output_type": "stream",
          "name": "stderr",
          "text": [
            "<ipython-input-1-054e8ab63c75>:6: UserWarning: \n",
            "\n",
            "`distplot` is a deprecated function and will be removed in seaborn v0.14.0.\n",
            "\n",
            "Please adapt your code to use either `displot` (a figure-level function with\n",
            "similar flexibility) or `histplot` (an axes-level function for histograms).\n",
            "\n",
            "For a guide to updating your code to use the new functions, please see\n",
            "https://gist.github.com/mwaskom/de44147ed2974457ad6372750bbe5751\n",
            "\n",
            "  sns.distplot(x, hist=True)\n"
          ]
        },
        {
          "output_type": "display_data",
          "data": {
            "text/plain": [
              "<Figure size 640x480 with 1 Axes>"
            ],
            "image/png": "[encoded data removed]"
          },
          "metadata": {}
        }
      ],
      "source": [
        "from numpy import random\n",
        "import matplotlib.pyplot as plt\n",
        "import seaborn as sns\n",
        "x = random.normal(loc=0,scale=1,size=(2, 3))\n",
        "print(x)\n",
        "sns.distplot(x, hist=True)\n",
        "plt.show()"
      ]
    },
    {
      "cell_type": "code",
      "source": [
        "# Percentage of Students who got less than 60 marks\n",
        "\n",
        "from scipy.stats import norm\n",
        "import numpy as np\n",
        "\n",
        "# Given information\n",
        "mean = 78\n",
        "std_dev = 25\n",
        "total_students = 100\n",
        "score = 60\n",
        "\n",
        "# Calculate z-score for 60\n",
        "z_score = (score - mean) / std_dev\n",
        "print(z_score)\n",
        "\n",
        "# Calculate the probability of getting a score less than 60\n",
        "prob = norm.cdf(z_score)\n",
        "print(prob)\n",
        "\n",
        "# Calculate the percentage of students who got less than 60 marks\n",
        "percent = prob * 100\n",
        "\n",
        "# Print the result\n",
        "print(\"Percentage of students who got less than 60 marks:\", round(percent, 2), \"%\")"
      ],
      "metadata": {
        "colab": {
          "base_uri": "https://localhost:8080/"
        },
        "id": "3PS5FubtZG2f",
        "outputId": "507ecbd5-3633-4794-8dd2-c8b8b52f27e2"
      },
      "execution_count": 4,
      "outputs": [
        {
          "output_type": "stream",
          "name": "stdout",
          "text": [
            "-0.72\n",
            "0.23576249777925118\n",
            "Percentage of students who got less than 60 marks: 23.58 %\n"
          ]
        }
      ]
    },
    {
      "cell_type": "code",
      "source": [
        "#Percentage of Students who have scored More than 70\n",
        "\n",
        "from scipy.stats import norm\n",
        "import numpy as np\n",
        "\n",
        "# Given information\n",
        "mean = 78\n",
        "std_dev = 25\n",
        "total_students = 100\n",
        "score = 70\n",
        "\n",
        "# Calculate z-score for 70\n",
        "z_score = (score - mean) / std_dev\n",
        "print(z_score)\n",
        "\n",
        "# Calculate the probability of getting a more than 70\n",
        "prob = norm.cdf(z_score)\n",
        "print(prob)\n",
        "\n",
        "# Calculate the percentage of students who got more than 70 marks\n",
        "percent = (1-prob) * 100\n",
        "\n",
        "\n",
        "# Print the result\n",
        "print(\"Percentage of students who got more than 70 marks: \", round(percent, 2), \" %\")"
      ],
      "metadata": {
        "colab": {
          "base_uri": "https://localhost:8080/"
        },
        "id": "AHzoRaw1anb5",
        "outputId": "c1d3d245-ae8a-45d4-fcae-2854780b7c17"
      },
      "execution_count": 6,
      "outputs": [
        {
          "output_type": "stream",
          "name": "stdout",
          "text": [
            "-0.32\n",
            "0.37448416527667994\n",
            "Percentage of students who got more than 70 marks:  62.55  %\n"
          ]
        }
      ]
    },
    {
      "cell_type": "code",
      "source": [
        "#Percentage of Students who have scored More than 75 and less than 85\n",
        "\n",
        "from scipy.stats import norm\n",
        "import numpy as np\n",
        "\n",
        "# Given information\n",
        "mean = 78\n",
        "std_dev = 25\n",
        "total_students = 100\n",
        "min_score = 75\n",
        "max_score = 85\n",
        "\n",
        "# Calculate z-score for 75\n",
        "z_min_score = (min_score - mean) / std_dev\n",
        "print(z_min_score)\n",
        "\n",
        "# Calculate z-score for 85\n",
        "z_max_score = (max_score - mean) / std_dev\n",
        "print(z_max_score)\n",
        "\n",
        "# Calculate the probability of getting less than 70\n",
        "min_prob = norm.cdf(z_min_score)\n",
        "print(min_prob)\n",
        "\n",
        "# Calculate the probability of getting  less than 85\n",
        "max_prob = norm.cdf(z_max_score)\n",
        "print(max_prob)\n",
        "\n",
        "percent = (max_prob-min_prob) * 100\n",
        "\n",
        "# Print the result\n",
        "print(\"Percentage of students who got marks between 75 and 85 is\", round(percent, 2), \"%\")"
      ],
      "metadata": {
        "colab": {
          "base_uri": "https://localhost:8080/"
        },
        "id": "gTVUKi0HbjXh",
        "outputId": "c6c80c3a-dddf-404d-f400-c0bc943d1575"
      },
      "execution_count": 8,
      "outputs": [
        {
          "output_type": "stream",
          "name": "stdout",
          "text": [
            "-0.12\n",
            "0.28\n",
            "0.45224157397941617\n",
            "0.6102612475557972\n",
            "Percentage of students who got marks between 75 and 85 is 15.8 %\n"
          ]
        }
      ]
    },
    {
      "cell_type": "code",
      "source": [
        "# How many Students have scored More than 85\n",
        "\n",
        "from scipy.stats import norm\n",
        "import numpy as np\n",
        "\n",
        "# Given information\n",
        "mean = 78\n",
        "std_dev = 25\n",
        "total_students = 100\n",
        "score = 85\n",
        "\n",
        "# Calculate z-score for 70\n",
        "z_score = (score - mean) / std_dev\n",
        "print(z_score)\n",
        "\n",
        "# Calculate the probability of getting a more than 85\n",
        "prob = norm.cdf(z_score)\n",
        "print(prob)\n",
        "\n",
        "# Calculate the percentage of students who got more than 85 marks\n",
        "percent = (1-prob) * 100\n",
        "\n",
        "\n",
        "\n",
        "# Print the result\n",
        "print(\" There are\", round((percent/100)*total_students), \"Students who have scored More than 85\" )\n"
      ],
      "metadata": {
        "colab": {
          "base_uri": "https://localhost:8080/"
        },
        "id": "qpRFlBPbscWJ",
        "outputId": "1c5ca539-2a38-4e2b-dd50-6bdcd8e75d91"
      },
      "execution_count": 25,
      "outputs": [
        {
          "output_type": "stream",
          "name": "stdout",
          "text": [
            "0.28\n",
            "0.6102612475557972\n",
            " There are 39 Students who have scored More than 85\n"
          ]
        }
      ]
    }
  ]
}