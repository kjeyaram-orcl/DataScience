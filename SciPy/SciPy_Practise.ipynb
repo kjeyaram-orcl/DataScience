{
  "nbformat": 4,
  "nbformat_minor": 0,
  "metadata": {
    "colab": {
      "provenance": [],
      "authorship_tag": "ABX9TyNk4IdZcB/ydOMplO/YuUR2",
      "include_colab_link": true
    },
    "kernelspec": {
      "name": "python3",
      "display_name": "Python 3"
    },
    "language_info": {
      "name": "python"
    }
  },
  "cells": [
    {
      "cell_type": "markdown",
      "metadata": {
        "id": "view-in-github",
        "colab_type": "text"
      },
      "source": [
        "<a href=\"https://colab.research.google.com/github/kjeyaram-orcl/DataScience/blob/main/SciPy/SciPy_Practise.ipynb\" target=\"_parent\"><img src=\"https://colab.research.google.com/assets/colab-badge.svg\" alt=\"Open In Colab\"/></a>"
      ]
    },
    {
      "cell_type": "markdown",
      "source": [
        "#Special Function"
      ],
      "metadata": {
        "id": "zfvT4XhhXO2r"
      }
    },
    {
      "cell_type": "code",
      "execution_count": null,
      "metadata": {
        "colab": {
          "base_uri": "https://localhost:8080/"
        },
        "id": "cfD_ZuyUTxZw",
        "outputId": "94e57e1c-818b-4813-c15d-77348c8c7437"
      },
      "outputs": [
        {
          "output_type": "stream",
          "name": "stdout",
          "text": [
            "[3. 4.]\n"
          ]
        }
      ],
      "source": [
        "from scipy.special import cbrt as cb\n",
        "\n",
        "#Find cubic root of 27 & 64 using cbrt() function\n",
        "\n",
        "res = cb([27, 64])\n",
        "\n",
        "print(res)"
      ]
    },
    {
      "cell_type": "code",
      "source": [
        "from scipy.special import exp2\n",
        "\n",
        "#define exp2 function and pass value in its\n",
        "\n",
        "res = exp2([2,3])\n",
        "\n",
        "print(res)"
      ],
      "metadata": {
        "colab": {
          "base_uri": "https://localhost:8080/"
        },
        "id": "zdW7-DrQXK2K",
        "outputId": "772594c5-cb68-4d5e-d2c1-13357ff9a719"
      },
      "execution_count": null,
      "outputs": [
        {
          "output_type": "stream",
          "name": "stdout",
          "text": [
            "[4. 8.]\n"
          ]
        }
      ]
    },
    {
      "cell_type": "code",
      "source": [
        "from scipy import special\n",
        "\n",
        "res = special.sindg(90)\n",
        "print(res)\n",
        "\n",
        "res = special.cosdg(45)\n",
        "print(res)"
      ],
      "metadata": {
        "colab": {
          "base_uri": "https://localhost:8080/"
        },
        "id": "ofDxgdWHXk03",
        "outputId": "c5173eda-e11a-4ccc-d791-617001979630"
      },
      "execution_count": null,
      "outputs": [
        {
          "output_type": "stream",
          "name": "stdout",
          "text": [
            "1.0\n",
            "0.7071067811865475\n"
          ]
        }
      ]
    },
    {
      "cell_type": "code",
      "source": [
        "import numpy as np\n",
        "from scipy.special import perm\n",
        "from scipy.special import comb\n",
        "\n",
        "\n",
        "k = np.array([3, 4])\n",
        "n = np.array([10, 10])\n",
        "\n",
        "print(perm(n, k )) # Permutation Formula n!/(n-k)!\n",
        "\n",
        "com = comb(16, 3, exact = True, repetition=False) # Combination Formula n!/k!(n-k)!\n",
        "print(com)\n",
        "\n"
      ],
      "metadata": {
        "colab": {
          "base_uri": "https://localhost:8080/"
        },
        "id": "g6EoaTdNarqx",
        "outputId": "c35efbc6-1102-4dea-ae90-956ba96f107e"
      },
      "execution_count": null,
      "outputs": [
        {
          "output_type": "stream",
          "name": "stdout",
          "text": [
            "[ 720. 5040.]\n",
            "560\n"
          ]
        }
      ]
    },
    {
      "cell_type": "markdown",
      "source": [
        "#Linear Equation"
      ],
      "metadata": {
        "id": "IH-R3PYCH1RR"
      }
    },
    {
      "cell_type": "code",
      "source": [
        "#Linear Equation\n",
        "import numpy as np\n",
        "from scipy import linalg\n",
        "\n",
        "# We are trying to solve a linear algebra system which can be given as\n",
        "#         2x + 3y = 13\n",
        "#         x - 2y = -4\n",
        "\n",
        "#We will find values of x,y and z for which all these equations are zero\n",
        "#Also finally we will check if the values are right by substituting them\n",
        "#in the equations\n",
        "# Creating input array\n",
        "a = np.array([[2, 3], [1, -2]])\n",
        "# Solution Array\n",
        "b = np.array([[13], [-4]])\n",
        "# Solve the linear algebra\n",
        "x = linalg.solve(a, b)\n",
        "# Print results\n",
        "print(x)\n",
        "print(\"\\n Checking results,must be zeros\")\n",
        "print(a.dot(x) - b)"
      ],
      "metadata": {
        "id": "rbgNdnWBHxzs",
        "outputId": "ce835a76-0797-41bb-9563-de9be1235052",
        "colab": {
          "base_uri": "https://localhost:8080/"
        }
      },
      "execution_count": 2,
      "outputs": [
        {
          "output_type": "stream",
          "name": "stdout",
          "text": [
            "[[2.]\n",
            " [3.]]\n",
            "\n",
            " Checking results,must be zeros\n",
            "[[0.]\n",
            " [0.]]\n"
          ]
        }
      ]
    },
    {
      "cell_type": "markdown",
      "source": [
        "#Linear Algebra"
      ],
      "metadata": {
        "id": "iPCzvqnzqWTg"
      }
    },
    {
      "cell_type": "code",
      "source": [
        "#Calculate determinant of a two-dimensional matrix\n",
        "\n",
        "from scipy import linalg\n",
        "import numpy as np\n",
        "\n",
        "#define square matrix\n",
        "two_d_array = np.array([ [4,5], [3,2] ])\n",
        "\n",
        "#pass values to det() function\n",
        "linalg.det( two_d_array ) #((4*2)-(5*3))\n"
      ],
      "metadata": {
        "colab": {
          "base_uri": "https://localhost:8080/"
        },
        "id": "4SJ9yfCbqZtn",
        "outputId": "9ef5f9ff-aa25-4a19-835c-83d9a47a4680"
      },
      "execution_count": null,
      "outputs": [
        {
          "output_type": "execute_result",
          "data": {
            "text/plain": [
              "-7.0"
            ]
          },
          "metadata": {},
          "execution_count": 25
        }
      ]
    },
    {
      "cell_type": "code",
      "source": [
        "#calculate Inverse of 2x2 Matrix\n",
        "\n",
        "from scipy import linalg\n",
        "import numpy as np\n",
        "# define square matrix\n",
        "two_d_array = np.array([ [4,7], [2,6] ])\n",
        "#pass value to function inv()\n",
        "linalg.inv( two_d_array )\n"
      ],
      "metadata": {
        "colab": {
          "base_uri": "https://localhost:8080/"
        },
        "id": "Ad3L3rSvr33g",
        "outputId": "b6e31ff5-4831-4e89-a20c-c9d1c6621544"
      },
      "execution_count": null,
      "outputs": [
        {
          "output_type": "execute_result",
          "data": {
            "text/plain": [
              "array([[ 0.6, -0.7],\n",
              "       [-0.2,  0.4]])"
            ]
          },
          "metadata": {},
          "execution_count": 26
        }
      ]
    },
    {
      "cell_type": "code",
      "source": [
        "from scipy import linalg\n",
        "import numpy as np\n",
        "arr = np.array([[-6,3],[4,5]])\n",
        "eg_val, eg_vect = linalg.eig(arr)\n",
        "print('eigenvalues \\n', eg_val)\n",
        "print('eigenvectors \\n', eg_vect)"
      ],
      "metadata": {
        "colab": {
          "base_uri": "https://localhost:8080/"
        },
        "id": "FJDbsKkfCV4D",
        "outputId": "604c175c-83a9-4f74-ab23-e552663de908"
      },
      "execution_count": null,
      "outputs": [
        {
          "output_type": "stream",
          "name": "stdout",
          "text": [
            "eigenvalues \n",
            " [-7.+0.j  6.+0.j]\n",
            "eigenvectors \n",
            " [[-0.9486833  -0.24253563]\n",
            " [ 0.31622777 -0.9701425 ]]\n"
          ]
        }
      ]
    },
    {
      "cell_type": "markdown",
      "source": [
        "#Linear Regression"
      ],
      "metadata": {
        "id": "02djoFuTz2eh"
      }
    },
    {
      "cell_type": "code",
      "source": [
        "#simple linear regression\n",
        "import numpy as np\n",
        "import matplotlib.pyplot as plt\n",
        "from scipy import stats\n",
        "\n",
        "x = np.array([2,4,6,8])\n",
        "y = np.array([3,7,5,10])\n",
        "\n",
        "res = stats.linregress(x, y)\n",
        "\n",
        "print(res.slope, res.intercept)\n",
        "\n",
        "plt.plot(x, y, 'o', label='original data')\n",
        "plt.plot(x, res.intercept + res.slope*x, 'r', label='fitted line')\n",
        "plt.legend()\n",
        "plt.show()\n"
      ],
      "metadata": {
        "colab": {
          "base_uri": "https://localhost:8080/",
          "height": 447
        },
        "id": "WuWogf7yz5m7",
        "outputId": "d46bf4ee-a044-40e6-dded-8c4deab80176"
      },
      "execution_count": null,
      "outputs": [
        {
          "output_type": "stream",
          "name": "stdout",
          "text": [
            "0.95 1.5\n"
          ]
        },
        {
          "output_type": "display_data",
          "data": {
            "text/plain": [
              "<Figure size 640x480 with 1 Axes>"
            ],
            "image/png": "[encoded data removed]"
          },
          "metadata": {}
        }
      ]
    },
    {
      "cell_type": "markdown",
      "source": [
        "#Mini Project"
      ],
      "metadata": {
        "id": "AJHS2GyPzrOb"
      }
    },
    {
      "cell_type": "code",
      "source": [
        "text = 'Hello Zaira'\n",
        "shift = 3\n",
        "\n",
        "def caeser(message, offset):\n",
        "    alphabet = 'abcdefghijklmnopqrstuvwxyz'\n",
        "    encrypted_text = ''\n",
        "    for char in message.lower():\n",
        "        if char == ' ':\n",
        "            encrypted_text += char\n",
        "        else:\n",
        "            index = alphabet.find(char)\n",
        "            new_index = (index + offset) % len(alphabet)\n",
        "            encrypted_text += alphabet[new_index]\n",
        "    print('plain text:', message)\n",
        "    print('encrypted text:', encrypted_text)\n",
        "\n",
        "caeser(text,shift)\n",
        "caeser(text,13)"
      ],
      "metadata": {
        "colab": {
          "base_uri": "https://localhost:8080/"
        },
        "id": "9ZdZofJ78y1C",
        "outputId": "bf13380d-40e0-4ab5-8416-d39fcaee112c"
      },
      "execution_count": null,
      "outputs": [
        {
          "output_type": "stream",
          "name": "stdout",
          "text": [
            "plain text: Hello Zaira\n",
            "encrypted text: khoor cdlud\n",
            "plain text: Hello Zaira\n",
            "encrypted text: uryyb mnven\n"
          ]
        }
      ]
    }
  ]
}