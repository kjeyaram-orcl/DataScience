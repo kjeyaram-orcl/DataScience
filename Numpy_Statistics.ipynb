{
  "nbformat": 4,
  "nbformat_minor": 0,
  "metadata": {
    "colab": {
      "provenance": [],
      "authorship_tag": "ABX9TyM9hrGcUhDfvPAie7wIXWTu",
      "include_colab_link": true
    },
    "kernelspec": {
      "name": "python3",
      "display_name": "Python 3"
    },
    "language_info": {
      "name": "python"
    }
  },
  "cells": [
    {
      "cell_type": "markdown",
      "metadata": {
        "id": "view-in-github",
        "colab_type": "text"
      },
      "source": [
        "<a href=\"https://colab.research.google.com/github/kjeyaram-orcl/DataScience/blob/main/Numpy_Statistics.ipynb\" target=\"_parent\"><img src=\"https://colab.research.google.com/assets/colab-badge.svg\" alt=\"Open In Colab\"/></a>"
      ]
    },
    {
      "cell_type": "markdown",
      "source": [
        "#Numpy Statistics"
      ],
      "metadata": {
        "id": "HV_UgJF7PuYc"
      }
    },
    {
      "cell_type": "code",
      "execution_count": 5,
      "metadata": {
        "colab": {
          "base_uri": "https://localhost:8080/"
        },
        "id": "splgA3lBNAmh",
        "outputId": "e9b1394b-dddf-405e-bee0-87bd6d83b329"
      },
      "outputs": [
        {
          "output_type": "stream",
          "name": "stdout",
          "text": [
            "3.5\n",
            "[6.5 4.5 2.5]\n",
            "[[6.5 4.5 2.5]]\n",
            "[7. 2.]\n"
          ]
        }
      ],
      "source": [
        "import numpy as np\n",
        "\n",
        "a = np.array([\n",
        "    [10, 7, 4],\n",
        "    [3, 2, 1]\n",
        "    ])\n",
        "\n",
        "print(np.median(a))\n",
        "print(np.median(a, axis=0))\n",
        "print(np.median(a, axis=0,keepdims=True))\n",
        "print(np.median(a, axis=1))\n"
      ]
    },
    {
      "cell_type": "code",
      "source": [
        "import numpy as np\n",
        "\n",
        "a = np.array([[1, 2, 3], [4, 5, 6]])\n",
        "\n",
        "print(np.std(a)) # flattened\n",
        "print(np.std(a, axis=0)) #along rows\n",
        "print(np.std(a, axis=1)) #along columns\n",
        "print(np.std(a, where=[[False], [True]])) #Elements to include in the standard deviation\n"
      ],
      "metadata": {
        "colab": {
          "base_uri": "https://localhost:8080/"
        },
        "id": "DEe5e8SjGytp",
        "outputId": "721614d9-e9ac-4ee5-8ccd-1ca3e0c9860d"
      },
      "execution_count": 19,
      "outputs": [
        {
          "output_type": "stream",
          "name": "stdout",
          "text": [
            "1.707825127659933\n",
            "[1.5 1.5 1.5]\n",
            "[0.81649658 0.81649658]\n",
            "0.816496580927726\n"
          ]
        }
      ]
    },
    {
      "cell_type": "code",
      "source": [
        "import numpy as np\n",
        "\n",
        "a = np.array([[1, 2, 3], [4, 5, 6]])\n",
        "\n",
        "print(np.var(a)) # flattened\n",
        "print(np.var(a, axis=0)) #along rows\n",
        "print(np.var(a, axis=1)) #along columns\n"
      ],
      "metadata": {
        "colab": {
          "base_uri": "https://localhost:8080/"
        },
        "id": "VHuSw3hySx1E",
        "outputId": "bec92569-a6ec-466b-906f-ab8490e42f72"
      },
      "execution_count": 22,
      "outputs": [
        {
          "output_type": "stream",
          "name": "stdout",
          "text": [
            "2.9166666666666665\n",
            "[2.25 2.25 2.25]\n",
            "[0.66666667 0.66666667]\n"
          ]
        }
      ]
    },
    {
      "cell_type": "code",
      "source": [
        "#Consider the list {50, 45, 60, 25, 30}. Find the 50th percentiles of the list given.\n",
        "#Given list – 50, 45, 60, 25, 30\n",
        "#Ordered list – 25, 30, 45, 50, 60\n",
        "\n",
        "import numpy as np\n",
        "\n",
        "a=np.array([50, 45, 60, 25, 30])\n",
        "\n",
        "print(np.percentile(a,50))"
      ],
      "metadata": {
        "colab": {
          "base_uri": "https://localhost:8080/"
        },
        "id": "n0UODSHgUF2N",
        "outputId": "ddd12510-5a18-4bb0-e9da-d7de25973734"
      },
      "execution_count": 27,
      "outputs": [
        {
          "output_type": "stream",
          "name": "stdout",
          "text": [
            "45.0\n"
          ]
        }
      ]
    },
    {
      "cell_type": "code",
      "source": [
        "import numpy as np\n",
        "\n",
        "a = np.array([2,6,9,15,17,22,65,1,62])\n",
        "\n",
        "min_val = np.min(a) # find the minimum value of the array\n",
        "\n",
        "max_val = np.max(a) # find the maximum value of the array\n",
        "\n",
        "print(\"Minimum value:\", min_val)\n",
        "print(\"Maximum value:\", max_val)"
      ],
      "metadata": {
        "colab": {
          "base_uri": "https://localhost:8080/"
        },
        "id": "aAtIfUKgYt73",
        "outputId": "09fa6edb-a8cf-458c-a31f-0153a8875331"
      },
      "execution_count": 28,
      "outputs": [
        {
          "output_type": "stream",
          "name": "stdout",
          "text": [
            "Minimum value: 1\n",
            "Maximum value: 65\n"
          ]
        }
      ]
    }
  ]
}