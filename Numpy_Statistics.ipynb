{
  "nbformat": 4,
  "nbformat_minor": 0,
  "metadata": {
    "colab": {
      "provenance": [],
      "authorship_tag": "ABX9TyPH1rX00J5GVVEty/L1VEts",
      "include_colab_link": true
    },
    "kernelspec": {
      "name": "python3",
      "display_name": "Python 3"
    },
    "language_info": {
      "name": "python"
    }
  },
  "cells": [
    {
      "cell_type": "markdown",
      "metadata": {
        "id": "view-in-github",
        "colab_type": "text"
      },
      "source": [
        "<a href=\"https://colab.research.google.com/github/kjeyaram-orcl/DataScience/blob/main/Numpy_Statistics.ipynb\" target=\"_parent\"><img src=\"https://colab.research.google.com/assets/colab-badge.svg\" alt=\"Open In Colab\"/></a>"
      ]
    },
    {
      "cell_type": "markdown",
      "source": [
        "#Numpy Statistics"
      ],
      "metadata": {
        "id": "HV_UgJF7PuYc"
      }
    },
    {
      "cell_type": "code",
      "execution_count": 5,
      "metadata": {
        "colab": {
          "base_uri": "https://localhost:8080/"
        },
        "id": "splgA3lBNAmh",
        "outputId": "e9b1394b-dddf-405e-bee0-87bd6d83b329"
      },
      "outputs": [
        {
          "output_type": "stream",
          "name": "stdout",
          "text": [
            "3.5\n",
            "[6.5 4.5 2.5]\n",
            "[[6.5 4.5 2.5]]\n",
            "[7. 2.]\n"
          ]
        }
      ],
      "source": [
        "import numpy as np\n",
        "\n",
        "a = np.array([\n",
        "    [10, 7, 4],\n",
        "    [3, 2, 1]\n",
        "    ])\n",
        "\n",
        "print(np.median(a))\n",
        "print(np.median(a, axis=0))\n",
        "print(np.median(a, axis=0,keepdims=True))\n",
        "print(np.median(a, axis=1))\n"
      ]
    },
    {
      "cell_type": "code",
      "source": [
        "import numpy as np\n",
        "\n",
        "a = np.array([[1, 2, 3], [4, 5, 6]])\n",
        "\n",
        "print(np.std(a)) # flattened\n",
        "print(np.std(a, axis=0)) #along rows\n",
        "print(np.std(a, axis=1)) #along columns\n",
        "print(np.std(a, where=[[False], [True]])) #Elements to include in the standard deviation\n"
      ],
      "metadata": {
        "colab": {
          "base_uri": "https://localhost:8080/"
        },
        "id": "DEe5e8SjGytp",
        "outputId": "721614d9-e9ac-4ee5-8ccd-1ca3e0c9860d"
      },
      "execution_count": 19,
      "outputs": [
        {
          "output_type": "stream",
          "name": "stdout",
          "text": [
            "1.707825127659933\n",
            "[1.5 1.5 1.5]\n",
            "[0.81649658 0.81649658]\n",
            "0.816496580927726\n"
          ]
        }
      ]
    },
    {
      "cell_type": "code",
      "source": [],
      "metadata": {
        "id": "4p4bziDNInYz"
      },
      "execution_count": null,
      "outputs": []
    }
  ]
}