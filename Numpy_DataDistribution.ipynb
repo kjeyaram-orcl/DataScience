{
  "nbformat": 4,
  "nbformat_minor": 0,
  "metadata": {
    "colab": {
      "provenance": [],
      "authorship_tag": "ABX9TyMkM4F8MXOxTKb03HenCtih",
      "include_colab_link": true
    },
    "kernelspec": {
      "name": "python3",
      "display_name": "Python 3"
    },
    "language_info": {
      "name": "python"
    }
  },
  "cells": [
    {
      "cell_type": "markdown",
      "metadata": {
        "id": "view-in-github",
        "colab_type": "text"
      },
      "source": [
        "<a href=\"https://colab.research.google.com/github/kjeyaram-orcl/DataScience/blob/main/Numpy_DataDistribution.ipynb\" target=\"_parent\"><img src=\"https://colab.research.google.com/assets/colab-badge.svg\" alt=\"Open In Colab\"/></a>"
      ]
    },
    {
      "cell_type": "code",
      "execution_count": 10,
      "metadata": {
        "colab": {
          "base_uri": "https://localhost:8080/"
        },
        "id": "9chUUUaJ7y20",
        "outputId": "356c7221-7862-404a-9cc1-e7ea9832c18d"
      },
      "outputs": [
        {
          "output_type": "stream",
          "name": "stdout",
          "text": [
            "[4 6 8 4 8 4 4 4 4 6 2 6 4 6 4 4 6 6 8 6]\n"
          ]
        }
      ],
      "source": [
        "#Create 1-D array containing 20 values, where each value has to be 2, 4, 6 or 8\n",
        "from numpy import random\n",
        "\n",
        "x = random.choice([2, 4, 6, 8], p=[0.1, 0.3, 0.4, 0.2], size=(20))\n",
        "\n",
        "print(x)"
      ]
    },
    {
      "cell_type": "code",
      "source": [
        "#Create 3-D array containing 20 values, where each value has to be 2, 4, 6 or 8\n",
        "\n",
        "from numpy import random\n",
        "\n",
        "x = random.choice([2, 4, 6, 8], p=[0.1, 0.3, 0.4, 0.2], size=(2,2,5))\n",
        "\n",
        "print(x)"
      ],
      "metadata": {
        "colab": {
          "base_uri": "https://localhost:8080/"
        },
        "id": "znwoNzMVQuV9",
        "outputId": "c94219d1-51fa-49e2-c890-fbc98c4ffae3"
      },
      "execution_count": 9,
      "outputs": [
        {
          "output_type": "stream",
          "name": "stdout",
          "text": [
            "[[[6 6 6 6 4]\n",
            "  [4 8 6 6 4]]\n",
            "\n",
            " [[8 4 2 4 4]\n",
            "  [8 4 6 6 6]]]\n"
          ]
        }
      ]
    }
  ]
}