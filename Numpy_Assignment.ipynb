{
  "nbformat": 4,
  "nbformat_minor": 0,
  "metadata": {
    "colab": {
      "provenance": [],
      "authorship_tag": "ABX9TyPx7qaQeL2PT/AtptJutLuf",
      "include_colab_link": true
    },
    "kernelspec": {
      "name": "python3",
      "display_name": "Python 3"
    },
    "language_info": {
      "name": "python"
    }
  },
  "cells": [
    {
      "cell_type": "markdown",
      "metadata": {
        "id": "view-in-github",
        "colab_type": "text"
      },
      "source": [
        "<a href=\"https://colab.research.google.com/github/kjeyaram-orcl/DataScience/blob/main/Numpy_Assignment.ipynb\" target=\"_parent\"><img src=\"https://colab.research.google.com/assets/colab-badge.svg\" alt=\"Open In Colab\"/></a>"
      ]
    },
    {
      "cell_type": "code",
      "execution_count": null,
      "metadata": {
        "colab": {
          "base_uri": "https://localhost:8080/"
        },
        "id": "FiYrLF0O2mbV",
        "outputId": "d2e83a3c-bc6f-4296-abaf-4922834ad255"
      },
      "outputs": [
        {
          "output_type": "stream",
          "name": "stdout",
          "text": [
            "[2 4]\n"
          ]
        }
      ],
      "source": [
        "import numpy as np\n",
        "\n",
        "x=np.array([1,2])\n",
        "y=np.array([1,2])\n",
        "sum=np.add(x,y)\n",
        "print (sum)\n"
      ]
    },
    {
      "cell_type": "code",
      "source": [
        "import numpy as np\n",
        "a=np.arange(6).reshape((2,3))\n",
        "a"
      ],
      "metadata": {
        "colab": {
          "base_uri": "https://localhost:8080/"
        },
        "id": "0Do5UorP3Pzi",
        "outputId": "58aeef61-f98e-4973-cf59-c8cdf0f84f22"
      },
      "execution_count": null,
      "outputs": [
        {
          "output_type": "execute_result",
          "data": {
            "text/plain": [
              "array([[0, 1, 2],\n",
              "       [3, 4, 5]])"
            ]
          },
          "metadata": {},
          "execution_count": 10
        }
      ]
    },
    {
      "cell_type": "code",
      "source": [
        "a=np.array([[0,1],[2,3]])\n",
        "a"
      ],
      "metadata": {
        "colab": {
          "base_uri": "https://localhost:8080/"
        },
        "id": "4NSytCx2FRKA",
        "outputId": "842a9000-fe85-4a38-e4e3-74991c1d66ff"
      },
      "execution_count": null,
      "outputs": [
        {
          "output_type": "execute_result",
          "data": {
            "text/plain": [
              "array([[0, 1],\n",
              "       [2, 3]])"
            ]
          },
          "metadata": {},
          "execution_count": 11
        }
      ]
    },
    {
      "cell_type": "code",
      "source": [
        "b=np.resize(a,(2,8))\n",
        "b"
      ],
      "metadata": {
        "colab": {
          "base_uri": "https://localhost:8080/",
          "height": 197
        },
        "id": "Bj0KSldeFU3H",
        "outputId": "090f8b2b-4006-44c0-a86a-13fbc9635353"
      },
      "execution_count": null,
      "outputs": [
        {
          "output_type": "error",
          "ename": "NameError",
          "evalue": "ignored",
          "traceback": [
            "\u001b[0;31m---------------------------------------------------------------------------\u001b[0m",
            "\u001b[0;31mNameError\u001b[0m                                 Traceback (most recent call last)",
            "\u001b[0;32m<ipython-input-1-b2301b3963ce>\u001b[0m in \u001b[0;36m<cell line: 1>\u001b[0;34m()\u001b[0m\n\u001b[0;32m----> 1\u001b[0;31m \u001b[0mb\u001b[0m\u001b[0;34m=\u001b[0m\u001b[0mnp\u001b[0m\u001b[0;34m.\u001b[0m\u001b[0mresize\u001b[0m\u001b[0;34m(\u001b[0m\u001b[0ma\u001b[0m\u001b[0;34m,\u001b[0m\u001b[0;34m(\u001b[0m\u001b[0;36m2\u001b[0m\u001b[0;34m,\u001b[0m\u001b[0;36m8\u001b[0m\u001b[0;34m)\u001b[0m\u001b[0;34m)\u001b[0m\u001b[0;34m\u001b[0m\u001b[0;34m\u001b[0m\u001b[0m\n\u001b[0m\u001b[1;32m      2\u001b[0m \u001b[0mb\u001b[0m\u001b[0;34m\u001b[0m\u001b[0;34m\u001b[0m\u001b[0m\n",
            "\u001b[0;31mNameError\u001b[0m: name 'np' is not defined"
          ]
        }
      ]
    },
    {
      "cell_type": "code",
      "source": [
        "import numpy as np\n",
        "\n",
        "#create 3×3 Matrix and make it as 3×4 matrix\n",
        "\n",
        "a = np.array([\n",
        "    [1,2,3],\n",
        "    [4,5,6],\n",
        "    [7,8,9]\n",
        "])\n",
        "print(a)\n",
        "a_new=np.resize(a,(3,4)) # resize returns new array filled with repeated copies of a\n",
        "print(a_new)\n"
      ],
      "metadata": {
        "colab": {
          "base_uri": "https://localhost:8080/"
        },
        "id": "TxX3PWXkl_IS",
        "outputId": "6989b8d8-070e-4a6c-8d2f-83ffcf8802e8"
      },
      "execution_count": null,
      "outputs": [
        {
          "output_type": "stream",
          "name": "stdout",
          "text": [
            "[[1 2 3]\n",
            " [4 5 6]\n",
            " [7 8 9]]\n",
            "[[1 2 3 4]\n",
            " [5 6 7 8]\n",
            " [9 1 2 3]]\n"
          ]
        }
      ]
    },
    {
      "cell_type": "code",
      "source": [
        "import numpy as np\n",
        "\n",
        "#8x8 matrix pattern using numpy with 1 for black and 0 for white\n",
        "\n",
        "a=np.full((4, 8), [0,1,0,1,0,1,0,1])\n",
        "print(\"Create 4x8 filled with 0 & 1\")\n",
        "print(a)\n",
        "b=np.full((4, 8), [1,0,1,0,1,0,1,0])\n",
        "print(\"Create 4x8 filled with 1 & 0\")\n",
        "print(b)\n",
        "c=np.concatenate((a, b),axis=1)\n",
        "print(\"concatenate a & b along row axis\")\n",
        "print (c)\n",
        "d=c.reshape(8,8)\n",
        "print(\"Reshape without changing data\")\n",
        "print(d)"
      ],
      "metadata": {
        "colab": {
          "base_uri": "https://localhost:8080/"
        },
        "id": "fpn17z2krQ2d",
        "outputId": "ce4203a6-91cb-4d45-ee94-64bf2cdc9bf5"
      },
      "execution_count": null,
      "outputs": [
        {
          "output_type": "stream",
          "name": "stdout",
          "text": [
            "Create 4x8 filled with 0 & 1\n",
            "[[0 1 0 1 0 1 0 1]\n",
            " [0 1 0 1 0 1 0 1]\n",
            " [0 1 0 1 0 1 0 1]\n",
            " [0 1 0 1 0 1 0 1]]\n",
            "Create 4x8 filled with 1 & 0\n",
            "[[1 0 1 0 1 0 1 0]\n",
            " [1 0 1 0 1 0 1 0]\n",
            " [1 0 1 0 1 0 1 0]\n",
            " [1 0 1 0 1 0 1 0]]\n",
            "concatenate a & b along row axis\n",
            "[[0 1 0 1 0 1 0 1 1 0 1 0 1 0 1 0]\n",
            " [0 1 0 1 0 1 0 1 1 0 1 0 1 0 1 0]\n",
            " [0 1 0 1 0 1 0 1 1 0 1 0 1 0 1 0]\n",
            " [0 1 0 1 0 1 0 1 1 0 1 0 1 0 1 0]]\n",
            "Reshape without changing data\n",
            "[[0 1 0 1 0 1 0 1]\n",
            " [1 0 1 0 1 0 1 0]\n",
            " [0 1 0 1 0 1 0 1]\n",
            " [1 0 1 0 1 0 1 0]\n",
            " [0 1 0 1 0 1 0 1]\n",
            " [1 0 1 0 1 0 1 0]\n",
            " [0 1 0 1 0 1 0 1]\n",
            " [1 0 1 0 1 0 1 0]]\n"
          ]
        }
      ]
    },
    {
      "cell_type": "code",
      "source": [
        "import numpy as np\n",
        "a=np.full((8, 8), [0,1,0,1,0,1,0,1])\n",
        "print(\"Create 4x8 filled with 0 & 1\")\n",
        "print(\"Before\")\n",
        "print(a)\n",
        "#print(a[1::2,::2])\n",
        "a[1::2,::2]=1\n",
        "#print(a[1::2,1::2])\n",
        "print(\"After\")\n",
        "a[1::2,1::2]=0\n",
        "print(a)\n",
        "\n",
        "\n"
      ],
      "metadata": {
        "colab": {
          "base_uri": "https://localhost:8080/"
        },
        "id": "LOf8P8InsAS0",
        "outputId": "2cb2dd97-20df-41d7-e900-221f2bc2ee0f"
      },
      "execution_count": 36,
      "outputs": [
        {
          "output_type": "stream",
          "name": "stdout",
          "text": [
            "Create 4x8 filled with 0 & 1\n",
            "Before\n",
            "[[0 1 0 1 0 1 0 1]\n",
            " [0 1 0 1 0 1 0 1]\n",
            " [0 1 0 1 0 1 0 1]\n",
            " [0 1 0 1 0 1 0 1]\n",
            " [0 1 0 1 0 1 0 1]\n",
            " [0 1 0 1 0 1 0 1]\n",
            " [0 1 0 1 0 1 0 1]\n",
            " [0 1 0 1 0 1 0 1]]\n",
            "After\n",
            "[[0 1 0 1 0 1 0 1]\n",
            " [1 0 1 0 1 0 1 0]\n",
            " [0 1 0 1 0 1 0 1]\n",
            " [1 0 1 0 1 0 1 0]\n",
            " [0 1 0 1 0 1 0 1]\n",
            " [1 0 1 0 1 0 1 0]\n",
            " [0 1 0 1 0 1 0 1]\n",
            " [1 0 1 0 1 0 1 0]]\n"
          ]
        }
      ]
    },
    {
      "cell_type": "code",
      "source": [
        "import numpy as np\n",
        "a=np.array([\n",
        "  [0,9,8,7],\n",
        "  [6,5,4,3],\n",
        "  [2,1,0,9],\n",
        "  [8,7,6,5]\n",
        "])\n",
        "print(a)\n",
        "print(a[1::2,::2])\n",
        "a[1::2,::2]=1\n",
        "print(a)"
      ],
      "metadata": {
        "colab": {
          "base_uri": "https://localhost:8080/"
        },
        "id": "rxtCj12H7G_G",
        "outputId": "ce019bf7-564d-4974-85ea-31a2ddb1512c"
      },
      "execution_count": 18,
      "outputs": [
        {
          "output_type": "stream",
          "name": "stdout",
          "text": [
            "[[0 9 8 7]\n",
            " [6 5 4 3]\n",
            " [2 1 0 9]\n",
            " [8 7 6 5]]\n",
            "[[6 4]\n",
            " [8 6]]\n",
            "[[0 9 8 7]\n",
            " [1 5 1 3]\n",
            " [2 1 0 9]\n",
            " [1 7 1 5]]\n"
          ]
        }
      ]
    }
  ]
}