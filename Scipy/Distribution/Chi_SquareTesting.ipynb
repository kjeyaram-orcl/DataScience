{
  "nbformat": 4,
  "nbformat_minor": 0,
  "metadata": {
    "colab": {
      "provenance": [],
      "authorship_tag": "ABX9TyNvFCG9j4E9Kj8YsGLqzChd",
      "include_colab_link": true
    },
    "kernelspec": {
      "name": "python3",
      "display_name": "Python 3"
    },
    "language_info": {
      "name": "python"
    }
  },
  "cells": [
    {
      "cell_type": "markdown",
      "metadata": {
        "id": "view-in-github",
        "colab_type": "text"
      },
      "source": [
        "<a href=\"https://colab.research.google.com/github/kjeyaram-orcl/DataScience/blob/main/Scipy/Distribution/Chi_SquareTesting.ipynb\" target=\"_parent\"><img src=\"https://colab.research.google.com/assets/colab-badge.svg\" alt=\"Open In Colab\"/></a>"
      ]
    },
    {
      "cell_type": "markdown",
      "source": [
        "#Goodness of Fit"
      ],
      "metadata": {
        "id": "aLp2LW2noDAS"
      }
    },
    {
      "cell_type": "code",
      "execution_count": null,
      "metadata": {
        "colab": {
          "base_uri": "https://localhost:8080/"
        },
        "id": "mTJH-sc_nqJz",
        "outputId": "28e2ac6c-dab5-4146-bd8b-9029afd27eba"
      },
      "outputs": [
        {
          "output_type": "stream",
          "name": "stdout",
          "text": [
            "Power_divergenceResult(statistic=4.359999999999999, pvalue=0.3594720674366307)\n",
            "Fail to reject the null hypothesis.\n"
          ]
        }
      ],
      "source": [
        "from scipy.stats import chisquare\n",
        "\n",
        "#H0: An equal number of customers come into the shop each day.\n",
        "#H1: An equal number of customers do not come into the shop each day.\n",
        "\n",
        "obs = [50, 60, 40, 47, 53]\n",
        "exp = [50, 50, 50, 50, 50]\n",
        "\n",
        "res = chisquare(obs,exp)\n",
        "\n",
        "print (res)\n",
        "\n",
        "if(res[1] <= 0.05):\n",
        "  print(\"Reject the null hypothesis. An equal number of customers come into the shop each day.\")\n",
        "else:\n",
        "  print(\"Fail to reject the null hypothesis. An equal number of customers do not come into the shop each day.\")\n"
      ]
    },
    {
      "cell_type": "markdown",
      "source": [
        "#Test of Independence"
      ],
      "metadata": {
        "id": "N195IpVcrm-k"
      }
    },
    {
      "cell_type": "code",
      "source": [
        "from scipy.stats import chi2_contingency\n",
        "import numpy as np\n",
        "\n",
        "#H0: Gender and political party preference are independent.\n",
        "#H1: Gender and political party preference are not independent.\n",
        "\n",
        "tab_data = np.array([\n",
        "              [120, 90, 40],\n",
        "              [110, 95, 45]\n",
        "          ])\n",
        "\n",
        "res=chi2_contingency(tab_data)\n",
        "print(res)\n",
        "\n",
        "if(res[1] <= 0.05):\n",
        "  print(\"Reject the null hypothesis. Gender and political party preference are not independent.\")\n",
        "else:\n",
        "  print(\"Fail to reject the null hypothesis. Gender and political party preference are independent.\")\n"
      ],
      "metadata": {
        "colab": {
          "base_uri": "https://localhost:8080/"
        },
        "id": "d7nMcr_UroUx",
        "outputId": "589d4223-ba64-4c1c-b421-b357b278d31c"
      },
      "execution_count": 23,
      "outputs": [
        {
          "output_type": "stream",
          "name": "stdout",
          "text": [
            "Chi2ContingencyResult(statistic=0.8640353908896108, pvalue=0.6491978887380976, dof=2, expected_freq=array([[115. ,  92.5,  42.5],\n",
            "       [115. ,  92.5,  42.5]]))\n",
            "Fail to reject the null hypothesis. Gender and political party preference are independent.\n"
          ]
        }
      ]
    },
    {
      "cell_type": "code",
      "source": [
        "import scipy.stats as stats\n",
        "import seaborn as sns\n",
        "import pandas as pd\n",
        "import numpy as np\n",
        "\n",
        "df=sns.load_dataset('tips')\n",
        "ds=pd.crosstab(df['sex'],df['smoker'])\n",
        "\n",
        "#H0: There is a relation btw sex and smoker.\n",
        "#H1: There is no relation btw sex and smoker.\n",
        "\n",
        "\n",
        "#Extract observed values from the dataset\n",
        "Observed_Values = ds.values\n",
        "print(\"Observed Values :-\\n\",Observed_Values)\n",
        "\n",
        "#calculate expected values from the dataset\n",
        "Expected_Values=stats.chi2_contingency(ds)\n",
        "print(\"Expected Values :-\\n\",Expected_Values[3])\n",
        "\n",
        "chi_square=sum([(o-e)**2./e for o,e in zip(Observed_Values,Expected_Values[3])])\n",
        "print(\"Chi-Square Values :-\\n\", chi_square)\n",
        "\n",
        "chi_square_stat = chi_square[0] + chi_square[1]\n",
        "print(\"Chi-Square Statistics :-\\n\", chi_square_stat)\n",
        "\n",
        "#find degree of freedom\n",
        "rows=len(ds.iloc[0:2,0])\n",
        "columns=len(ds.iloc[0,0:2])\n",
        "dof=(rows-1)*(columns-1)\n",
        "print(\"Degree of Freedom:- \",dof)\n",
        "\n",
        "#Leve of signifiance\n",
        "alpha = 0.05\n",
        "print(\"alpha:- \",alpha)\n",
        "\n",
        "critical_value=chi2.ppf(q=1-alpha,df=dof)\n",
        "print('critical_value:- ',critical_value)\n",
        "\n",
        "p_value=1-chi2.cdf(x=chi_square_stat,df=dof)\n",
        "print('probability_value:- ',p_value)\n",
        "\n",
        "#comparing probability value method\n",
        "if (p_value <= alpha):\n",
        "  print(\"Reject null hypothesis. There is no relationship btw sex and smoker\")\n",
        "else:\n",
        "  print(\"Fail to reject null hypothesis. There is a relationship btw sex and smoker\")\n",
        "\n",
        "#comparing stats value method\n",
        "if (chi_square_stat >= critical_value):\n",
        "  print(\"Reject null hypothesis. There is no relationship btw sex and smoker\")\n",
        "else:\n",
        "  print(\"Fail to reject null hypothesis. There is a relationship btw sex and smoker\")"
      ],
      "metadata": {
        "id": "ZSu9Kpt2f_EJ",
        "outputId": "bec0be8e-85db-4fec-baf7-3a6b13ad2e81",
        "colab": {
          "base_uri": "https://localhost:8080/"
        }
      },
      "execution_count": 41,
      "outputs": [
        {
          "output_type": "stream",
          "name": "stdout",
          "text": [
            "Observed Values :-\n",
            " [[60 97]\n",
            " [33 54]]\n",
            "Expected Values :-\n",
            " [[59.84016393 97.15983607]\n",
            " [33.15983607 53.84016393]]\n",
            "Chi-Square Values :-\n",
            " [0.00119737 0.00073745]\n",
            "Chi-Square Statistics :-\n",
            " 0.001934818536627623\n",
            "Degree of Freedom:-  1\n",
            "alpha:-  0.05\n",
            "critical_value:-  3.841458820694124\n",
            "probability_value:-  0.964915107315732\n",
            "Fail to reject null hypothesis. There is a relationship btw sex and smoker\n",
            "Fail to reject null hypothesis. There is a relationship btw sex and smoker\n"
          ]
        }
      ]
    }
  ]
}