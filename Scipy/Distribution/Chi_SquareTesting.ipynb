{
  "nbformat": 4,
  "nbformat_minor": 0,
  "metadata": {
    "colab": {
      "provenance": [],
      "authorship_tag": "ABX9TyOUMHNNiWUaFO0W5jhrLJhl",
      "include_colab_link": true
    },
    "kernelspec": {
      "name": "python3",
      "display_name": "Python 3"
    },
    "language_info": {
      "name": "python"
    }
  },
  "cells": [
    {
      "cell_type": "markdown",
      "metadata": {
        "id": "view-in-github",
        "colab_type": "text"
      },
      "source": [
        "<a href=\"https://colab.research.google.com/github/kjeyaram-orcl/DataScience/blob/main/Scipy/Distribution/Chi_SquareTesting.ipynb\" target=\"_parent\"><img src=\"https://colab.research.google.com/assets/colab-badge.svg\" alt=\"Open In Colab\"/></a>"
      ]
    },
    {
      "cell_type": "code",
      "execution_count": null,
      "metadata": {
        "id": "mTJH-sc_nqJz"
      },
      "outputs": [],
      "source": [
        "exp = [90, 90, 90, 90, 90]\n",
        "obs = [40, 70, 60, 50, 85]"
      ]
    }
  ]
}