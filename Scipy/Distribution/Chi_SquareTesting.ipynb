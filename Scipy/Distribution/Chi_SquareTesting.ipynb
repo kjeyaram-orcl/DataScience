{
  "nbformat": 4,
  "nbformat_minor": 0,
  "metadata": {
    "colab": {
      "provenance": [],
      "authorship_tag": "ABX9TyM1CJE3h6vyITqmMdZfAytU",
      "include_colab_link": true
    },
    "kernelspec": {
      "name": "python3",
      "display_name": "Python 3"
    },
    "language_info": {
      "name": "python"
    }
  },
  "cells": [
    {
      "cell_type": "markdown",
      "metadata": {
        "id": "view-in-github",
        "colab_type": "text"
      },
      "source": [
        "<a href=\"https://colab.research.google.com/github/kjeyaram-orcl/DataScience/blob/main/Scipy/Distribution/Chi_SquareTesting.ipynb\" target=\"_parent\"><img src=\"https://colab.research.google.com/assets/colab-badge.svg\" alt=\"Open In Colab\"/></a>"
      ]
    },
    {
      "cell_type": "markdown",
      "source": [
        "#Goodness of Fit"
      ],
      "metadata": {
        "id": "aLp2LW2noDAS"
      }
    },
    {
      "cell_type": "code",
      "execution_count": null,
      "metadata": {
        "colab": {
          "base_uri": "https://localhost:8080/"
        },
        "id": "mTJH-sc_nqJz",
        "outputId": "28e2ac6c-dab5-4146-bd8b-9029afd27eba"
      },
      "outputs": [
        {
          "output_type": "stream",
          "name": "stdout",
          "text": [
            "Power_divergenceResult(statistic=4.359999999999999, pvalue=0.3594720674366307)\n",
            "Fail to reject the null hypothesis.\n"
          ]
        }
      ],
      "source": [
        "from scipy.stats import chisquare\n",
        "\n",
        "#H0: An equal number of customers come into the shop each day.\n",
        "#H1: An equal number of customers do not come into the shop each day.\n",
        "\n",
        "obs = [50, 60, 40, 47, 53]\n",
        "exp = [50, 50, 50, 50, 50]\n",
        "\n",
        "res = chisquare(obs,exp)\n",
        "\n",
        "print (res)\n",
        "\n",
        "if(res[1] <= 0.05):\n",
        "  print(\"Reject the null hypothesis. An equal number of customers come into the shop each day.\")\n",
        "else:\n",
        "  print(\"Fail to reject the null hypothesis. An equal number of customers do not come into the shop each day.\")\n"
      ]
    },
    {
      "cell_type": "markdown",
      "source": [
        "#Test of Independence"
      ],
      "metadata": {
        "id": "N195IpVcrm-k"
      }
    },
    {
      "cell_type": "code",
      "source": [
        "from scipy.stats import chi2_contingency\n",
        "\n",
        "#H0: Gender and political party preference are independent.\n",
        "#H1: Gender and political party preference are not independent.\n",
        "\n",
        "tab_data = [[120, 90, 40],\n",
        "            [110, 95, 45]\n",
        "          ]\n",
        "\n",
        "res=chi2_contingency(tab_data)\n",
        "print(res)\n",
        "\n",
        "if(res[1] <= 0.05):\n",
        "  print(\"Reject the null hypothesis. Gender and political party preference are not independent.\")\n",
        "else:\n",
        "  print(\"Fail to reject the null hypothesis. Gender and political party preference are independent.\")\n"
      ],
      "metadata": {
        "colab": {
          "base_uri": "https://localhost:8080/"
        },
        "id": "d7nMcr_UroUx",
        "outputId": "650dc5d6-2b98-494c-f593-64d9c81e33a4"
      },
      "execution_count": 1,
      "outputs": [
        {
          "output_type": "stream",
          "name": "stdout",
          "text": [
            "Chi2ContingencyResult(statistic=0.8640353908896108, pvalue=0.6491978887380976, dof=2, expected_freq=array([[115. ,  92.5,  42.5],\n",
            "       [115. ,  92.5,  42.5]]))\n",
            "Fail to reject the null hypothesis. Gender and political party preference are independent.\n"
          ]
        }
      ]
    }
  ]
}