{
  "nbformat": 4,
  "nbformat_minor": 0,
  "metadata": {
    "colab": {
      "provenance": [],
      "authorship_tag": "ABX9TyM7oPsfO/yGO0ii6dzvJOkV",
      "include_colab_link": true
    },
    "kernelspec": {
      "name": "python3",
      "display_name": "Python 3"
    },
    "language_info": {
      "name": "python"
    }
  },
  "cells": [
    {
      "cell_type": "markdown",
      "metadata": {
        "id": "view-in-github",
        "colab_type": "text"
      },
      "source": [
        "<a href=\"https://colab.research.google.com/github/kjeyaram-orcl/DataScience/blob/main/Scipy/Distribution/HypothesisTesting.ipynb\" target=\"_parent\"><img src=\"https://colab.research.google.com/assets/colab-badge.svg\" alt=\"Open In Colab\"/></a>"
      ]
    },
    {
      "cell_type": "markdown",
      "source": [
        "# T - Test\n"
      ],
      "metadata": {
        "id": "pKV02ZrcV_No"
      }
    },
    {
      "cell_type": "code",
      "execution_count": 3,
      "metadata": {
        "colab": {
          "base_uri": "https://localhost:8080/"
        },
        "id": "j88fXeJPf9y3",
        "outputId": "cd3ec2fd-a785-4d71-fc49-97402cd0fcb1"
      },
      "outputs": [
        {
          "output_type": "stream",
          "name": "stdout",
          "text": [
            "TtestResult(statistic=-1.6848470783484626, pvalue=0.12014460742498101, df=11)\n"
          ]
        }
      ],
      "source": [
        "import numpy as np\n",
        "import scipy.stats as stats\n",
        "\n",
        "data=np.array([14, 14, 16, 13, 12, 17, 15, 14, 15, 13, 15, 14])\n",
        "\n",
        "#perform one sample t-test. Please note: it automatically calculate sample Size, Mean and Standard Deviation from the given data. Formula:[ (MEAN-15) / (SD/sqrt(n)) ]\n",
        "\n",
        "res = stats.ttest_1samp(a=data, popmean=15)\n",
        "\n",
        "print(res)\n",
        "\n",
        "# hypothesis\n",
        "#H0: µ = 15 (the mean height for this species of plant is 15 inches)\n",
        "#HA: µ ≠15 (the mean height is not 15 inches)\n",
        "\n"
      ]
    },
    {
      "cell_type": "markdown",
      "source": [
        "# Z - Test"
      ],
      "metadata": {
        "id": "-j2UnqbSWIyA"
      }
    },
    {
      "cell_type": "code",
      "source": [
        "#A researcher believes that there has been an increase in the average farm size in his state since the last study five years ago.\n",
        "#The previous study reported a mean size of 450 acres with a population standard deviation (σ) of 167 acres.\n",
        "#He samples 45 farms and gets a sample mean of 485.8 acres.\n",
        "#Is there enough information to support his claim?\n",
        "\n",
        "#Step 1) State the null and alternative hypotheses.\n",
        "# Ho: μ = 450 acres\n",
        "# H1: μ > 450 acres # A Right-Sided Test\n",
        "\n",
        "import numpy as np\n",
        "import random\n",
        "import scipy.stats as stats\n",
        "\n",
        "x=random.sample(range(449, 490), 15)\n",
        "data = np.array(x)\n",
        "print(\"Sample Data \" , data)\n",
        "\n",
        "pmean=450\n",
        "sd=167\n",
        "smean=np.mean(data)\n",
        "sample=len(data)\n",
        "los=0.05\n",
        "\n",
        "cr=stats.norm.ppf(los)\n",
        "print(\"critical region \" , cr )\n",
        "\n",
        "z_stat=(smean-pmean)/(sd/np.sqrt(sample))\n",
        "print(\"Z Stats \" , z_stat)\n",
        "\n",
        "if (z_stat < np.abs(cr)):\n",
        "  print(\"Fail to reject the null hypothesis. We do not have enough evidence to support the claim that the mean farm size has increased from 450 acres.\")\n",
        "else:\n",
        "  print(\"Reject the null hypothesis. We have enough evidence to support the claim that the mean farm size has increased from 450 acres.\")\n"
      ],
      "metadata": {
        "colab": {
          "base_uri": "https://localhost:8080/"
        },
        "id": "Dklwru0U2xzr",
        "outputId": "993073ce-40c3-4942-959d-f1397db2fb1f"
      },
      "execution_count": 31,
      "outputs": [
        {
          "output_type": "stream",
          "name": "stdout",
          "text": [
            "Sample Data  [467 477 466 479 459 468 469 472 452 462 487 471 465 456 483]\n",
            "critical region  -1.6448536269514729\n",
            "Z Stats  0.4375466215475846\n",
            "Fail to reject the null hypothesis. We do not have enough evidence to support the claim that the mean farm size has increased from 450 acres.\n"
          ]
        }
      ]
    },
    {
      "cell_type": "code",
      "source": [
        "#A researcher believes that there has been a reduction in the mean number of hours that college students spend preparing for final exams.\n",
        "#A national study stated that students at a 4-year college spend an average of 23 hours preparing for 5 final exams each semester with a population standard deviation of 7.3 hours.\n",
        "#The researcher sampled 227 students and found a sample mean study time of 19.6 hours.\n",
        "#Does this indicate that the average study time for final exams has decreased? Use a 1% level of significance to test this claim.\n",
        "\n",
        "pmean=23\n",
        "sd=7.3\n",
        "sample=227\n",
        "smean=19.6\n",
        "los=0.01\n",
        "\n",
        "#Step 1) State the null and alternative hypotheses.\n",
        "#Ho: μ = 23 hrs\n",
        "#Ha: μ < 23 hrs # A Left-Sided Test\n",
        "\n",
        "cr=stats.norm.ppf(los)\n",
        "print(\"critical region \" , cr )\n",
        "\n",
        "z_stat=(smean-pmean)/(sd/np.sqrt(sample))\n",
        "print(\"Z Stats \" , z_stat)\n",
        "\n",
        "if (z_stat < np.abs(cr)):\n",
        "    print(\"Reject the null hypothesis. We have sufficient evidence to support the claim that the mean final exam study time has decreased below 23 hours\")\n",
        "else:\n",
        "    print(\"Fail to reject the null hypothesis. We don't have sufficient evidence to support the claim that the mean final exam study time has decreased below 23 hours\")\n"
      ],
      "metadata": {
        "colab": {
          "base_uri": "https://localhost:8080/"
        },
        "id": "0xzuJAdOAaXn",
        "outputId": "a5958c83-96ab-46f7-a65b-713ae9f71af9"
      },
      "execution_count": 36,
      "outputs": [
        {
          "output_type": "stream",
          "name": "stdout",
          "text": [
            "critical region  -2.3263478740408408\n",
            "Z Stats  -7.017282902641893\n",
            "Reject the null hypothesis. We have sufficient evidence to support the claim that the mean final exam study time has decreased below 23 hours\n"
          ]
        }
      ]
    },
    {
      "cell_type": "code",
      "source": [
        "#A forester studying diameter growth of red pine believes that the mean diameter growth will be different from the known mean growth of 1.35 inches/year if a fertilization treatment is applied to the stand.\n",
        "#He conducts his experiment, collects data from a sample of 32 plots, and gets a sample mean diameter growth of 1.6 in./year.\n",
        "#The population standard deviation for this stand is known to be 0.46 in./year.\n",
        "#Does he have enough evidence to support his claim? Use a 5% level of significance to test this claim.\n",
        "\n",
        "pmean=1.35\n",
        "sd=0.46\n",
        "smean=1.6\n",
        "sample=32\n",
        "los=0.05/2 #it's two sided test so \"/\" by 2\n",
        "\n",
        "#Step 1) State the null and alternative hypotheses.\n",
        "#Ho: μ = 1.35 inches/year\n",
        "#Ha: μ ≠ 1.35 inches/year # A Two-Sided Test\n",
        "\n",
        "cr=stats.norm.ppf(los)\n",
        "print(\"critical region \" , cr )\n",
        "\n",
        "z_stat=(smean-pmean)/(sd/np.sqrt(sample))\n",
        "print(\"Z Stats \" , z_stat)\n",
        "\n",
        "if (z_stat < np.abs(cr)):\n",
        "  print(\"Fail to reject the null hypothesis. We don't have enough evidence to support the claim that the mean diameter growth is different from (not equal to) 1.35 inches/year.\")\n",
        "else:\n",
        "  print(\"Reject the null hypothesis. We have enough evidence to support the claim that the mean diameter growth is different from (not equal to) 1.35 inches/year \")\n",
        "\n"
      ],
      "metadata": {
        "colab": {
          "base_uri": "https://localhost:8080/"
        },
        "id": "yve2DQNGW_q1",
        "outputId": "4e02e179-6387-4910-9045-b8bb05929010"
      },
      "execution_count": 42,
      "outputs": [
        {
          "output_type": "stream",
          "name": "stdout",
          "text": [
            "critical region  -1.9599639845400545\n",
            "Z Stats  3.0743773095067284\n",
            "Reject the null hypothesis. We have enough evidence to support the claim that the mean diameter growth is different from (not equal to) 1.35 inches/year \n"
          ]
        }
      ]
    }
  ]
}