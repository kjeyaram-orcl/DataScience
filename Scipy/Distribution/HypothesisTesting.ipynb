{
  "nbformat": 4,
  "nbformat_minor": 0,
  "metadata": {
    "colab": {
      "provenance": [],
      "authorship_tag": "ABX9TyOvkRJ9wlj4N8KgYM1eW4xF",
      "include_colab_link": true
    },
    "kernelspec": {
      "name": "python3",
      "display_name": "Python 3"
    },
    "language_info": {
      "name": "python"
    }
  },
  "cells": [
    {
      "cell_type": "markdown",
      "metadata": {
        "id": "view-in-github",
        "colab_type": "text"
      },
      "source": [
        "<a href=\"https://colab.research.google.com/github/kjeyaram-orcl/DataScience/blob/main/Scipy/Distribution/HypothesisTesting.ipynb\" target=\"_parent\"><img src=\"https://colab.research.google.com/assets/colab-badge.svg\" alt=\"Open In Colab\"/></a>"
      ]
    },
    {
      "cell_type": "markdown",
      "source": [
        "# T - Test\n"
      ],
      "metadata": {
        "id": "pKV02ZrcV_No"
      }
    },
    {
      "cell_type": "code",
      "execution_count": 15,
      "metadata": {
        "colab": {
          "base_uri": "https://localhost:8080/"
        },
        "id": "j88fXeJPf9y3",
        "outputId": "6a028eb8-7b92-41ea-f21f-e461de254607"
      },
      "outputs": [
        {
          "output_type": "stream",
          "name": "stdout",
          "text": [
            "TtestResult(statistic=-1.6848470783484626, pvalue=0.12014460742498101, df=11)\n",
            "critical region  -2.200985160082949\n",
            "Fail to reject the null hypothesis. We do not have sufficient evidence to say that the mean height for this particular species of plant is different from 15 inches.\n"
          ]
        }
      ],
      "source": [
        "import numpy as np\n",
        "import scipy.stats as stats\n",
        "from scipy.stats import t\n",
        "\n",
        "data=np.array([14, 14, 16, 13, 12, 17, 15, 14, 15, 13, 15, 14])\n",
        "\n",
        "# perform one sample t-test. Please note: it automatically calculate sample Size, Mean and Standard Deviation from the given data.\n",
        "# Formula:[ (MEAN-15) / (SD/sqrt(n)) ]\n",
        "\n",
        "res = stats.ttest_1samp(a=data, popmean=15)\n",
        "\n",
        "print(res)\n",
        "\n",
        "# hypothesis\n",
        "#H0: µ = 15 (the mean height for this species of plant is 15 inches)\n",
        "#HA: µ ≠ 15 (the mean height is not 15 inches)\n",
        "\n",
        "los=0.05/2\n",
        "df=len(data)-1\n",
        "cr=t.ppf(los, df)\n",
        "print(\"critical region \" , cr )\n",
        "\n",
        "if (res[0] <= cr) :\n",
        "  print(\"Reject the null hypothesis. We have sufficient evidence to say that the mean height for this particular species of plant is different from 15 inches.\")\n",
        "else:\n",
        "  print (\"Fail to reject the null hypothesis. We do not have sufficient evidence to say that the mean height for this particular species of plant is different from 15 inches.\")\n"
      ]
    },
    {
      "cell_type": "code",
      "source": [
        "#Cadmium, a heavy metal, is toxic to animals. Mushrooms, however, are able to absorb and accumulate cadmium at high concentrations.\n",
        "#The government has set safety limits for cadmium in dry vegetables at 0.5 ppm. Biologists believe that the mean level of cadmium in mushrooms growing near strip mines is greater than the recommended limit of 0.5 ppm, negatively impacting the animals that live in this ecosystem.\n",
        "#A random sample of 51 mushrooms gave a sample mean of 0.59 ppm with a sample standard deviation of 0.29 ppm.\n",
        "#Use a 5% level of significance to test the claim that the mean cadmium level is greater than the acceptable limit of 0.5 ppm.\n",
        "#The sample size is greater than 30 so we are assured of a normal distribution of the means.\n",
        "\n",
        "#State the null and alternative hypotheses.\n",
        "#Ho: μ = 0.5 ppm\n",
        "#H1: μ > 0.5 ppm # A One-sided Test\n",
        "\n",
        "from scipy.stats import t\n",
        "\n",
        "smean=0.59\n",
        "pmean=0.50\n",
        "sd=0.29\n",
        "sample=51\n",
        "los=0.01\n",
        "df=sample-1\n",
        "\n",
        "#calculate t-value for the given los and df\n",
        "cr=t.ppf(los, df)\n",
        "print(\"critical region \" , cr )\n",
        "\n",
        "t_stat=(smean-pmean)/(sd/np.sqrt(sample))\n",
        "print(\"T Stats \" , t_stat)\n",
        "\n",
        "if (t_stat > np.abs(cr)):\n",
        "  print(\"Reject the null hypothesis. We have enough evidence to support the claim that the mean cadmium level is greater than the acceptable safe limit\")\n",
        "else:\n",
        "  print(\"Fail to reject the null hypothesis. We don't have enough evidence to support the claim that the mean cadmium level is greater than the acceptable safe limit\")\n"
      ],
      "metadata": {
        "colab": {
          "base_uri": "https://localhost:8080/"
        },
        "id": "yVdboVZRfU5I",
        "outputId": "6bb3da2d-90ec-43d1-a748-f44ed527b1ff"
      },
      "execution_count": null,
      "outputs": [
        {
          "output_type": "stream",
          "name": "stdout",
          "text": [
            "critical region  -2.4032719179351685\n",
            "T Stats  2.216305374375367\n",
            "Fail to reject the null hypothesis. We don't have enough evidence to support the claim that the mean cadmium level is greater than the acceptable safe limit\n"
          ]
        }
      ]
    },
    {
      "cell_type": "code",
      "source": [
        "#In 2005, the mean pH level of rain in a county in northern New York was 5.41.\n",
        "#A biologist believes that the rain acidity has changed. He takes a random sample of 11 rain dates in 2010 and obtains the following data.\n",
        "#Use a 1% level of significance to test his claim.\n",
        "#The sample mean is 5.343 with a sample standard deviation of 0.397.\n",
        "\n",
        "#State the null and alternative hypotheses.\n",
        "#Ho: μ = 5.41\n",
        "#H1: μ ≠ 5.41 # A Two-sided Test\n",
        "\n",
        "data=np.array([4.70, 5.63, 5.02, 5.78, 4.99, 5.91, 5.76, 5.54, 5.25, 5.18, 5.01])\n",
        "\n",
        "pmean=5.41\n",
        "sd=0.397\n",
        "smean=np.mean(data)\n",
        "sample=len(data)\n",
        "los=0.01/2\n",
        "df=sample-1\n",
        "\n",
        "#calculate t-value for the given los and df\n",
        "cr=t.ppf(los, df)\n",
        "print(\"critical region \" , cr )\n",
        "\n",
        "t_stat=(smean-pmean)/(sd/np.sqrt(sample))\n",
        "print(\"T Stats \" , t_stat)\n",
        "\n",
        "if ( t_stat > np.abs(cr)):\n",
        "  print(\"Reject the null hypothesis. We have enough evidence to support the claim that the mean rain pH has changed\")\n",
        "else:\n",
        "  print(\"Fail to reject the null hypothesis. We do not have enough evidence to support the claim that the mean rain pH has changed\")"
      ],
      "metadata": {
        "colab": {
          "base_uri": "https://localhost:8080/"
        },
        "id": "byyhltFQL1uK",
        "outputId": "806f241d-5efe-4708-ce94-726a734ac285"
      },
      "execution_count": null,
      "outputs": [
        {
          "output_type": "stream",
          "name": "stdout",
          "text": [
            "critical region  -3.169272667175838\n",
            "T Stats  -0.5620110704975955\n",
            "Fail to reject the null hypothesis. We do not have enough evidence to support the claim that the mean rain pH has changed\n"
          ]
        }
      ]
    },
    {
      "cell_type": "markdown",
      "source": [
        "# Z - Test"
      ],
      "metadata": {
        "id": "-j2UnqbSWIyA"
      }
    },
    {
      "cell_type": "code",
      "source": [
        "#A researcher believes that there has been an increase in the average farm size in his state since the last study five years ago.\n",
        "#The previous study reported a mean size of 450 acres with a population standard deviation (σ) of 167 acres.\n",
        "#He samples 45 farms and gets a sample mean of 485.8 acres.\n",
        "#Is there enough information to support his claim?\n",
        "\n",
        "#Step 1) State the null and alternative hypotheses.\n",
        "# Ho: μ = 450 acres\n",
        "# H1: μ > 450 acres # A Right-Sided Test\n",
        "\n",
        "import numpy as np\n",
        "import random\n",
        "import scipy.stats as stats\n",
        "\n",
        "x=random.sample(range(449, 490), 15)\n",
        "data = np.array(x)\n",
        "print(\"Sample Data \" , data)\n",
        "\n",
        "pmean=450\n",
        "sd=167\n",
        "smean=np.mean(data)\n",
        "sample=len(data)\n",
        "los=0.05\n",
        "\n",
        "cr=stats.norm.ppf(los)\n",
        "print(\"critical region \" , cr )\n",
        "\n",
        "z_stat=(smean-pmean)/(sd/np.sqrt(sample))\n",
        "print(\"Z Stats \" , z_stat)\n",
        "\n",
        "print (\"z-value (score) approach\")\n",
        "if (z_stat < np.abs(cr)):\n",
        "  print(\"Fail to reject the null hypothesis. We do not have enough evidence to support the claim that the mean farm size has increased from 450 acres.\")\n",
        "else:\n",
        "  print(\"Reject the null hypothesis. We have enough evidence to support the claim that the mean farm size has increased from 450 acres.\")\n",
        "\n",
        "\n",
        "pv=stats.norm.cdf(z_stat)\n",
        "print(\"p_value \" , pv )\n",
        "\n",
        "print (\"p-value (probability value) approach\")\n",
        "if (pv <= los ):\n",
        "  print(\"Reject the null hypothesis. We have enough evidence to support the claim that the mean farm size has increased from 450 acres. \")\n",
        "else:\n",
        "  print(\"Fail to reject the null hypothesis. We do not have enough evidence to support the claim that the mean farm size has increased from 450 acres. \")\n",
        "\n"
      ],
      "metadata": {
        "colab": {
          "base_uri": "https://localhost:8080/"
        },
        "id": "Dklwru0U2xzr",
        "outputId": "350acacc-f803-4247-9c16-20c202e57cbe"
      },
      "execution_count": 14,
      "outputs": [
        {
          "output_type": "stream",
          "name": "stdout",
          "text": [
            "Sample Data  [453 470 459 460 488 486 451 457 465 461 477 456 485 478 463]\n",
            "critical region  -1.6448536269514729\n",
            "Z Stats  0.400440194278531\n",
            "z-value (score) approach\n",
            "Fail to reject the null hypothesis. We do not have enough evidence to support the claim that the mean farm size has increased from 450 acres.\n",
            "p_value  0.6555838377426275\n",
            "p-value (probability value) approach\n",
            "Fail to reject the null hypothesis. We do not have enough evidence to support the claim that the mean farm size has increased from 450 acres. \n"
          ]
        }
      ]
    },
    {
      "cell_type": "code",
      "source": [
        "#A researcher believes that there has been a reduction in the mean number of hours that college students spend preparing for final exams.\n",
        "#A national study stated that students at a 4-year college spend an average of 23 hours preparing for 5 final exams each semester with a population standard deviation of 7.3 hours.\n",
        "#The researcher sampled 227 students and found a sample mean study time of 19.6 hours.\n",
        "#Does this indicate that the average study time for final exams has decreased? Use a 1% level of significance to test this claim.\n",
        "\n",
        "pmean=23\n",
        "sd=7.3\n",
        "sample=227\n",
        "smean=19.6\n",
        "los=0.01\n",
        "\n",
        "#Step 1) State the null and alternative hypotheses.\n",
        "#Ho: μ = 23 hrs\n",
        "#Ha: μ < 23 hrs # A Left-Sided Test\n",
        "\n",
        "cr=stats.norm.ppf(los)\n",
        "print(\"critical region \" , cr )\n",
        "\n",
        "z_stat=(smean-pmean)/(sd/np.sqrt(sample))\n",
        "print(\"Z Stats \" , z_stat)\n",
        "\n",
        "if (z_stat < np.abs(cr)):\n",
        "    print(\"Reject the null hypothesis. We have sufficient evidence to support the claim that the mean final exam study time has decreased below 23 hours\")\n",
        "else:\n",
        "    print(\"Fail to reject the null hypothesis. We don't have sufficient evidence to support the claim that the mean final exam study time has decreased below 23 hours\")\n"
      ],
      "metadata": {
        "colab": {
          "base_uri": "https://localhost:8080/"
        },
        "id": "0xzuJAdOAaXn",
        "outputId": "a5958c83-96ab-46f7-a65b-713ae9f71af9"
      },
      "execution_count": null,
      "outputs": [
        {
          "output_type": "stream",
          "name": "stdout",
          "text": [
            "critical region  -2.3263478740408408\n",
            "Z Stats  -7.017282902641893\n",
            "Reject the null hypothesis. We have sufficient evidence to support the claim that the mean final exam study time has decreased below 23 hours\n"
          ]
        }
      ]
    },
    {
      "cell_type": "code",
      "source": [
        "#A forester studying diameter growth of red pine believes that the mean diameter growth will be different from the known mean growth of 1.35 inches/year if a fertilization treatment is applied to the stand.\n",
        "#He conducts his experiment, collects data from a sample of 32 plots, and gets a sample mean diameter growth of 1.6 in./year.\n",
        "#The population standard deviation for this stand is known to be 0.46 in./year.\n",
        "#Does he have enough evidence to support his claim? Use a 5% level of significance to test this claim.\n",
        "\n",
        "pmean=1.35\n",
        "sd=0.46\n",
        "smean=1.6\n",
        "sample=32\n",
        "los=0.05/2 #it's two sided test so \"/\" by 2\n",
        "\n",
        "#Step 1) State the null and alternative hypotheses.\n",
        "#Ho: μ = 1.35 inches/year\n",
        "#Ha: μ ≠ 1.35 inches/year # A Two-Sided Test\n",
        "\n",
        "cr=stats.norm.ppf(los)\n",
        "print(\"critical region \" , cr )\n",
        "\n",
        "z_stat=(smean-pmean)/(sd/np.sqrt(sample))\n",
        "print(\"Z Stats \" , z_stat)\n",
        "\n",
        "if (z_stat < np.abs(cr)):\n",
        "  print(\"Fail to reject the null hypothesis. We don't have enough evidence to support the claim that the mean diameter growth is different from (not equal to) 1.35 inches/year.\")\n",
        "else:\n",
        "  print(\"Reject the null hypothesis. We have enough evidence to support the claim that the mean diameter growth is different from (not equal to) 1.35 inches/year \")\n",
        "\n"
      ],
      "metadata": {
        "colab": {
          "base_uri": "https://localhost:8080/"
        },
        "id": "yve2DQNGW_q1",
        "outputId": "4e02e179-6387-4910-9045-b8bb05929010"
      },
      "execution_count": null,
      "outputs": [
        {
          "output_type": "stream",
          "name": "stdout",
          "text": [
            "critical region  -1.9599639845400545\n",
            "Z Stats  3.0743773095067284\n",
            "Reject the null hypothesis. We have enough evidence to support the claim that the mean diameter growth is different from (not equal to) 1.35 inches/year \n"
          ]
        }
      ]
    }
  ]
}