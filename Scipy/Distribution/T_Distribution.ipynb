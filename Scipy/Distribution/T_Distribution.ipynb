{
  "nbformat": 4,
  "nbformat_minor": 0,
  "metadata": {
    "colab": {
      "provenance": [],
      "authorship_tag": "ABX9TyPZmbsjLNTVdKsu4AIfZ4QT",
      "include_colab_link": true
    },
    "kernelspec": {
      "name": "python3",
      "display_name": "Python 3"
    },
    "language_info": {
      "name": "python"
    }
  },
  "cells": [
    {
      "cell_type": "markdown",
      "metadata": {
        "id": "view-in-github",
        "colab_type": "text"
      },
      "source": [
        "<a href=\"https://colab.research.google.com/github/kjeyaram-orcl/DataScience/blob/main/Scipy/Distribution/T_Distribution.ipynb\" target=\"_parent\"><img src=\"https://colab.research.google.com/assets/colab-badge.svg\" alt=\"Open In Colab\"/></a>"
      ]
    },
    {
      "cell_type": "code",
      "execution_count": 1,
      "metadata": {
        "colab": {
          "base_uri": "https://localhost:8080/"
        },
        "id": "j88fXeJPf9y3",
        "outputId": "7ae52572-2492-4b8a-bf2a-c781fdfd2c40"
      },
      "outputs": [
        {
          "output_type": "stream",
          "name": "stdout",
          "text": [
            "TtestResult(statistic=-1.6848470783484626, pvalue=0.12014460742498101, df=11)\n"
          ]
        }
      ],
      "source": [
        "import numpy as np\n",
        "import scipy.stats as stats\n",
        "\n",
        "data=np.array([14, 14, 16, 13, 12, 17, 15, 14, 15, 13, 15, 14])\n",
        "\n",
        "#perform one sample t-test. Please note: it automatically calculate sample Size, Mean and Standard Deviation from the given data. Formula:[ (MEAN-15) / (SD/sqrt(n)) ]\n",
        "\n",
        "res = stats.ttest_1samp(a=data, popmean=15)\n",
        "\n",
        "print(res)"
      ]
    }
  ]
}