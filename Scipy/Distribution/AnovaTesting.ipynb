{
  "nbformat": 4,
  "nbformat_minor": 0,
  "metadata": {
    "colab": {
      "provenance": [],
      "authorship_tag": "ABX9TyNwJpHLHWRlAMjyiw39XPg7",
      "include_colab_link": true
    },
    "kernelspec": {
      "name": "python3",
      "display_name": "Python 3"
    },
    "language_info": {
      "name": "python"
    }
  },
  "cells": [
    {
      "cell_type": "markdown",
      "metadata": {
        "id": "view-in-github",
        "colab_type": "text"
      },
      "source": [
        "<a href=\"https://colab.research.google.com/github/kjeyaram-orcl/DataScience/blob/main/Scipy/Distribution/AnovaTesting.ipynb\" target=\"_parent\"><img src=\"https://colab.research.google.com/assets/colab-badge.svg\" alt=\"Open In Colab\"/></a>"
      ]
    },
    {
      "cell_type": "markdown",
      "source": [
        "#One-Way ANOVA"
      ],
      "metadata": {
        "id": "tQWSeDSdwvo5"
      }
    },
    {
      "cell_type": "code",
      "execution_count": 11,
      "metadata": {
        "colab": {
          "base_uri": "https://localhost:8080/"
        },
        "id": "avuBjxn4wIu2",
        "outputId": "43c8176c-f331-4d12-e2a0-ef678d22c93f"
      },
      "outputs": [
        {
          "output_type": "stream",
          "name": "stdout",
          "text": [
            "['setosa' 'versicolor' 'virginica']\n",
            "Reject Ho, No relationship between species\n"
          ]
        }
      ],
      "source": [
        "#One Way F-test(Anova) :-\n",
        "#It tell whether two or more groups are similar or not based on their mean similarity and f-score.\n",
        "#Example : there are 3 different category of iris flowers and their petal width and need to check whether all 3 group are similar or not\n",
        "\n",
        "import scipy.stats as stats\n",
        "import seaborn as sns\n",
        "import pandas as pd\n",
        "\n",
        "df=sns.load_dataset('iris')\n",
        "\n",
        "#get only required columns\n",
        "df_anova = df[['petal_width','species']]\n",
        "df_anova\n",
        "\n",
        "#find unique species\n",
        "grps = pd.unique(df['species'].values)\n",
        "print(grps)\n",
        "\n",
        "#get data for each grp\n",
        "d_data = {grp:df_anova['petal_width'][df_anova.species == grp] for grp in grps}\n",
        "\n",
        "res = stats.f_oneway(d_data['setosa'], d_data['versicolor'], d_data['virginica'])\n",
        "\n",
        "if(res[1] <= 0.05):\n",
        "  print (\"Reject Ho, No relationship between species\")\n",
        "else:\n",
        "  print (\"Fail to reject Ho, There is some relationship between species\")\n"
      ]
    }
  ]
}