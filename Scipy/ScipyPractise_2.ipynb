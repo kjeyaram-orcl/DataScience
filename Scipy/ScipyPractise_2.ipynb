{
  "nbformat": 4,
  "nbformat_minor": 0,
  "metadata": {
    "colab": {
      "provenance": [],
      "authorship_tag": "ABX9TyOg53u1ab5NLLy1JJcVBS9U",
      "include_colab_link": true
    },
    "kernelspec": {
      "name": "python3",
      "display_name": "Python 3"
    },
    "language_info": {
      "name": "python"
    }
  },
  "cells": [
    {
      "cell_type": "markdown",
      "metadata": {
        "id": "view-in-github",
        "colab_type": "text"
      },
      "source": [
        "<a href=\"https://colab.research.google.com/github/kjeyaram-orcl/DataScience/blob/main/Scipy/ScipyPractise_2.ipynb\" target=\"_parent\"><img src=\"https://colab.research.google.com/assets/colab-badge.svg\" alt=\"Open In Colab\"/></a>"
      ]
    },
    {
      "cell_type": "code",
      "execution_count": 11,
      "metadata": {
        "colab": {
          "base_uri": "https://localhost:8080/"
        },
        "id": "3M03dGQVJH_r",
        "outputId": "37a2f68a-55d0-4cee-f1c8-6a60d463be1a"
      },
      "outputs": [
        {
          "output_type": "stream",
          "name": "stdout",
          "text": [
            "  (0, 0)\t1\n",
            "  (0, 1)\t2\n",
            "  (0, 6)\t3\n",
            "  (1, 2)\t4\n",
            "  (1, 5)\t5\n",
            "  (2, 6)\t6\n",
            "[1 2 3 4 5 6]\n",
            "[0 1 6 2 5 6]\n",
            "[0 3 5 6]\n",
            "[[1 2 0 0 0 0 3]\n",
            " [0 0 4 0 0 5 0]\n",
            " [0 0 0 0 0 0 6]]\n"
          ]
        }
      ],
      "source": [
        "import numpy as np\n",
        "from scipy import sparse as sp\n",
        "\n",
        "x=np.array([\n",
        "    [1,2,0,0,0,0,3],\n",
        "    [0,0,4,0,0,5,0],\n",
        "    [0,0,0,0,0,0,6]\n",
        "           ])\n",
        "s1 = sp.csr_matrix(x)\n",
        "\n",
        "print(s1)\n",
        "\n",
        "print (s1.data)\n",
        "\n",
        "print (s1.indices)\n",
        "\n",
        "#indptr[1] tells the number of non-zero data elements, upto end of first row.\n",
        "#indptr[2] tells the number of non-zero data elements, starting from beggining upto end of second row...\n",
        "print (s1.indptr)\n",
        "\n",
        "# Convert the sparse matrix to a dense matrix - which has more number of zeros\n",
        "X = s1.todense()\n",
        "\n",
        "print(X)\n"
      ]
    }
  ]
}