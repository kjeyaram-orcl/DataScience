{
  "nbformat": 4,
  "nbformat_minor": 0,
  "metadata": {
    "colab": {
      "provenance": [],
      "authorship_tag": "ABX9TyMORGaGZOSHdJ5ml16h4xZk",
      "include_colab_link": true
    },
    "kernelspec": {
      "name": "python3",
      "display_name": "Python 3"
    },
    "language_info": {
      "name": "python"
    }
  },
  "cells": [
    {
      "cell_type": "markdown",
      "metadata": {
        "id": "view-in-github",
        "colab_type": "text"
      },
      "source": [
        "<a href=\"https://colab.research.google.com/github/kjeyaram-orcl/DataScience/blob/main/Pandas.ipynb\" target=\"_parent\"><img src=\"https://colab.research.google.com/assets/colab-badge.svg\" alt=\"Open In Colab\"/></a>"
      ]
    },
    {
      "cell_type": "markdown",
      "source": [
        "# Creating Objects"
      ],
      "metadata": {
        "id": "JdjaVBOEQ3Gq"
      }
    },
    {
      "cell_type": "code",
      "execution_count": 1,
      "metadata": {
        "colab": {
          "base_uri": "https://localhost:8080/"
        },
        "id": "1lnBZpyLPpX8",
        "outputId": "e7fec8b6-34d1-4a0d-ebe0-0cf4d0952761"
      },
      "outputs": [
        {
          "output_type": "stream",
          "name": "stdout",
          "text": [
            "Empty DataFrame\n",
            "Columns: []\n",
            "Index: []\n",
            "0      Hello\n",
            "1     pandas\n",
            "2       This\n",
            "3         is\n",
            "4    Karthik\n",
            "dtype: object\n"
          ]
        }
      ],
      "source": [
        "import pandas as pd\n",
        "\n",
        "# Calling Series using list\n",
        "df = pd.DataFrame()\n",
        "\n",
        "print(df)\n",
        "\n",
        "lst = ['Hello', 'pandas', 'This', 'is', 'Karthik']\n",
        "\n",
        "df = pd.Series(lst)\n",
        "\n",
        "print(df)"
      ]
    },
    {
      "cell_type": "code",
      "source": [
        "import pandas as pd\n",
        "\n",
        "# Calling DataFrame using list\n",
        "df = pd.DataFrame()\n",
        "\n",
        "print(df)\n",
        "\n",
        "lst = ['Hello', 'pandas', 'This', 'is', 'Karthik']\n",
        "\n",
        "df = pd.DataFrame(lst)\n",
        "\n",
        "print(df)"
      ],
      "metadata": {
        "colab": {
          "base_uri": "https://localhost:8080/"
        },
        "id": "L-JVZ5CF5vTP",
        "outputId": "5ac330bf-63b6-489a-b987-b931243887d3"
      },
      "execution_count": 3,
      "outputs": [
        {
          "output_type": "stream",
          "name": "stdout",
          "text": [
            "Empty DataFrame\n",
            "Columns: []\n",
            "Index: []\n",
            "         0\n",
            "0    Hello\n",
            "1   pandas\n",
            "2     This\n",
            "3       is\n",
            "4  Karthik\n"
          ]
        }
      ]
    },
    {
      "cell_type": "code",
      "source": [
        "import pandas as pd\n",
        "\n",
        "# Calling DataFrame using dictionary with custom index\n",
        "df = pd.DataFrame()\n",
        "\n",
        "dict = {'name':[\"A\", \"B\", \"C\", \"D\"],\n",
        "        'degree': [\"MBA\", \"BCA\", \"ME\", \"BE\"],\n",
        "        'score':[90, 75, 80, 98]}\n",
        "\n",
        "df = pd.DataFrame(dict,index=['11','22','33','44'])\n",
        "\n",
        "print(df)"
      ],
      "metadata": {
        "colab": {
          "base_uri": "https://localhost:8080/"
        },
        "id": "xTJIusDeS1nC",
        "outputId": "1b40f667-245f-43cc-acf1-1755364e77c5"
      },
      "execution_count": 6,
      "outputs": [
        {
          "output_type": "stream",
          "name": "stdout",
          "text": [
            "   name degree  score\n",
            "11    A    MBA     90\n",
            "22    B    BCA     75\n",
            "33    C     ME     80\n",
            "44    D     BE     98\n"
          ]
        }
      ]
    },
    {
      "cell_type": "code",
      "source": [
        "import pandas as pd\n",
        "\n",
        "# Calling DataFrame using dictionary and create Series using df index\n",
        "df = pd.DataFrame()\n",
        "\n",
        "dict = {'name':[\"A\", \"B\", \"C\", \"D\"],\n",
        "        'degree': [\"MBA\", \"BCA\", \"ME\", \"BE\"],\n",
        "        'score':[90, 75, 80, 98]}\n",
        "\n",
        "df = pd.DataFrame(dict)\n",
        "\n",
        "ser = pd.Series(df['score'])\n",
        "\n",
        "print(ser)\n",
        "\n"
      ],
      "metadata": {
        "colab": {
          "base_uri": "https://localhost:8080/"
        },
        "id": "6sDbZwvW58Sl",
        "outputId": "7dfdddec-5016-4fd6-edbe-09dfdbb73957"
      },
      "execution_count": 5,
      "outputs": [
        {
          "output_type": "stream",
          "name": "stdout",
          "text": [
            "0    90\n",
            "1    75\n",
            "2    80\n",
            "3    98\n",
            "Name: score, dtype: int64\n"
          ]
        }
      ]
    },
    {
      "cell_type": "code",
      "source": [],
      "metadata": {
        "id": "3pOLiFeHTWGP"
      },
      "execution_count": null,
      "outputs": []
    }
  ]
}