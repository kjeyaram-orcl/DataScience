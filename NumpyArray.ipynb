{
  "nbformat": 4,
  "nbformat_minor": 0,
  "metadata": {
    "colab": {
      "provenance": [],
      "include_colab_link": true
    },
    "kernelspec": {
      "name": "python3",
      "display_name": "Python 3"
    },
    "language_info": {
      "name": "python"
    }
  },
  "cells": [
    {
      "cell_type": "markdown",
      "metadata": {
        "id": "view-in-github",
        "colab_type": "text"
      },
      "source": [
        "<a href=\"https://colab.research.google.com/github/kjeyaram-orcl/DataScience/blob/main/NumpyArray.ipynb\" target=\"_parent\"><img src=\"https://colab.research.google.com/assets/colab-badge.svg\" alt=\"Open In Colab\"/></a>"
      ]
    },
    {
      "cell_type": "code",
      "source": [
        "import numpy as np\n",
        "\n",
        "#Numpy array creation\n",
        "\n",
        "arr0D = np.array(5)\n",
        "print('0D number of dimensions :', arr0D.ndim)\n",
        "print('0D shape of each dimension :', arr0D.shape)\n",
        "\n",
        "\n",
        "arr1D = np.array(\n",
        "    [5]\n",
        ")\n",
        "print('1D number of dimensions :', arr1D.ndim)\n",
        "print('1D shape of each dimension :', arr1D.shape)\n",
        "\n",
        "\n",
        "arr2D = np.array(\n",
        "    [\n",
        "        [1,5],\n",
        "        [1,6]\n",
        "    ]\n",
        ")\n",
        "print('2D number of dimensions :', arr2D.ndim)\n",
        "print('2D shape of each dimension :', arr2D.shape)\n",
        "\n",
        "\n",
        "arr3D = np.array(\n",
        "  [\n",
        "    [\n",
        "        [1,2,5],\n",
        "        [1,2,6]\n",
        "    ],\n",
        "    [\n",
        "        [1,2,5],\n",
        "        [1,2,6]\n",
        "    ]\n",
        "  ]\n",
        ")\n",
        "print('3D number of dimensions :', arr3D.ndim)\n",
        "print('3D shape of each dimension :', arr3D.shape)\n",
        "\n",
        "\n",
        "arr4D = np.array(\n",
        "[\n",
        "  [\n",
        "    [\n",
        "        [1,2,3,5],\n",
        "        [1,2,3,6]\n",
        "    ],\n",
        "    [\n",
        "        [1,2,3,5],\n",
        "        [1,2,3,6]\n",
        "    ]\n",
        "  ],\n",
        "  [\n",
        "    [\n",
        "        [1,2,3,5],\n",
        "        [1,2,3,6]\n",
        "    ],\n",
        "    [\n",
        "        [1,2,3,5],\n",
        "        [1,2,3,6]\n",
        "    ]\n",
        "  ]\n",
        "]\n",
        ")\n",
        "print('4D number of dimensions :', arr4D.ndim)\n",
        "print('4D shape of each dimension :', arr4D.shape)\n",
        "\n",
        "\n",
        "\n",
        "arr5D = np.array(\n",
        "  [\n",
        "      [\n",
        "          [\n",
        "              [\n",
        "                  [1, 2, 3]\n",
        "              ]\n",
        "          ]\n",
        "      ]\n",
        "  ]\n",
        ")\n",
        "print('5D number of dimension :', arr5D.ndim)\n",
        "print('5D shape of each dimension :', arr5D.shape)\n",
        "\n",
        "\n",
        "arr7D=np.array(\n",
        "\n",
        "[\n",
        "\t[\n",
        "\t\t[\n",
        "\t\t\t[\n",
        "    \t\t[\n",
        "        \t[\n",
        "      \t\t\t[1,2],\n",
        "            [3,4]\n",
        "          ]\n",
        "        ]\n",
        "    \t]\n",
        "\t\t]\n",
        "\t]\n",
        "]\n",
        "\n",
        ")\n",
        "print('7D number of dimension :', arr7D.ndim)\n",
        "print('7D shape of each dimension :', arr7D.shape)\n",
        "\n",
        "\n",
        "arr7D = np.array(\n",
        "[\n",
        "  [\n",
        "     [\n",
        "       [\n",
        "          [\n",
        "            [\n",
        "              [5],\n",
        "              [6]\n",
        "            ],\n",
        "            [\n",
        "              [5],\n",
        "              [6]\n",
        "            ]\n",
        "          ],\n",
        "          [\n",
        "            [\n",
        "              [5],\n",
        "              [6]\n",
        "            ],\n",
        "            [\n",
        "              [5],\n",
        "              [6]\n",
        "            ]\n",
        "          ]\n",
        "        ]\n",
        "      ]\n",
        "    ]\n",
        "  ]\n",
        ")\n",
        "print('7D number of dimensions :', arr7D.ndim)\n",
        "print('7D shape of each dimension :', arr7D.shape)\n"
      ],
      "metadata": {
        "colab": {
          "base_uri": "https://localhost:8080/"
        },
        "id": "BhqjaToaq10t",
        "outputId": "a306a3e8-41e7-4409-9904-b1bf5d482ceb"
      },
      "execution_count": null,
      "outputs": [
        {
          "output_type": "stream",
          "name": "stdout",
          "text": [
            "0D number of dimensions : 0\n",
            "0D shape of each dimension : ()\n",
            "1D number of dimensions : 1\n",
            "1D shape of each dimension : (1,)\n",
            "2D number of dimensions : 2\n",
            "2D shape of each dimension : (2, 2)\n",
            "3D number of dimensions : 3\n",
            "3D shape of each dimension : (2, 2, 3)\n",
            "4D number of dimensions : 4\n",
            "4D shape of each dimension : (2, 2, 2, 4)\n",
            "5D number of dimension : 5\n",
            "5D shape of each dimension : (1, 1, 1, 1, 3)\n",
            "7D number of dimension : 7\n",
            "7D shape of each dimension : (1, 1, 1, 1, 1, 2, 2)\n",
            "7D number of dimensions : 7\n",
            "7D shape of each dimension : (1, 1, 1, 2, 2, 2, 1)\n"
          ]
        }
      ]
    },
    {
      "cell_type": "code",
      "source": [
        "#creating 1D Array and access elements\n",
        "\n",
        "import numpy as np\n",
        "\n",
        "a = np.array(\n",
        "\n",
        "    [9,8,7,6]\n",
        ")\n",
        "\n",
        "print(\"Dimension \", a.ndim)\n",
        "print(\"Shape \", a.shape)\n",
        "print(\"Access element 8 \", a[1]) # 0 indexed"
      ],
      "metadata": {
        "colab": {
          "base_uri": "https://localhost:8080/"
        },
        "id": "d804XIqeyTWE",
        "outputId": "943f23dc-e482-4ac1-9b71-716365ef1372"
      },
      "execution_count": 20,
      "outputs": [
        {
          "output_type": "stream",
          "name": "stdout",
          "text": [
            "Dimension  1\n",
            "Shape  (4,)\n",
            "Access element 8  8\n"
          ]
        }
      ]
    },
    {
      "cell_type": "code",
      "source": [
        "#creating 2D Array and access elements\n",
        "\n",
        "import numpy as np\n",
        "\n",
        "a = np.array(\n",
        "    [\n",
        "      [0,9,8],\n",
        "      [7,6,5]\n",
        "    ]\n",
        ")\n",
        "\n",
        "print(\"Dimension \", a.ndim)\n",
        "print(\"Shape \", a.shape)\n",
        "print(\"Access element 5 \", a[1,2]) # 0 indexed"
      ],
      "metadata": {
        "colab": {
          "base_uri": "https://localhost:8080/"
        },
        "id": "5ndn5ZvZd3pk",
        "outputId": "de9dde79-adaf-4a63-82d1-0a7b70ea5126"
      },
      "execution_count": 18,
      "outputs": [
        {
          "output_type": "stream",
          "name": "stdout",
          "text": [
            "Dimension  2\n",
            "Shape  (2, 3)\n",
            "Access 5  5\n"
          ]
        }
      ]
    },
    {
      "cell_type": "code",
      "source": [
        "#creating 2D Array and access elements using negative index\n",
        "\n",
        "import numpy as np\n",
        "\n",
        "a = np.array(\n",
        "    [\n",
        "      [0,9,8],\n",
        "      [7,6,5]\n",
        "    ]\n",
        ")\n",
        "\n",
        "print(\"Dimension \", a.ndim)\n",
        "print(\"Shape \", a.shape)\n",
        "print(\"Access element 6 \", a[-1,-2]) # 0 indexed"
      ],
      "metadata": {
        "id": "_m3tYXP_zJvc",
        "outputId": "62fcf266-b7ed-4bb4-9780-b6a8b51ed359",
        "colab": {
          "base_uri": "https://localhost:8080/"
        }
      },
      "execution_count": 23,
      "outputs": [
        {
          "output_type": "stream",
          "name": "stdout",
          "text": [
            "Dimension  2\n",
            "Shape  (2, 3)\n",
            "Access element 6  6\n"
          ]
        }
      ]
    },
    {
      "cell_type": "code",
      "source": [
        "#creating 3D Array and access elements\n",
        "import numpy as np\n",
        "\n",
        "a = np.array(\n",
        "  [\n",
        "     [\n",
        "        [0,9,8],\n",
        "        [7,6,5]\n",
        "     ],\n",
        "     [\n",
        "        [4,3,2],\n",
        "        [1,0,9]\n",
        "     ]\n",
        "  ]\n",
        ")\n",
        "print(\"Dimension \", a.ndim)\n",
        "print(\"Shape \", a.shape)\n",
        "print(\"Access element 3 \", a[1,0,1]) # 0 indexed\n",
        "\n"
      ],
      "metadata": {
        "colab": {
          "base_uri": "https://localhost:8080/"
        },
        "id": "mK8lBViEfkON",
        "outputId": "c7f88bfa-681a-422c-ffc7-6145522713a2"
      },
      "execution_count": 17,
      "outputs": [
        {
          "output_type": "stream",
          "name": "stdout",
          "text": [
            "Dimension  3\n",
            "Shape  (2, 2, 3)\n",
            "Access 3  3\n"
          ]
        }
      ]
    },
    {
      "cell_type": "code",
      "source": [
        "#creating 3D Array and access elements\n",
        "import numpy as np\n",
        "\n",
        "a = np.array(\n",
        "[\n",
        "  [\n",
        "     [\n",
        "       [\n",
        "          [\n",
        "            [\n",
        "              [9],\n",
        "              [8]\n",
        "            ],\n",
        "            [\n",
        "              [7],\n",
        "              [6]\n",
        "            ]\n",
        "          ],\n",
        "          [\n",
        "            [\n",
        "              [5],\n",
        "              [4]\n",
        "            ],\n",
        "            [\n",
        "              [3],\n",
        "              [2]\n",
        "            ]\n",
        "          ]\n",
        "        ]\n",
        "      ]\n",
        "    ]\n",
        "  ]\n",
        ")\n",
        "\n",
        "print(\"Dimension \", a.ndim)\n",
        "print(\"Shape \", a.shape)\n",
        "print(\"Access element 4 \", a[0,0,0,1,0,1,0]) # 0 indexed\n",
        "\n"
      ],
      "metadata": {
        "id": "49dRHND4zjL2",
        "outputId": "48ddc348-362d-4453-85e0-1e1d2faebb99",
        "colab": {
          "base_uri": "https://localhost:8080/"
        }
      },
      "execution_count": 29,
      "outputs": [
        {
          "output_type": "stream",
          "name": "stdout",
          "text": [
            "Dimension  7\n",
            "Shape  (1, 1, 1, 2, 2, 2, 1)\n",
            "Access element 4  4\n"
          ]
        }
      ]
    }
  ]
}