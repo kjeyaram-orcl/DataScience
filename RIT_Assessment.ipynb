{
  "nbformat": 4,
  "nbformat_minor": 0,
  "metadata": {
    "colab": {
      "provenance": [],
      "authorship_tag": "ABX9TyPA4dI21dE9CzXQjKWTwojU",
      "include_colab_link": true
    },
    "kernelspec": {
      "name": "python3",
      "display_name": "Python 3"
    },
    "language_info": {
      "name": "python"
    }
  },
  "cells": [
    {
      "cell_type": "markdown",
      "metadata": {
        "id": "view-in-github",
        "colab_type": "text"
      },
      "source": [
        "<a href=\"https://colab.research.google.com/github/kjeyaram-orcl/DataScience/blob/main/RIT_Assessment.ipynb\" target=\"_parent\"><img src=\"https://colab.research.google.com/assets/colab-badge.svg\" alt=\"Open In Colab\"/></a>"
      ]
    },
    {
      "cell_type": "code",
      "execution_count": 9,
      "metadata": {
        "colab": {
          "base_uri": "https://localhost:8080/"
        },
        "id": "ifTo46dxaMUK",
        "outputId": "918374cf-bfc4-4f07-b5dd-09b3de9b2fbf"
      },
      "outputs": [
        {
          "output_type": "stream",
          "name": "stdout",
          "text": [
            "<class 'dict'>\n",
            "   Products_ID            Name    Price\n",
            "0            1              TV  50000.0\n",
            "1            2          Fridge  22000.0\n",
            "2            3  WashingMachine  32000.0\n",
            "3            4          Juicer   8000.0\n",
            "4            5         Grinder  12000.0\n"
          ]
        }
      ],
      "source": [
        "import pandas as pd\n",
        "\n",
        "# Create a dictionary\n",
        "\n",
        "dataset = {\n",
        "\n",
        "        'Products_ID': [1, 2, 3, 4, 5],\n",
        "\n",
        "        'Name': ['TV', 'Fridge', 'WashingMachine', 'Juicer', 'Grinder'],\n",
        "\n",
        "        'Price': [50000.00, 22000.00, 32000.00, 8000.00, 12000.00]\n",
        "}\n",
        "\n",
        "# Print the data type of a dictionary:\n",
        "\n",
        "print(type(dataset))\n",
        "\n",
        "# Convert dictionary to DataFrame\n",
        "\n",
        "df = pd.DataFrame.from_dict(dataset)\n",
        "\n",
        "# Print the DataFrame\n",
        "\n",
        "print(df)"
      ]
    }
  ]
}