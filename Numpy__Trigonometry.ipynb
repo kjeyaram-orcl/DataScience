{
  "nbformat": 4,
  "nbformat_minor": 0,
  "metadata": {
    "colab": {
      "provenance": [],
      "authorship_tag": "ABX9TyOX2pPUprMZq09FSfDEe+2X",
      "include_colab_link": true
    },
    "kernelspec": {
      "name": "python3",
      "display_name": "Python 3"
    },
    "language_info": {
      "name": "python"
    }
  },
  "cells": [
    {
      "cell_type": "markdown",
      "metadata": {
        "id": "view-in-github",
        "colab_type": "text"
      },
      "source": [
        "<a href=\"https://colab.research.google.com/github/kjeyaram-orcl/DataScience/blob/main/Numpy__Trigonometry.ipynb\" target=\"_parent\"><img src=\"https://colab.research.google.com/assets/colab-badge.svg\" alt=\"Open In Colab\"/></a>"
      ]
    },
    {
      "cell_type": "markdown",
      "source": [
        "#Convert Degrees->Radians and Radians->Degrees"
      ],
      "metadata": {
        "id": "TQ9HRzNu9mL6"
      }
    },
    {
      "cell_type": "code",
      "execution_count": 2,
      "metadata": {
        "colab": {
          "base_uri": "https://localhost:8080/"
        },
        "id": "oAM2R4zQK68M",
        "outputId": "6c788a30-6c00-4c50-9e89-b47264a5ccd7"
      },
      "outputs": [
        {
          "output_type": "stream",
          "name": "stdout",
          "text": [
            "[2.61799388]\n",
            "2.6179938779914944\n"
          ]
        }
      ],
      "source": [
        "import numpy as np\n",
        "\n",
        "a = np.array([150])\n",
        "\n",
        "print(np.deg2rad(a))\n",
        "\n",
        "print((5*np.pi)/6) # Maths (150*(pi/180)) -> ((5*pi)/6)"
      ]
    },
    {
      "cell_type": "code",
      "source": [
        "import numpy as np\n",
        "\n",
        "a = np.array([2*np.pi/3])\n",
        "print(np.rad2deg(a))\n",
        "print(((2*np.pi)/3)*(180/np.pi)) # Maths ((2*np.pi)/3)*(180/np.pi)"
      ],
      "metadata": {
        "colab": {
          "base_uri": "https://localhost:8080/"
        },
        "id": "aqa2GcUF-U0h",
        "outputId": "e482085a-24b4-4273-c720-0caef2235627"
      },
      "execution_count": 12,
      "outputs": [
        {
          "output_type": "stream",
          "name": "stdout",
          "text": [
            "[120.]\n",
            "119.99999999999999\n"
          ]
        }
      ]
    },
    {
      "cell_type": "markdown",
      "source": [
        "#sin(), cos() and tan()"
      ],
      "metadata": {
        "id": "_RjgKe0Rlw9w"
      }
    },
    {
      "cell_type": "code",
      "source": [
        "import numpy as np\n",
        "\n",
        "a = np.array([np.pi/4])\n",
        "\n",
        "x = np.cos(a)\n",
        "print(x)\n",
        "\n",
        "x = np.tan(a)\n",
        "print(x)\n",
        "\n",
        "x=np.sin(np.deg2rad(240))\n",
        "print(x)"
      ],
      "metadata": {
        "colab": {
          "base_uri": "https://localhost:8080/"
        },
        "id": "t4w8sut6lfkp",
        "outputId": "f2816eb3-2b2d-473d-82d5-5232e221565d"
      },
      "execution_count": 6,
      "outputs": [
        {
          "output_type": "stream",
          "name": "stdout",
          "text": [
            "[0.70710678]\n",
            "[1.]\n",
            "-0.8660254037844384\n"
          ]
        }
      ]
    }
  ]
}