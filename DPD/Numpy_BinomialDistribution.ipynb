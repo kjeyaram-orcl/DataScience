{
  "nbformat": 4,
  "nbformat_minor": 0,
  "metadata": {
    "colab": {
      "provenance": [],
      "authorship_tag": "ABX9TyPhNm0J7+MEet8qkC72LkU5",
      "include_colab_link": true
    },
    "kernelspec": {
      "name": "python3",
      "display_name": "Python 3"
    },
    "language_info": {
      "name": "python"
    }
  },
  "cells": [
    {
      "cell_type": "markdown",
      "metadata": {
        "id": "view-in-github",
        "colab_type": "text"
      },
      "source": [
        "<a href=\"https://colab.research.google.com/github/kjeyaram-orcl/DataScience/blob/main/DPD/Numpy_BinomialDistribution.ipynb\" target=\"_parent\"><img src=\"https://colab.research.google.com/assets/colab-badge.svg\" alt=\"Open In Colab\"/></a>"
      ]
    },
    {
      "cell_type": "code",
      "source": [
        "from scipy.stats import binom\n",
        "\n",
        "#Question: If I shoot 12 free throw, what is the probability that I can make exactly 10?\n",
        "#calculate binomial probability\n",
        "print(round(binom.pmf(k=10, n=12, p=0.6),5))\n",
        "\n"
      ],
      "metadata": {
        "colab": {
          "base_uri": "https://localhost:8080/"
        },
        "id": "FmnOf7_GEdPA",
        "outputId": "d7043493-f41d-4518-f0a5-751a1c8170d1"
      },
      "execution_count": 17,
      "outputs": [
        {
          "output_type": "stream",
          "name": "stdout",
          "text": [
            "0.06385\n"
          ]
        }
      ]
    },
    {
      "cell_type": "code",
      "source": [
        "from scipy.stats import binom\n",
        "\n",
        "#Question: flips a coin 5 times, probability of coin lands on heads 2 times or fewer\n",
        "#calculate Cumulative binomial probability i.e., \"P(X=0) = 0.03125\" + \"P(X=1) = 0.15625\" + \"P(X=2) = 0.31250\" = \"P(X≤2) = 0.50000\"\n",
        "\n",
        "print(round(binom.cdf(k=2, n=5, p=0.5),5))\n"
      ],
      "metadata": {
        "colab": {
          "base_uri": "https://localhost:8080/"
        },
        "id": "nzlvjI8IGoKN",
        "outputId": "6dec62e8-2bad-4cbf-87ed-0715bde177c7"
      },
      "execution_count": 20,
      "outputs": [
        {
          "output_type": "stream",
          "name": "stdout",
          "text": [
            "0.5\n"
          ]
        }
      ]
    },
    {
      "cell_type": "code",
      "source": [
        "from scipy.stats import binom\n",
        "\n",
        "#Question: If 10 individuals are randomly selected, what is the probability that between 4 and 6 of them support the law?\n",
        "#calculate Cumulative binomial probability\n",
        "\n",
        "print(round(binom.cdf(k=6, n=10, p=0.7) - binom.cdf(k=3, n=10, p=0.7),5))"
      ],
      "metadata": {
        "colab": {
          "base_uri": "https://localhost:8080/"
        },
        "id": "vjRnHuJQKdm0",
        "outputId": "15d7600a-6e9c-4220-8e06-cd645ed6554d"
      },
      "execution_count": 23,
      "outputs": [
        {
          "output_type": "stream",
          "name": "stdout",
          "text": [
            "0.3398\n"
          ]
        }
      ]
    },
    {
      "cell_type": "code",
      "source": [
        "from scipy.stats import binom\n",
        "\n",
        "#Visualize a Binomial Distribution\n",
        "\n",
        "x=random.binomial(n=10, p=0.5, size=100)\n",
        "sns.distplot(x, hist=True, kde=False)\n",
        "plt.show()"
      ],
      "metadata": {
        "colab": {
          "base_uri": "https://localhost:8080/",
          "height": 626
        },
        "id": "vCd9q_VhLN23",
        "outputId": "bc440e5b-25dc-4c34-d6de-c8f7aadf7e79"
      },
      "execution_count": 30,
      "outputs": [
        {
          "output_type": "stream",
          "name": "stderr",
          "text": [
            "<ipython-input-30-89ff1beb1e37>:6: UserWarning: \n",
            "\n",
            "`distplot` is a deprecated function and will be removed in seaborn v0.14.0.\n",
            "\n",
            "Please adapt your code to use either `displot` (a figure-level function with\n",
            "similar flexibility) or `histplot` (an axes-level function for histograms).\n",
            "\n",
            "For a guide to updating your code to use the new functions, please see\n",
            "https://gist.github.com/mwaskom/de44147ed2974457ad6372750bbe5751\n",
            "\n",
            "  sns.distplot(x, hist=True, kde=False)\n"
          ]
        },
        {
          "output_type": "display_data",
          "data": {
            "text/plain": [
              "<Figure size 640x480 with 1 Axes>"
            ],
            "image/png": "[encoded data removed]"
          },
          "metadata": {}
        }
      ]
    }
  ]
}