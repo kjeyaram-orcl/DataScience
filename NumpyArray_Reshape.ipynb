{
  "nbformat": 4,
  "nbformat_minor": 0,
  "metadata": {
    "colab": {
      "provenance": [],
      "authorship_tag": "ABX9TyMM/6EThAAJ4KdnLHR3UE65",
      "include_colab_link": true
    },
    "kernelspec": {
      "name": "python3",
      "display_name": "Python 3"
    },
    "language_info": {
      "name": "python"
    }
  },
  "cells": [
    {
      "cell_type": "markdown",
      "metadata": {
        "id": "view-in-github",
        "colab_type": "text"
      },
      "source": [
        "<a href=\"https://colab.research.google.com/github/kjeyaram-orcl/DataScience/blob/main/NumpyArray_Reshape.ipynb\" target=\"_parent\"><img src=\"https://colab.research.google.com/assets/colab-badge.svg\" alt=\"Open In Colab\"/></a>"
      ]
    },
    {
      "cell_type": "code",
      "execution_count": null,
      "metadata": {
        "colab": {
          "base_uri": "https://localhost:8080/"
        },
        "id": "pkpT1VQCK9w8",
        "outputId": "ffd7ab7c-deb5-4376-ed95-fc45b47b1d10"
      },
      "outputs": [
        {
          "output_type": "stream",
          "name": "stdout",
          "text": [
            "[[ 1  2  3]\n",
            " [ 4  5  6]\n",
            " [ 7  8  9]\n",
            " [10 11 12]]\n",
            "New Array Shape (4, 3)\n",
            "Indexing new Array 11\n"
          ]
        }
      ],
      "source": [
        "# convert 1D to 2D Array\n",
        "\n",
        "import numpy as np\n",
        "\n",
        "a = np.array([1, 2, 3, 4, 5, 6, 7, 8, 9, 10, 11, 12])\n",
        "\n",
        "new_a = a.reshape(4, 3)\n",
        "\n",
        "print(new_a)\n",
        "print(\"New Array Shape\", new_a.shape)\n",
        "print(\"Indexing new Array\", new_a[3,1])"
      ]
    },
    {
      "cell_type": "code",
      "source": [
        "# convert 1D to 5D Array\n",
        "\n",
        "import numpy as np\n",
        "\n",
        "a = np.array([1, 2, 3, 4, 5, 6, 7, 8, 9, 10, 11, 12])\n",
        "\n",
        "new_a = a.reshape(1,1,2,2,3)\n",
        "\n",
        "print(new_a)\n",
        "print(\"New Array Shape\", new_a.shape)\n",
        "print(\"Indexing new Array\", new_a[0,0,1,1,1])"
      ],
      "metadata": {
        "colab": {
          "base_uri": "https://localhost:8080/"
        },
        "id": "UGJ-GRVQL9jY",
        "outputId": "198e19e7-9a30-4aee-a123-1b93fc1bcdd4"
      },
      "execution_count": null,
      "outputs": [
        {
          "output_type": "stream",
          "name": "stdout",
          "text": [
            "[[[[[ 1  2  3]\n",
            "    [ 4  5  6]]\n",
            "\n",
            "   [[ 7  8  9]\n",
            "    [10 11 12]]]]]\n",
            "New Array Shape (1, 1, 2, 2, 3)\n",
            "Indexing new Array 11\n"
          ]
        }
      ]
    },
    {
      "cell_type": "code",
      "source": [],
      "metadata": {
        "id": "Zjw26OsjNr9y"
      },
      "execution_count": null,
      "outputs": []
    }
  ]
}