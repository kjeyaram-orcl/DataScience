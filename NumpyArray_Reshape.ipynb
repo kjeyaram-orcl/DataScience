{
  "nbformat": 4,
  "nbformat_minor": 0,
  "metadata": {
    "colab": {
      "provenance": [],
      "authorship_tag": "ABX9TyNaSpYb4uCBEonLKXkm17NG",
      "include_colab_link": true
    },
    "kernelspec": {
      "name": "python3",
      "display_name": "Python 3"
    },
    "language_info": {
      "name": "python"
    }
  },
  "cells": [
    {
      "cell_type": "markdown",
      "metadata": {
        "id": "view-in-github",
        "colab_type": "text"
      },
      "source": [
        "<a href=\"https://colab.research.google.com/github/kjeyaram-orcl/DataScience/blob/main/NumpyArray_Reshape.ipynb\" target=\"_parent\"><img src=\"https://colab.research.google.com/assets/colab-badge.svg\" alt=\"Open In Colab\"/></a>"
      ]
    },
    {
      "cell_type": "code",
      "execution_count": null,
      "metadata": {
        "colab": {
          "base_uri": "https://localhost:8080/"
        },
        "id": "pkpT1VQCK9w8",
        "outputId": "31e2a5ef-4622-4cce-b6df-fa18ea28d3aa"
      },
      "outputs": [
        {
          "output_type": "stream",
          "name": "stdout",
          "text": [
            "[[ 1  2  3]\n",
            " [ 4  5  6]\n",
            " [ 7  8  9]\n",
            " [10 11 12]]\n",
            "New Array Dimension 2\n",
            "New Array Shape (4, 3)\n",
            "Indexing new Array 11\n"
          ]
        }
      ],
      "source": [
        "# convert 1D to 2D Array\n",
        "\n",
        "import numpy as np\n",
        "\n",
        "a = np.array([1, 2, 3, 4, 5, 6, 7, 8, 9, 10, 11, 12])\n",
        "\n",
        "new_a = a.reshape(4, 3)\n",
        "print(new_a)\n",
        "print(\"New Array Dimension\", new_a.ndim)\n",
        "print(\"New Array Shape\", new_a.shape)\n",
        "print(\"Indexing new Array\", new_a[3,1])"
      ]
    },
    {
      "cell_type": "code",
      "source": [
        "# convert 1D to 3D Array\n",
        "\n",
        "a = np.array([1, 2, 3, 4, 5, 6, 7, 8, 9, 10, 11, 12])\n",
        "\n",
        "new_a = a.reshape(2, 3, 2)\n",
        "\n",
        "\n",
        "print(new_a)\n",
        "print(\"New Array Dimension\", new_a.ndim)\n",
        "print(\"New Array Shape\", new_a.shape)\n",
        "print(\"Indexing new Array\", new_a[1,2,0])\n"
      ],
      "metadata": {
        "id": "Zjw26OsjNr9y",
        "colab": {
          "base_uri": "https://localhost:8080/"
        },
        "outputId": "d781ee0a-7bbb-4859-e1aa-3804b992bec8"
      },
      "execution_count": null,
      "outputs": [
        {
          "output_type": "stream",
          "name": "stdout",
          "text": [
            "[[[ 1  2]\n",
            "  [ 3  4]\n",
            "  [ 5  6]]\n",
            "\n",
            " [[ 7  8]\n",
            "  [ 9 10]\n",
            "  [11 12]]]\n",
            "New Array Dimension 3\n",
            "New Array Shape (2, 3, 2)\n",
            "Indexing new Array 11\n"
          ]
        }
      ]
    },
    {
      "cell_type": "code",
      "source": [
        "# convert 1D to 5D Array\n",
        "import numpy as np\n",
        "\n",
        "a = np.array([1, 2, 3, 4, 5, 6, 7, 8, 9, 10, 11, 12])\n",
        "\n",
        "new_a = a.reshape(1,1,2,2,3)\n",
        "\n",
        "print(new_a)\n",
        "print(\"New Array Dimension\", new_a.ndim)\n",
        "print(\"New Array Shape\", new_a.shape)\n",
        "print(\"Indexing new Array\", new_a[0,0,1,1,1])"
      ],
      "metadata": {
        "colab": {
          "base_uri": "https://localhost:8080/"
        },
        "id": "mPiaUGLFb-q5",
        "outputId": "6284a95a-b32a-41af-cd98-12a75b7951b4"
      },
      "execution_count": null,
      "outputs": [
        {
          "output_type": "stream",
          "name": "stdout",
          "text": [
            "[[[[[ 1  2  3]\n",
            "    [ 4  5  6]]\n",
            "\n",
            "   [[ 7  8  9]\n",
            "    [10 11 12]]]]]\n",
            "New Array Dimension 5\n",
            "New Array Shape (1, 1, 2, 2, 3)\n",
            "Indexing new Array 11\n"
          ]
        }
      ]
    },
    {
      "cell_type": "code",
      "source": [
        "# convert multi-dimension to 1D Array\n",
        "import numpy as np\n",
        "\n",
        "a = np.array([[4, 5, 6], [1, 2, 3]])\n",
        "\n",
        "new_a = a.reshape(-1)\n",
        "\n",
        "print(new_a)\n",
        "print(\"New Array Dimension\", new_a.ndim)\n",
        "print(\"New Array Shape\", new_a.shape)\n"
      ],
      "metadata": {
        "colab": {
          "base_uri": "https://localhost:8080/"
        },
        "id": "C73amL726oR_",
        "outputId": "ac08c0f8-4c71-4818-f67e-8cae7ca04018"
      },
      "execution_count": 1,
      "outputs": [
        {
          "output_type": "stream",
          "name": "stdout",
          "text": [
            "[4 5 6 1 2 3]\n",
            "New Array Dimension 1\n",
            "New Array Shape (6,)\n"
          ]
        }
      ]
    }
  ]
}