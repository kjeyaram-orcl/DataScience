{
  "nbformat": 4,
  "nbformat_minor": 0,
  "metadata": {
    "colab": {
      "provenance": [],
      "authorship_tag": "ABX9TyMBEqm2ze994DZgRCDPoHaP",
      "include_colab_link": true
    },
    "kernelspec": {
      "name": "python3",
      "display_name": "Python 3"
    },
    "language_info": {
      "name": "python"
    }
  },
  "cells": [
    {
      "cell_type": "markdown",
      "metadata": {
        "id": "view-in-github",
        "colab_type": "text"
      },
      "source": [
        "<a href=\"https://colab.research.google.com/github/kjeyaram-orcl/DataScience/blob/main/NumpyArray_Manipulations.ipynb\" target=\"_parent\"><img src=\"https://colab.research.google.com/assets/colab-badge.svg\" alt=\"Open In Colab\"/></a>"
      ]
    },
    {
      "cell_type": "markdown",
      "source": [
        "#Iterating Numpy Array"
      ],
      "metadata": {
        "id": "xKSHr7aYEkcY"
      }
    },
    {
      "cell_type": "code",
      "source": [
        "import numpy as np\n",
        "# iterate the arrays in each dimension\n",
        "a = np.array([[9,7,3],[5,6,4]])\n",
        "for x in a:\n",
        "  for y in x:\n",
        "    print(y)"
      ],
      "metadata": {
        "colab": {
          "base_uri": "https://localhost:8080/"
        },
        "id": "u50mEZfBEysW",
        "outputId": "71765b22-2097-42c3-bfc7-18ef33d94688"
      },
      "execution_count": 12,
      "outputs": [
        {
          "output_type": "stream",
          "name": "stdout",
          "text": [
            "9\n",
            "7\n",
            "3\n",
            "5\n",
            "6\n",
            "4\n"
          ]
        }
      ]
    },
    {
      "cell_type": "code",
      "source": [
        "import numpy as np\n",
        "# iterate through all the rows\n",
        "a = np.array([[9,7,3],[5,6,4]])\n",
        "for x in a:\n",
        "  print(x)"
      ],
      "metadata": {
        "colab": {
          "base_uri": "https://localhost:8080/"
        },
        "id": "zkcMFH2gF_Wh",
        "outputId": "cd29876a-f7f7-4c14-db6c-34d5265409be"
      },
      "execution_count": 13,
      "outputs": [
        {
          "output_type": "stream",
          "name": "stdout",
          "text": [
            "[9 7 3]\n",
            "[5 6 4]\n"
          ]
        }
      ]
    },
    {
      "cell_type": "markdown",
      "source": [
        "#Filtering Numpy Array"
      ],
      "metadata": {
        "id": "wFNB2emJQKlF"
      }
    },
    {
      "cell_type": "code",
      "source": [
        "import numpy as np\n",
        "\n",
        "#Filter Array using boolean index list\n",
        "\n",
        "a = np.array([1, 2, 3, 4])\n",
        "x = [False, True, False, True]\n",
        "print(a[x])"
      ],
      "metadata": {
        "colab": {
          "base_uri": "https://localhost:8080/"
        },
        "id": "Z6RZF4ziP_AS",
        "outputId": "91c6a592-1494-438e-e0a8-75072b739bae"
      },
      "execution_count": 22,
      "outputs": [
        {
          "output_type": "stream",
          "name": "stdout",
          "text": [
            "[2 4]\n"
          ]
        }
      ]
    },
    {
      "cell_type": "code",
      "source": [
        "import numpy as np\n",
        "\n",
        "#Filter Array with condition\n",
        "\n",
        "a = np.array([1, 2, 3, 4])\n",
        "b=[]\n",
        "for e in a:\n",
        "  if e > 2:\n",
        "    b.append(e)\n",
        "\n",
        "print (b)"
      ],
      "metadata": {
        "colab": {
          "base_uri": "https://localhost:8080/"
        },
        "id": "bpBPtgd6cPYx",
        "outputId": "e8a81243-3e87-49cb-eac6-de7258c15452"
      },
      "execution_count": 23,
      "outputs": [
        {
          "output_type": "stream",
          "name": "stdout",
          "text": [
            "[3, 4]\n"
          ]
        }
      ]
    },
    {
      "cell_type": "code",
      "source": [
        "import numpy as np\n",
        "\n",
        "#Filter Array with condition and retrieve data using boolean index list\n",
        "\n",
        "a = np.array([1, 2, 3, 4])\n",
        "b=[];\n",
        "for e in a:\n",
        "  if e%2==0:\n",
        "    b.append(True)\n",
        "  else:\n",
        "    b.append(False)\n",
        "print(a[b])"
      ],
      "metadata": {
        "colab": {
          "base_uri": "https://localhost:8080/"
        },
        "id": "C2uD3wVvdO5u",
        "outputId": "6a8e196c-f6b3-42a4-90de-8ab609446f6f"
      },
      "execution_count": 24,
      "outputs": [
        {
          "output_type": "stream",
          "name": "stdout",
          "text": [
            "[2 4]\n"
          ]
        }
      ]
    },
    {
      "cell_type": "code",
      "source": [],
      "metadata": {
        "id": "_RNuq_D2EV19"
      },
      "execution_count": null,
      "outputs": []
    },
    {
      "cell_type": "markdown",
      "source": [
        "#Sorting Numpy Array\n",
        "\n",
        "\n",
        "```\n",
        "# This is formatted as code\n",
        "```\n",
        "\n"
      ],
      "metadata": {
        "id": "icJz4g7PQaBe"
      }
    },
    {
      "cell_type": "code",
      "source": [
        "import numpy as np\n",
        "#sort array with axis\n",
        "\n",
        "a = np.array([[9,7,3],[5,6,4]])\n",
        "print(np.sort(a,axis=None))          # flatten sort\n",
        "print(np.sort(a,axis=-1))            # Row sort\n",
        "print(np.sort(a,axis=0))             # column sort\n"
      ],
      "metadata": {
        "colab": {
          "base_uri": "https://localhost:8080/"
        },
        "id": "TyT5Nh9cQgRc",
        "outputId": "e081a0da-d032-46db-bea2-951be9152b1f"
      },
      "execution_count": 3,
      "outputs": [
        {
          "output_type": "stream",
          "name": "stdout",
          "text": [
            "[3 4 5 6 7 9]\n",
            "[[3 7 9]\n",
            " [4 5 6]]\n",
            "[[5 6 3]\n",
            " [9 7 4]]\n"
          ]
        }
      ]
    },
    {
      "cell_type": "code",
      "source": [
        "import numpy as np\n",
        "#sort array with key\n",
        "\n",
        "dtype = [('name', 'S10'), ('height', float), ('age', int)]\n",
        "values = [('Arthur', 1.8, 41), ('Lancelot', 1.6, 42),('Galahad', 1.7, 38)]\n",
        "a = np.array(values, dtype=dtype)       # create a structured array\n",
        "#print(a)\n",
        "b=np.sort(a, order='height')  # sort by height\n",
        "print(b)\n"
      ],
      "metadata": {
        "colab": {
          "base_uri": "https://localhost:8080/"
        },
        "id": "cdqH2Ue-kvD4",
        "outputId": "32a335b0-e878-468b-c743-ccb96e418e21"
      },
      "execution_count": 2,
      "outputs": [
        {
          "output_type": "stream",
          "name": "stdout",
          "text": [
            "[(b'Lancelot', 1.6, 42) (b'Galahad', 1.7, 38) (b'Arthur', 1.8, 41)]\n"
          ]
        }
      ]
    },
    {
      "cell_type": "markdown",
      "source": [
        "#Searching elements in Numpy Array"
      ],
      "metadata": {
        "id": "LE_K72VKCk_c"
      }
    },
    {
      "cell_type": "code",
      "source": [
        "import numpy as np\n",
        "\n",
        "# return indexes where the values are even\n",
        "\n",
        "a = np.array([1, 2, 3, 4, 5, 6, 7, 8, 9, 10])\n",
        "b = np.where(a%2 == 0)\n",
        "print(b)"
      ],
      "metadata": {
        "colab": {
          "base_uri": "https://localhost:8080/"
        },
        "id": "d4fEfT5rCoRt",
        "outputId": "9d4d3223-2a32-45bd-b366-67e801019efd"
      },
      "execution_count": 6,
      "outputs": [
        {
          "output_type": "stream",
          "name": "stdout",
          "text": [
            "(array([1, 3, 5, 7, 9]),)\n"
          ]
        }
      ]
    },
    {
      "cell_type": "code",
      "source": [
        "import numpy as np\n",
        "\n",
        "# return elements based on condition\n",
        "\n",
        "a = np.arange(10)\n",
        "b=np.where(a < 5, a, 10*a)\n",
        "print(b)"
      ],
      "metadata": {
        "colab": {
          "base_uri": "https://localhost:8080/"
        },
        "id": "TMQSz60vDBSm",
        "outputId": "fc3016af-0d12-49af-b902-f5538269dc28"
      },
      "execution_count": 7,
      "outputs": [
        {
          "output_type": "stream",
          "name": "stdout",
          "text": [
            "[ 0  1  2  3  4 50 60 70 80 90]\n"
          ]
        }
      ]
    },
    {
      "cell_type": "code",
      "source": [
        "import numpy as np\n",
        "\n",
        "a = np.array([[0, 1, 2],\n",
        "              [0, 2, 4],\n",
        "              [0, 3, 6]])\n",
        "b=np.where(a < 4, a, -1)\n",
        "print(b)\n",
        "\n",
        "c=np.where(\n",
        "        [\n",
        "          [True, False],\n",
        "          [True, True]\n",
        "        ],\n",
        "        [\n",
        "          [1, 2],\n",
        "          [3, 4]\n",
        "        ],\n",
        "        [\n",
        "          [9, 8],\n",
        "          [7, 6]\n",
        "        ]\n",
        "  )\n",
        "\n",
        "print(c)"
      ],
      "metadata": {
        "colab": {
          "base_uri": "https://localhost:8080/"
        },
        "id": "oMW-b74AD9MM",
        "outputId": "f8a36b7b-260f-4a04-fc36-27f5c8d4bed4"
      },
      "execution_count": 8,
      "outputs": [
        {
          "output_type": "stream",
          "name": "stdout",
          "text": [
            "[[ 0  1  2]\n",
            " [ 0  2 -1]\n",
            " [ 0  3 -1]]\n",
            "[[1 8]\n",
            " [3 4]]\n"
          ]
        }
      ]
    },
    {
      "cell_type": "code",
      "source": [
        "import numpy as np\n",
        "\n",
        "# return indexes where the value 7 should be inserted\n",
        "\n",
        "a = np.array([6, 7, 8, 9])\n",
        "b = np.searchsorted(a, 7)\n",
        "print(b)"
      ],
      "metadata": {
        "colab": {
          "base_uri": "https://localhost:8080/"
        },
        "id": "XB75x2lWIUB1",
        "outputId": "08b1125a-5fce-48a0-88a2-e8119d06e52f"
      },
      "execution_count": 9,
      "outputs": [
        {
          "output_type": "stream",
          "name": "stdout",
          "text": [
            "1\n"
          ]
        }
      ]
    },
    {
      "cell_type": "code",
      "source": [
        "import numpy as np\n",
        "\n",
        "# return indexes where the below values should be inserted\n",
        "\n",
        "a= np.searchsorted([1,2,3,4,5], [-10, 10, 2, 3])\n",
        "print(a)\n"
      ],
      "metadata": {
        "colab": {
          "base_uri": "https://localhost:8080/"
        },
        "id": "qSPml1ezIfgj",
        "outputId": "14fa8064-3f45-4142-bdcd-34f6494b2aaf"
      },
      "execution_count": 10,
      "outputs": [
        {
          "output_type": "stream",
          "name": "stdout",
          "text": [
            "[0 5 1 2]\n"
          ]
        }
      ]
    }
  ]
}