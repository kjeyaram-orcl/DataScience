{
  "nbformat": 4,
  "nbformat_minor": 0,
  "metadata": {
    "colab": {
      "provenance": [],
      "authorship_tag": "ABX9TyNtiA6Cf9kmtoI38c1pHMzR",
      "include_colab_link": true
    },
    "kernelspec": {
      "name": "python3",
      "display_name": "Python 3"
    },
    "language_info": {
      "name": "python"
    }
  },
  "cells": [
    {
      "cell_type": "markdown",
      "metadata": {
        "id": "view-in-github",
        "colab_type": "text"
      },
      "source": [
        "<a href=\"https://colab.research.google.com/github/kjeyaram-orcl/DataScience/blob/main/NumpyDataTypes.ipynb\" target=\"_parent\"><img src=\"https://colab.research.google.com/assets/colab-badge.svg\" alt=\"Open In Colab\"/></a>"
      ]
    },
    {
      "cell_type": "code",
      "execution_count": null,
      "metadata": {
        "colab": {
          "base_uri": "https://localhost:8080/"
        },
        "id": "mfd__O5AbdZi",
        "outputId": "9d33f11f-e7cc-4fd1-971a-9aae1b26fe6e"
      },
      "outputs": [
        {
          "output_type": "stream",
          "name": "stdout",
          "text": [
            "20\n"
          ]
        }
      ],
      "source": [
        "import numpy as np\n",
        "\n",
        "#Numpy Datatype\n",
        "\n",
        "#create array with defined data type\n",
        "uni = np.array([1,2,3],dtype='U')\n",
        "print(uni)\n",
        "print(uni.dtype)\n",
        "\n",
        "str = np.array(['abc','b','c'],dtype='S')\n",
        "print(str)\n",
        "print(str.dtype)\n",
        "\n",
        "int = np.array([1, 2, 3, 4], dtype='i') #i-32bit,int-64bit\n",
        "print(int.dtype)\n",
        "\n",
        "#casting int to float\n",
        "i_f = np.array([1, 2, 3, 4], dtype='i')\n",
        "fl=i_f.astype(float)\n",
        "print(fl.dtype)\n",
        "\n",
        "#casting int to string\n",
        "i_s = np.array([1, 2, 3, 4], dtype='i')\n",
        "st=i_s.astype('S')\n",
        "print(st.dtype)\n",
        "\n",
        "#casting int/float to boolean\n",
        "i_b = np.array([1.1, 2, 3, 0], dtype='i')\n",
        "bo=i_b.astype(bool)\n",
        "print(bo) # value > 1 represent True\n",
        "print(bo.dtype)\n"
      ]
    }
  ]
}