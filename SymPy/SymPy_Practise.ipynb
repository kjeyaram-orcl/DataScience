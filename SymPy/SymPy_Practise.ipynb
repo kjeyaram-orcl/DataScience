{
  "nbformat": 4,
  "nbformat_minor": 0,
  "metadata": {
    "colab": {
      "provenance": [],
      "authorship_tag": "ABX9TyOXWAD7qmZ4TC8l7AB2BJSi",
      "include_colab_link": true
    },
    "kernelspec": {
      "name": "python3",
      "display_name": "Python 3"
    },
    "language_info": {
      "name": "python"
    }
  },
  "cells": [
    {
      "cell_type": "markdown",
      "metadata": {
        "id": "view-in-github",
        "colab_type": "text"
      },
      "source": [
        "<a href=\"https://colab.research.google.com/github/kjeyaram-orcl/DataScience/blob/main/SymPy/SymPy_Practise.ipynb\" target=\"_parent\"><img src=\"https://colab.research.google.com/assets/colab-badge.svg\" alt=\"Open In Colab\"/></a>"
      ]
    },
    {
      "cell_type": "code",
      "execution_count": 50,
      "metadata": {
        "id": "Ne3ULyehGQUA"
      },
      "outputs": [],
      "source": [
        "from sympy import *\n",
        "x, y, z = sym.symbols('x y z')"
      ]
    },
    {
      "cell_type": "markdown",
      "source": [
        "#Limits"
      ],
      "metadata": {
        "id": "ch4MKbZul4_M"
      }
    },
    {
      "cell_type": "markdown",
      "source": [
        "#Derivative"
      ],
      "metadata": {
        "id": "CGFx8XZ8NEZP"
      }
    },
    {
      "cell_type": "code",
      "source": [
        "ans = Derivative(3*x**2+1,x)\n",
        "ans"
      ],
      "metadata": {
        "colab": {
          "base_uri": "https://localhost:8080/",
          "height": 52
        },
        "id": "opNVN-SuLl0m",
        "outputId": "b652a332-8dc6-41cb-efda-87980c383254"
      },
      "execution_count": 45,
      "outputs": [
        {
          "output_type": "execute_result",
          "data": {
            "text/plain": [
              "Derivative(3*x**2 + 1, x)"
            ],
            "text/latex": "$\\displaystyle \\frac{d}{d x} \\left(3 x^{2} + 1\\right)$"
          },
          "metadata": {},
          "execution_count": 45
        }
      ]
    },
    {
      "cell_type": "code",
      "source": [
        "from sympy import *\n",
        "\n",
        "f = 3*x**2+1\n",
        "\n",
        "# Calculate the derivative of the function with respect to x\n",
        "res = diff(f, x )\n",
        "display(res)\n",
        "\n",
        "print(res.subs(x,2))"
      ],
      "metadata": {
        "colab": {
          "base_uri": "https://localhost:8080/",
          "height": 56
        },
        "id": "totjRXu5MqxU",
        "outputId": "b5eab586-ed80-4c31-dded-f9f80a84c38f"
      },
      "execution_count": 65,
      "outputs": [
        {
          "output_type": "display_data",
          "data": {
            "text/plain": [
              "6*x"
            ],
            "text/latex": "$\\displaystyle 6 x$"
          },
          "metadata": {}
        },
        {
          "output_type": "stream",
          "name": "stdout",
          "text": [
            "12\n"
          ]
        }
      ]
    },
    {
      "cell_type": "code",
      "source": [
        "#Partial Derivatives\n",
        "\n",
        "f = 2*x**3 + 3*y**3\n",
        "\n",
        "dx_f=diff(f,x)\n",
        "dy_f=diff(f,y)\n",
        "\n",
        "display(dx_f)\n",
        "display(dy_f)\n",
        "\n",
        "print(dx_f.subs(x,2))\n",
        "print(dy_f.subs(y,2))\n"
      ],
      "metadata": {
        "colab": {
          "base_uri": "https://localhost:8080/",
          "height": 94
        },
        "id": "S79ivluxjyX7",
        "outputId": "a25a70b7-a7b3-41d4-aa35-5f279bff7821"
      },
      "execution_count": 68,
      "outputs": [
        {
          "output_type": "display_data",
          "data": {
            "text/plain": [
              "6*x**2"
            ],
            "text/latex": "$\\displaystyle 6 x^{2}$"
          },
          "metadata": {}
        },
        {
          "output_type": "display_data",
          "data": {
            "text/plain": [
              "9*y**2"
            ],
            "text/latex": "$\\displaystyle 9 y^{2}$"
          },
          "metadata": {}
        },
        {
          "output_type": "stream",
          "name": "stdout",
          "text": [
            "24\n",
            "36\n"
          ]
        }
      ]
    },
    {
      "cell_type": "markdown",
      "source": [
        "#Integral"
      ],
      "metadata": {
        "id": "d0egjSdwM_MI"
      }
    },
    {
      "cell_type": "code",
      "source": [
        "ans = Integral(3*x**2+1,x)\n",
        "ans"
      ],
      "metadata": {
        "colab": {
          "base_uri": "https://localhost:8080/",
          "height": 55
        },
        "id": "W_MwOzVTGkRG",
        "outputId": "553c651b-50f5-480e-ec07-36bc9c450d3d"
      },
      "execution_count": 52,
      "outputs": [
        {
          "output_type": "execute_result",
          "data": {
            "text/plain": [
              "Integral(3*x**2 + 1, x)"
            ],
            "text/latex": "$\\displaystyle \\int \\left(3 x^{2} + 1\\right)\\, dx$"
          },
          "metadata": {},
          "execution_count": 52
        }
      ]
    },
    {
      "cell_type": "code",
      "source": [
        "res=integrate(3*x**2+1)\n",
        "res"
      ],
      "metadata": {
        "colab": {
          "base_uri": "https://localhost:8080/",
          "height": 38
        },
        "id": "DKZY1pV7HV-J",
        "outputId": "c514f378-d3ea-4944-fa03-674689c47efe"
      },
      "execution_count": 38,
      "outputs": [
        {
          "output_type": "execute_result",
          "data": {
            "text/plain": [
              "x**3 + x"
            ],
            "text/latex": "$\\displaystyle x^{3} + x$"
          },
          "metadata": {},
          "execution_count": 38
        }
      ]
    },
    {
      "cell_type": "code",
      "source": [
        "from sympy import *\n",
        "\n",
        "# Now just use Python syntax to declare function\n",
        "f = 3*x**2+1\n",
        "\n",
        "# Calculate the integral of the function with respect to x for the area between x = 0 and 2\n",
        "area = integrate(f, (x, 0, 2))\n",
        "\n",
        "print(area) # prints 10"
      ],
      "metadata": {
        "colab": {
          "base_uri": "https://localhost:8080/"
        },
        "id": "CQbCked2H-Nz",
        "outputId": "ef99a687-0e3b-4ebe-9148-c469099bc439"
      },
      "execution_count": 54,
      "outputs": [
        {
          "output_type": "stream",
          "name": "stdout",
          "text": [
            "10\n"
          ]
        }
      ]
    }
  ]
}