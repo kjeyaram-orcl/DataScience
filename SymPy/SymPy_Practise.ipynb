{
  "nbformat": 4,
  "nbformat_minor": 0,
  "metadata": {
    "colab": {
      "provenance": [],
      "authorship_tag": "ABX9TyN25bbLs8cd6uUQaTBI4V2J",
      "include_colab_link": true
    },
    "kernelspec": {
      "name": "python3",
      "display_name": "Python 3"
    },
    "language_info": {
      "name": "python"
    }
  },
  "cells": [
    {
      "cell_type": "markdown",
      "metadata": {
        "id": "view-in-github",
        "colab_type": "text"
      },
      "source": [
        "<a href=\"https://colab.research.google.com/github/kjeyaram-orcl/DataScience/blob/main/SymPy/SymPy_Practise.ipynb\" target=\"_parent\"><img src=\"https://colab.research.google.com/assets/colab-badge.svg\" alt=\"Open In Colab\"/></a>"
      ]
    },
    {
      "cell_type": "markdown",
      "source": [
        "#Derivative"
      ],
      "metadata": {
        "id": "CGFx8XZ8NEZP"
      }
    },
    {
      "cell_type": "code",
      "execution_count": 50,
      "metadata": {
        "id": "Ne3ULyehGQUA"
      },
      "outputs": [],
      "source": [
        "from sympy import *\n",
        "x, y, z = sym.symbols('x y z')"
      ]
    },
    {
      "cell_type": "code",
      "source": [
        "ans = Derivative(3*x**2+1,x)\n",
        "ans"
      ],
      "metadata": {
        "colab": {
          "base_uri": "https://localhost:8080/",
          "height": 52
        },
        "id": "opNVN-SuLl0m",
        "outputId": "b652a332-8dc6-41cb-efda-87980c383254"
      },
      "execution_count": 45,
      "outputs": [
        {
          "output_type": "execute_result",
          "data": {
            "text/plain": [
              "Derivative(3*x**2 + 1, x)"
            ],
            "text/latex": "$\\displaystyle \\frac{d}{d x} \\left(3 x^{2} + 1\\right)$"
          },
          "metadata": {},
          "execution_count": 45
        }
      ]
    },
    {
      "cell_type": "code",
      "source": [
        "from sympy import *\n",
        "\n",
        "# Now just use Python syntax to declare function\n",
        "f = 3*x**2+1\n",
        "\n",
        "# Calculate the derivative of the function with respect to x\n",
        "res = diff(f, x)\n",
        "\n",
        "res # prints 10"
      ],
      "metadata": {
        "colab": {
          "base_uri": "https://localhost:8080/",
          "height": 38
        },
        "id": "totjRXu5MqxU",
        "outputId": "2b5238d7-5f40-411c-b3ad-ae647c6aee77"
      },
      "execution_count": 55,
      "outputs": [
        {
          "output_type": "execute_result",
          "data": {
            "text/plain": [
              "6*x"
            ],
            "text/latex": "$\\displaystyle 6 x$"
          },
          "metadata": {},
          "execution_count": 55
        }
      ]
    },
    {
      "cell_type": "markdown",
      "source": [
        "#Integral"
      ],
      "metadata": {
        "id": "d0egjSdwM_MI"
      }
    },
    {
      "cell_type": "code",
      "source": [
        "ans = Integral(3*x**2+1,x)\n",
        "ans"
      ],
      "metadata": {
        "colab": {
          "base_uri": "https://localhost:8080/",
          "height": 55
        },
        "id": "W_MwOzVTGkRG",
        "outputId": "553c651b-50f5-480e-ec07-36bc9c450d3d"
      },
      "execution_count": 52,
      "outputs": [
        {
          "output_type": "execute_result",
          "data": {
            "text/plain": [
              "Integral(3*x**2 + 1, x)"
            ],
            "text/latex": "$\\displaystyle \\int \\left(3 x^{2} + 1\\right)\\, dx$"
          },
          "metadata": {},
          "execution_count": 52
        }
      ]
    },
    {
      "cell_type": "code",
      "source": [
        "res=integrate(3*x**2+1)\n",
        "res"
      ],
      "metadata": {
        "colab": {
          "base_uri": "https://localhost:8080/",
          "height": 38
        },
        "id": "DKZY1pV7HV-J",
        "outputId": "c514f378-d3ea-4944-fa03-674689c47efe"
      },
      "execution_count": 38,
      "outputs": [
        {
          "output_type": "execute_result",
          "data": {
            "text/plain": [
              "x**3 + x"
            ],
            "text/latex": "$\\displaystyle x^{3} + x$"
          },
          "metadata": {},
          "execution_count": 38
        }
      ]
    },
    {
      "cell_type": "code",
      "source": [
        "from sympy import *\n",
        "\n",
        "# Now just use Python syntax to declare function\n",
        "f = 3*x**2+1\n",
        "\n",
        "# Calculate the integral of the function with respect to x for the area between x = 0 and 2\n",
        "area = integrate(f, (x, 0, 2))\n",
        "\n",
        "print(area) # prints 10"
      ],
      "metadata": {
        "colab": {
          "base_uri": "https://localhost:8080/"
        },
        "id": "CQbCked2H-Nz",
        "outputId": "ef99a687-0e3b-4ebe-9148-c469099bc439"
      },
      "execution_count": 54,
      "outputs": [
        {
          "output_type": "stream",
          "name": "stdout",
          "text": [
            "10\n"
          ]
        }
      ]
    }
  ]
}