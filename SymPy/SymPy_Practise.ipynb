{
  "nbformat": 4,
  "nbformat_minor": 0,
  "metadata": {
    "colab": {
      "provenance": [],
      "authorship_tag": "ABX9TyOq6xg47caLkslHdsKcN07o",
      "include_colab_link": true
    },
    "kernelspec": {
      "name": "python3",
      "display_name": "Python 3"
    },
    "language_info": {
      "name": "python"
    }
  },
  "cells": [
    {
      "cell_type": "markdown",
      "metadata": {
        "id": "view-in-github",
        "colab_type": "text"
      },
      "source": [
        "<a href=\"https://colab.research.google.com/github/kjeyaram-orcl/DataScience/blob/main/SymPy/SymPy_Practise.ipynb\" target=\"_parent\"><img src=\"https://colab.research.google.com/assets/colab-badge.svg\" alt=\"Open In Colab\"/></a>"
      ]
    },
    {
      "cell_type": "code",
      "execution_count": 5,
      "metadata": {
        "id": "Ne3ULyehGQUA"
      },
      "outputs": [],
      "source": [
        "from sympy import *\n",
        "x, y, z = sym.symbols('x y z')"
      ]
    },
    {
      "cell_type": "code",
      "source": [
        "ans = Integral(3*x**2+1,x)\n",
        "ans"
      ],
      "metadata": {
        "colab": {
          "base_uri": "https://localhost:8080/",
          "height": 55
        },
        "id": "W_MwOzVTGkRG",
        "outputId": "cb5f62cb-9fc7-4181-f2e1-16e6e6e42a67"
      },
      "execution_count": 36,
      "outputs": [
        {
          "output_type": "execute_result",
          "data": {
            "text/plain": [
              "Integral(3*x**2 + 1, x)"
            ],
            "text/latex": "$\\displaystyle \\int \\left(3 x^{2} + 1\\right)\\, dx$"
          },
          "metadata": {},
          "execution_count": 36
        }
      ]
    },
    {
      "cell_type": "code",
      "source": [
        "res=integrate(3*x**2+1)\n",
        "res"
      ],
      "metadata": {
        "colab": {
          "base_uri": "https://localhost:8080/",
          "height": 38
        },
        "id": "DKZY1pV7HV-J",
        "outputId": "c514f378-d3ea-4944-fa03-674689c47efe"
      },
      "execution_count": 38,
      "outputs": [
        {
          "output_type": "execute_result",
          "data": {
            "text/plain": [
              "x**3 + x"
            ],
            "text/latex": "$\\displaystyle x^{3} + x$"
          },
          "metadata": {},
          "execution_count": 38
        }
      ]
    },
    {
      "cell_type": "code",
      "source": [
        "from sympy import *\n",
        "\n",
        "# Declare 'x' to SymPy\n",
        "x = symbols('x')\n",
        "\n",
        "# Now just use Python syntax to declare function\n",
        "f = 3*x**2+1\n",
        "\n",
        "# Calculate the integral of the function with respect to x\n",
        "# for the area between x = 0 and 2\n",
        "area = integrate(f, (x, 0, 2))\n",
        "\n",
        "print(area) # prints 10"
      ],
      "metadata": {
        "colab": {
          "base_uri": "https://localhost:8080/"
        },
        "id": "CQbCked2H-Nz",
        "outputId": "b64fc9ec-d523-4580-fea3-86c866bc93f5"
      },
      "execution_count": 42,
      "outputs": [
        {
          "output_type": "stream",
          "name": "stdout",
          "text": [
            "10\n"
          ]
        }
      ]
    }
  ]
}