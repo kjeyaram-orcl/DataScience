{
  "cells": [
    {
      "cell_type": "markdown",
      "metadata": {
        "id": "view-in-github",
        "colab_type": "text"
      },
      "source": [
        "<a href=\"https://colab.research.google.com/github/kjeyaram-orcl/DataScience/blob/main/Telecom_Churn_CaseStudy.ipynb\" target=\"_parent\"><img src=\"https://colab.research.google.com/assets/colab-badge.svg\" alt=\"Open In Colab\"/></a>"
      ]
    },
    {
      "metadata": {
        "_uuid": "3334ba2e95b848f8f168b535846b480287a57f8c",
        "id": "amvWtHPbeVk8"
      },
      "cell_type": "markdown",
      "source": [
        "# Telecom Churn Case Study"
      ]
    },
    {
      "metadata": {
        "_uuid": "6ff8bafbc9d475de87e130c04cf1633339ff6bcf",
        "id": "IOV_SI0AeVk9"
      },
      "cell_type": "markdown",
      "source": [
        "**Understanding Business and Problem Statement:**\n",
        "\n",
        "You have a telecom firm which has collected data of all its customers.\n",
        "\n",
        "The main types of attributes are:\n",
        "\n",
        "1. Demographics (age, gender etc.)\n",
        "2. Services availed (internet packs purchased, special offers taken etc.)\n",
        "3. Expenses (amount of recharge done per month etc.)\n",
        "\n",
        "\n",
        "Based on all this past information, you want to build a model which will predict whether a particular customer will churn or not.<br>\n",
        "So the variable of interest, i.e. the target variable here is ‘Churn’ which will tell us whether or not a particular customer has churned. It is a binary variable - 1 means that the customer has churned and 0 means the customer has not churned.\n",
        "With 21 predictor variables we need to predict whether a particular customer will switch to another telecom provider or not.\n"
      ]
    },
    {
      "metadata": {
        "trusted": true,
        "_uuid": "81da2023fe6d7a444c154d9d2b81c58a0f93bdc6",
        "id": "b-gqD0uveVk-"
      },
      "cell_type": "code",
      "source": [
        "# Import Libraries\n",
        "\n",
        "import numpy as np\n",
        "import pandas as pd\n",
        "import matplotlib.pyplot as plt\n",
        "import seaborn as sns"
      ],
      "execution_count": 1,
      "outputs": []
    },
    {
      "metadata": {
        "_uuid": "298866e5ba83c27a0fa52a5199f70c0f5a7c27c8",
        "id": "kyqNsDA8eVk-"
      },
      "cell_type": "markdown",
      "source": [
        "**Understanding Data**"
      ]
    },
    {
      "metadata": {
        "trusted": true,
        "_uuid": "5e5a70e798948bc26c32e7b8324ee86db1331973",
        "id": "ezn9-s6heVk_"
      },
      "cell_type": "code",
      "source": [
        "# Importing all datasets\n",
        "churn_data = pd.read_csv('/content/churn_data.csv')\n",
        "customer_data = pd.read_csv(\"/content/customer_data.csv\")\n",
        "internet_data = pd.read_csv(\"/content/internet_data.csv\")\n"
      ],
      "execution_count": 63,
      "outputs": []
    },
    {
      "metadata": {
        "trusted": true,
        "_uuid": "0b2d9b628d44c70b9f69ba9e0ec445631886194e",
        "id": "QC5puzVzeVlB"
      },
      "cell_type": "code",
      "source": [
        "#Consolidate all data into one dataframe, Merging on 'customerID'\n",
        "df_1 = pd.merge(churn_data, customer_data, how='inner', on='customerID')\n",
        "# Final dataframe with all predictor variables\n",
        "telecom = pd.merge(df_1, internet_data, how='inner', on='customerID')"
      ],
      "execution_count": 64,
      "outputs": []
    },
    {
      "metadata": {
        "trusted": true,
        "_uuid": "b2677ab97a27f98104632692a401329431e56fbc",
        "colab": {
          "base_uri": "https://localhost:8080/",
          "height": 342
        },
        "id": "JTy4MWlueVlB",
        "outputId": "149f8650-d0ad-4e45-835d-b51258f8018b"
      },
      "cell_type": "code",
      "source": [
        "# Let's see the head of our master dataset\n",
        "telecom.head()"
      ],
      "execution_count": 11,
      "outputs": [
        {
          "output_type": "execute_result",
          "data": {
            "text/plain": [
              "   customerID  tenure PhoneService        Contract PaperlessBilling  \\\n",
              "0  7590-VHVEG       1           No  Month-to-month              Yes   \n",
              "1  5575-GNVDE      34          Yes        One year               No   \n",
              "2  3668-QPYBK       2          Yes  Month-to-month              Yes   \n",
              "3  7795-CFOCW      45           No        One year               No   \n",
              "4  9237-HQITU       2          Yes  Month-to-month              Yes   \n",
              "\n",
              "               PaymentMethod  MonthlyCharges TotalCharges Churn  gender  ...  \\\n",
              "0           Electronic check           29.85        29.85    No  Female  ...   \n",
              "1               Mailed check           56.95       1889.5    No    Male  ...   \n",
              "2               Mailed check           53.85       108.15   Yes    Male  ...   \n",
              "3  Bank transfer (automatic)           42.30      1840.75    No    Male  ...   \n",
              "4           Electronic check           70.70       151.65   Yes  Female  ...   \n",
              "\n",
              "   Partner Dependents     MultipleLines InternetService OnlineSecurity  \\\n",
              "0      Yes         No  No phone service             DSL             No   \n",
              "1       No         No                No             DSL            Yes   \n",
              "2       No         No                No             DSL            Yes   \n",
              "3       No         No  No phone service             DSL            Yes   \n",
              "4       No         No                No     Fiber optic             No   \n",
              "\n",
              "  OnlineBackup DeviceProtection TechSupport StreamingTV StreamingMovies  \n",
              "0          Yes               No          No          No              No  \n",
              "1           No              Yes          No          No              No  \n",
              "2          Yes               No          No          No              No  \n",
              "3           No              Yes         Yes          No              No  \n",
              "4           No               No          No          No              No  \n",
              "\n",
              "[5 rows x 21 columns]"
            ],
            "text/html": [
              "\n",
              "  <div id=\"df-551f9282-a40f-4967-aaef-21edaf1cb56b\" class=\"colab-df-container\">\n",
              "    <div>\n",
              "<style scoped>\n",
              "    .dataframe tbody tr th:only-of-type {\n",
              "        vertical-align: middle;\n",
              "    }\n",
              "\n",
              "    .dataframe tbody tr th {\n",
              "        vertical-align: top;\n",
              "    }\n",
              "\n",
              "    .dataframe thead th {\n",
              "        text-align: right;\n",
              "    }\n",
              "</style>\n",
              "<table border=\"1\" class=\"dataframe\">\n",
              "  <thead>\n",
              "    <tr style=\"text-align: right;\">\n",
              "      <th></th>\n",
              "      <th>customerID</th>\n",
              "      <th>tenure</th>\n",
              "      <th>PhoneService</th>\n",
              "      <th>Contract</th>\n",
              "      <th>PaperlessBilling</th>\n",
              "      <th>PaymentMethod</th>\n",
              "      <th>MonthlyCharges</th>\n",
              "      <th>TotalCharges</th>\n",
              "      <th>Churn</th>\n",
              "      <th>gender</th>\n",
              "      <th>...</th>\n",
              "      <th>Partner</th>\n",
              "      <th>Dependents</th>\n",
              "      <th>MultipleLines</th>\n",
              "      <th>InternetService</th>\n",
              "      <th>OnlineSecurity</th>\n",
              "      <th>OnlineBackup</th>\n",
              "      <th>DeviceProtection</th>\n",
              "      <th>TechSupport</th>\n",
              "      <th>StreamingTV</th>\n",
              "      <th>StreamingMovies</th>\n",
              "    </tr>\n",
              "  </thead>\n",
              "  <tbody>\n",
              "    <tr>\n",
              "      <th>0</th>\n",
              "      <td>7590-VHVEG</td>\n",
              "      <td>1</td>\n",
              "      <td>No</td>\n",
              "      <td>Month-to-month</td>\n",
              "      <td>Yes</td>\n",
              "      <td>Electronic check</td>\n",
              "      <td>29.85</td>\n",
              "      <td>29.85</td>\n",
              "      <td>No</td>\n",
              "      <td>Female</td>\n",
              "      <td>...</td>\n",
              "      <td>Yes</td>\n",
              "      <td>No</td>\n",
              "      <td>No phone service</td>\n",
              "      <td>DSL</td>\n",
              "      <td>No</td>\n",
              "      <td>Yes</td>\n",
              "      <td>No</td>\n",
              "      <td>No</td>\n",
              "      <td>No</td>\n",
              "      <td>No</td>\n",
              "    </tr>\n",
              "    <tr>\n",
              "      <th>1</th>\n",
              "      <td>5575-GNVDE</td>\n",
              "      <td>34</td>\n",
              "      <td>Yes</td>\n",
              "      <td>One year</td>\n",
              "      <td>No</td>\n",
              "      <td>Mailed check</td>\n",
              "      <td>56.95</td>\n",
              "      <td>1889.5</td>\n",
              "      <td>No</td>\n",
              "      <td>Male</td>\n",
              "      <td>...</td>\n",
              "      <td>No</td>\n",
              "      <td>No</td>\n",
              "      <td>No</td>\n",
              "      <td>DSL</td>\n",
              "      <td>Yes</td>\n",
              "      <td>No</td>\n",
              "      <td>Yes</td>\n",
              "      <td>No</td>\n",
              "      <td>No</td>\n",
              "      <td>No</td>\n",
              "    </tr>\n",
              "    <tr>\n",
              "      <th>2</th>\n",
              "      <td>3668-QPYBK</td>\n",
              "      <td>2</td>\n",
              "      <td>Yes</td>\n",
              "      <td>Month-to-month</td>\n",
              "      <td>Yes</td>\n",
              "      <td>Mailed check</td>\n",
              "      <td>53.85</td>\n",
              "      <td>108.15</td>\n",
              "      <td>Yes</td>\n",
              "      <td>Male</td>\n",
              "      <td>...</td>\n",
              "      <td>No</td>\n",
              "      <td>No</td>\n",
              "      <td>No</td>\n",
              "      <td>DSL</td>\n",
              "      <td>Yes</td>\n",
              "      <td>Yes</td>\n",
              "      <td>No</td>\n",
              "      <td>No</td>\n",
              "      <td>No</td>\n",
              "      <td>No</td>\n",
              "    </tr>\n",
              "    <tr>\n",
              "      <th>3</th>\n",
              "      <td>7795-CFOCW</td>\n",
              "      <td>45</td>\n",
              "      <td>No</td>\n",
              "      <td>One year</td>\n",
              "      <td>No</td>\n",
              "      <td>Bank transfer (automatic)</td>\n",
              "      <td>42.30</td>\n",
              "      <td>1840.75</td>\n",
              "      <td>No</td>\n",
              "      <td>Male</td>\n",
              "      <td>...</td>\n",
              "      <td>No</td>\n",
              "      <td>No</td>\n",
              "      <td>No phone service</td>\n",
              "      <td>DSL</td>\n",
              "      <td>Yes</td>\n",
              "      <td>No</td>\n",
              "      <td>Yes</td>\n",
              "      <td>Yes</td>\n",
              "      <td>No</td>\n",
              "      <td>No</td>\n",
              "    </tr>\n",
              "    <tr>\n",
              "      <th>4</th>\n",
              "      <td>9237-HQITU</td>\n",
              "      <td>2</td>\n",
              "      <td>Yes</td>\n",
              "      <td>Month-to-month</td>\n",
              "      <td>Yes</td>\n",
              "      <td>Electronic check</td>\n",
              "      <td>70.70</td>\n",
              "      <td>151.65</td>\n",
              "      <td>Yes</td>\n",
              "      <td>Female</td>\n",
              "      <td>...</td>\n",
              "      <td>No</td>\n",
              "      <td>No</td>\n",
              "      <td>No</td>\n",
              "      <td>Fiber optic</td>\n",
              "      <td>No</td>\n",
              "      <td>No</td>\n",
              "      <td>No</td>\n",
              "      <td>No</td>\n",
              "      <td>No</td>\n",
              "      <td>No</td>\n",
              "    </tr>\n",
              "  </tbody>\n",
              "</table>\n",
              "<p>5 rows × 21 columns</p>\n",
              "</div>\n",
              "    <div class=\"colab-df-buttons\">\n",
              "\n",
              "  <div class=\"colab-df-container\">\n",
              "    <button class=\"colab-df-convert\" onclick=\"convertToInteractive('df-551f9282-a40f-4967-aaef-21edaf1cb56b')\"\n",
              "            title=\"Convert this dataframe to an interactive table.\"\n",
              "            style=\"display:none;\">\n",
              "\n",
              "  <svg xmlns=\"http://www.w3.org/2000/svg\" height=\"24px\" viewBox=\"0 -960 960 960\">\n",
              "    <path d=\"M120-120v-720h720v720H120Zm60-500h600v-160H180v160Zm220 220h160v-160H400v160Zm0 220h160v-160H400v160ZM180-400h160v-160H180v160Zm440 0h160v-160H620v160ZM180-180h160v-160H180v160Zm440 0h160v-160H620v160Z\"/>\n",
              "  </svg>\n",
              "    </button>\n",
              "\n",
              "  <style>\n",
              "    .colab-df-container {\n",
              "      display:flex;\n",
              "      gap: 12px;\n",
              "    }\n",
              "\n",
              "    .colab-df-convert {\n",
              "      background-color: #E8F0FE;\n",
              "      border: none;\n",
              "      border-radius: 50%;\n",
              "      cursor: pointer;\n",
              "      display: none;\n",
              "      fill: #1967D2;\n",
              "      height: 32px;\n",
              "      padding: 0 0 0 0;\n",
              "      width: 32px;\n",
              "    }\n",
              "\n",
              "    .colab-df-convert:hover {\n",
              "      background-color: #E2EBFA;\n",
              "      box-shadow: 0px 1px 2px rgba(60, 64, 67, 0.3), 0px 1px 3px 1px rgba(60, 64, 67, 0.15);\n",
              "      fill: #174EA6;\n",
              "    }\n",
              "\n",
              "    .colab-df-buttons div {\n",
              "      margin-bottom: 4px;\n",
              "    }\n",
              "\n",
              "    [theme=dark] .colab-df-convert {\n",
              "      background-color: #3B4455;\n",
              "      fill: #D2E3FC;\n",
              "    }\n",
              "\n",
              "    [theme=dark] .colab-df-convert:hover {\n",
              "      background-color: #434B5C;\n",
              "      box-shadow: 0px 1px 3px 1px rgba(0, 0, 0, 0.15);\n",
              "      filter: drop-shadow(0px 1px 2px rgba(0, 0, 0, 0.3));\n",
              "      fill: #FFFFFF;\n",
              "    }\n",
              "  </style>\n",
              "\n",
              "    <script>\n",
              "      const buttonEl =\n",
              "        document.querySelector('#df-551f9282-a40f-4967-aaef-21edaf1cb56b button.colab-df-convert');\n",
              "      buttonEl.style.display =\n",
              "        google.colab.kernel.accessAllowed ? 'block' : 'none';\n",
              "\n",
              "      async function convertToInteractive(key) {\n",
              "        const element = document.querySelector('#df-551f9282-a40f-4967-aaef-21edaf1cb56b');\n",
              "        const dataTable =\n",
              "          await google.colab.kernel.invokeFunction('convertToInteractive',\n",
              "                                                    [key], {});\n",
              "        if (!dataTable) return;\n",
              "\n",
              "        const docLinkHtml = 'Like what you see? Visit the ' +\n",
              "          '<a target=\"_blank\" href=https://colab.research.google.com/notebooks/data_table.ipynb>data table notebook</a>'\n",
              "          + ' to learn more about interactive tables.';\n",
              "        element.innerHTML = '';\n",
              "        dataTable['output_type'] = 'display_data';\n",
              "        await google.colab.output.renderOutput(dataTable, element);\n",
              "        const docLink = document.createElement('div');\n",
              "        docLink.innerHTML = docLinkHtml;\n",
              "        element.appendChild(docLink);\n",
              "      }\n",
              "    </script>\n",
              "  </div>\n",
              "\n",
              "\n",
              "<div id=\"df-b700fb03-b55f-411b-bbe4-44dca49e552d\">\n",
              "  <button class=\"colab-df-quickchart\" onclick=\"quickchart('df-b700fb03-b55f-411b-bbe4-44dca49e552d')\"\n",
              "            title=\"Suggest charts\"\n",
              "            style=\"display:none;\">\n",
              "\n",
              "<svg xmlns=\"http://www.w3.org/2000/svg\" height=\"24px\"viewBox=\"0 0 24 24\"\n",
              "     width=\"24px\">\n",
              "    <g>\n",
              "        <path d=\"M19 3H5c-1.1 0-2 .9-2 2v14c0 1.1.9 2 2 2h14c1.1 0 2-.9 2-2V5c0-1.1-.9-2-2-2zM9 17H7v-7h2v7zm4 0h-2V7h2v10zm4 0h-2v-4h2v4z\"/>\n",
              "    </g>\n",
              "</svg>\n",
              "  </button>\n",
              "\n",
              "<style>\n",
              "  .colab-df-quickchart {\n",
              "      --bg-color: #E8F0FE;\n",
              "      --fill-color: #1967D2;\n",
              "      --hover-bg-color: #E2EBFA;\n",
              "      --hover-fill-color: #174EA6;\n",
              "      --disabled-fill-color: #AAA;\n",
              "      --disabled-bg-color: #DDD;\n",
              "  }\n",
              "\n",
              "  [theme=dark] .colab-df-quickchart {\n",
              "      --bg-color: #3B4455;\n",
              "      --fill-color: #D2E3FC;\n",
              "      --hover-bg-color: #434B5C;\n",
              "      --hover-fill-color: #FFFFFF;\n",
              "      --disabled-bg-color: #3B4455;\n",
              "      --disabled-fill-color: #666;\n",
              "  }\n",
              "\n",
              "  .colab-df-quickchart {\n",
              "    background-color: var(--bg-color);\n",
              "    border: none;\n",
              "    border-radius: 50%;\n",
              "    cursor: pointer;\n",
              "    display: none;\n",
              "    fill: var(--fill-color);\n",
              "    height: 32px;\n",
              "    padding: 0;\n",
              "    width: 32px;\n",
              "  }\n",
              "\n",
              "  .colab-df-quickchart:hover {\n",
              "    background-color: var(--hover-bg-color);\n",
              "    box-shadow: 0 1px 2px rgba(60, 64, 67, 0.3), 0 1px 3px 1px rgba(60, 64, 67, 0.15);\n",
              "    fill: var(--button-hover-fill-color);\n",
              "  }\n",
              "\n",
              "  .colab-df-quickchart-complete:disabled,\n",
              "  .colab-df-quickchart-complete:disabled:hover {\n",
              "    background-color: var(--disabled-bg-color);\n",
              "    fill: var(--disabled-fill-color);\n",
              "    box-shadow: none;\n",
              "  }\n",
              "\n",
              "  .colab-df-spinner {\n",
              "    border: 2px solid var(--fill-color);\n",
              "    border-color: transparent;\n",
              "    border-bottom-color: var(--fill-color);\n",
              "    animation:\n",
              "      spin 1s steps(1) infinite;\n",
              "  }\n",
              "\n",
              "  @keyframes spin {\n",
              "    0% {\n",
              "      border-color: transparent;\n",
              "      border-bottom-color: var(--fill-color);\n",
              "      border-left-color: var(--fill-color);\n",
              "    }\n",
              "    20% {\n",
              "      border-color: transparent;\n",
              "      border-left-color: var(--fill-color);\n",
              "      border-top-color: var(--fill-color);\n",
              "    }\n",
              "    30% {\n",
              "      border-color: transparent;\n",
              "      border-left-color: var(--fill-color);\n",
              "      border-top-color: var(--fill-color);\n",
              "      border-right-color: var(--fill-color);\n",
              "    }\n",
              "    40% {\n",
              "      border-color: transparent;\n",
              "      border-right-color: var(--fill-color);\n",
              "      border-top-color: var(--fill-color);\n",
              "    }\n",
              "    60% {\n",
              "      border-color: transparent;\n",
              "      border-right-color: var(--fill-color);\n",
              "    }\n",
              "    80% {\n",
              "      border-color: transparent;\n",
              "      border-right-color: var(--fill-color);\n",
              "      border-bottom-color: var(--fill-color);\n",
              "    }\n",
              "    90% {\n",
              "      border-color: transparent;\n",
              "      border-bottom-color: var(--fill-color);\n",
              "    }\n",
              "  }\n",
              "</style>\n",
              "\n",
              "  <script>\n",
              "    async function quickchart(key) {\n",
              "      const quickchartButtonEl =\n",
              "        document.querySelector('#' + key + ' button');\n",
              "      quickchartButtonEl.disabled = true;  // To prevent multiple clicks.\n",
              "      quickchartButtonEl.classList.add('colab-df-spinner');\n",
              "      try {\n",
              "        const charts = await google.colab.kernel.invokeFunction(\n",
              "            'suggestCharts', [key], {});\n",
              "      } catch (error) {\n",
              "        console.error('Error during call to suggestCharts:', error);\n",
              "      }\n",
              "      quickchartButtonEl.classList.remove('colab-df-spinner');\n",
              "      quickchartButtonEl.classList.add('colab-df-quickchart-complete');\n",
              "    }\n",
              "    (() => {\n",
              "      let quickchartButtonEl =\n",
              "        document.querySelector('#df-b700fb03-b55f-411b-bbe4-44dca49e552d button');\n",
              "      quickchartButtonEl.style.display =\n",
              "        google.colab.kernel.accessAllowed ? 'block' : 'none';\n",
              "    })();\n",
              "  </script>\n",
              "</div>\n",
              "\n",
              "    </div>\n",
              "  </div>\n"
            ],
            "application/vnd.google.colaboratory.intrinsic+json": {
              "type": "dataframe",
              "variable_name": "telecom"
            }
          },
          "metadata": {},
          "execution_count": 11
        }
      ]
    },
    {
      "metadata": {
        "trusted": true,
        "_uuid": "c16786a515bec0db7606def3f9d8906963f2ed42",
        "colab": {
          "base_uri": "https://localhost:8080/"
        },
        "id": "yMhelorLeVlB",
        "outputId": "1751847c-17fc-448d-a3da-cb210cf87553"
      },
      "cell_type": "code",
      "source": [
        "# Let's check the dimensions of the dataframe\n",
        "telecom.shape"
      ],
      "execution_count": 12,
      "outputs": [
        {
          "output_type": "execute_result",
          "data": {
            "text/plain": [
              "(7043, 21)"
            ]
          },
          "metadata": {},
          "execution_count": 12
        }
      ]
    },
    {
      "metadata": {
        "trusted": true,
        "_uuid": "68f9b02e40be8bca50b8bd06fc3f54665b37a3ff",
        "colab": {
          "base_uri": "https://localhost:8080/",
          "height": 300
        },
        "id": "a0aEzft_eVlC",
        "outputId": "04d49650-947a-47d5-e4a0-703c797a5321"
      },
      "cell_type": "code",
      "source": [
        "# let's look at the statistical aspects of the dataframe\n",
        "telecom.describe()"
      ],
      "execution_count": 13,
      "outputs": [
        {
          "output_type": "execute_result",
          "data": {
            "text/plain": [
              "            tenure  MonthlyCharges  SeniorCitizen\n",
              "count  7043.000000     7043.000000    7043.000000\n",
              "mean     32.371149       64.761692       0.162147\n",
              "std      24.559481       30.090047       0.368612\n",
              "min       0.000000       18.250000       0.000000\n",
              "25%       9.000000       35.500000       0.000000\n",
              "50%      29.000000       70.350000       0.000000\n",
              "75%      55.000000       89.850000       0.000000\n",
              "max      72.000000      118.750000       1.000000"
            ],
            "text/html": [
              "\n",
              "  <div id=\"df-e290162d-ce16-48cc-8e52-39f9a97462a3\" class=\"colab-df-container\">\n",
              "    <div>\n",
              "<style scoped>\n",
              "    .dataframe tbody tr th:only-of-type {\n",
              "        vertical-align: middle;\n",
              "    }\n",
              "\n",
              "    .dataframe tbody tr th {\n",
              "        vertical-align: top;\n",
              "    }\n",
              "\n",
              "    .dataframe thead th {\n",
              "        text-align: right;\n",
              "    }\n",
              "</style>\n",
              "<table border=\"1\" class=\"dataframe\">\n",
              "  <thead>\n",
              "    <tr style=\"text-align: right;\">\n",
              "      <th></th>\n",
              "      <th>tenure</th>\n",
              "      <th>MonthlyCharges</th>\n",
              "      <th>SeniorCitizen</th>\n",
              "    </tr>\n",
              "  </thead>\n",
              "  <tbody>\n",
              "    <tr>\n",
              "      <th>count</th>\n",
              "      <td>7043.000000</td>\n",
              "      <td>7043.000000</td>\n",
              "      <td>7043.000000</td>\n",
              "    </tr>\n",
              "    <tr>\n",
              "      <th>mean</th>\n",
              "      <td>32.371149</td>\n",
              "      <td>64.761692</td>\n",
              "      <td>0.162147</td>\n",
              "    </tr>\n",
              "    <tr>\n",
              "      <th>std</th>\n",
              "      <td>24.559481</td>\n",
              "      <td>30.090047</td>\n",
              "      <td>0.368612</td>\n",
              "    </tr>\n",
              "    <tr>\n",
              "      <th>min</th>\n",
              "      <td>0.000000</td>\n",
              "      <td>18.250000</td>\n",
              "      <td>0.000000</td>\n",
              "    </tr>\n",
              "    <tr>\n",
              "      <th>25%</th>\n",
              "      <td>9.000000</td>\n",
              "      <td>35.500000</td>\n",
              "      <td>0.000000</td>\n",
              "    </tr>\n",
              "    <tr>\n",
              "      <th>50%</th>\n",
              "      <td>29.000000</td>\n",
              "      <td>70.350000</td>\n",
              "      <td>0.000000</td>\n",
              "    </tr>\n",
              "    <tr>\n",
              "      <th>75%</th>\n",
              "      <td>55.000000</td>\n",
              "      <td>89.850000</td>\n",
              "      <td>0.000000</td>\n",
              "    </tr>\n",
              "    <tr>\n",
              "      <th>max</th>\n",
              "      <td>72.000000</td>\n",
              "      <td>118.750000</td>\n",
              "      <td>1.000000</td>\n",
              "    </tr>\n",
              "  </tbody>\n",
              "</table>\n",
              "</div>\n",
              "    <div class=\"colab-df-buttons\">\n",
              "\n",
              "  <div class=\"colab-df-container\">\n",
              "    <button class=\"colab-df-convert\" onclick=\"convertToInteractive('df-e290162d-ce16-48cc-8e52-39f9a97462a3')\"\n",
              "            title=\"Convert this dataframe to an interactive table.\"\n",
              "            style=\"display:none;\">\n",
              "\n",
              "  <svg xmlns=\"http://www.w3.org/2000/svg\" height=\"24px\" viewBox=\"0 -960 960 960\">\n",
              "    <path d=\"M120-120v-720h720v720H120Zm60-500h600v-160H180v160Zm220 220h160v-160H400v160Zm0 220h160v-160H400v160ZM180-400h160v-160H180v160Zm440 0h160v-160H620v160ZM180-180h160v-160H180v160Zm440 0h160v-160H620v160Z\"/>\n",
              "  </svg>\n",
              "    </button>\n",
              "\n",
              "  <style>\n",
              "    .colab-df-container {\n",
              "      display:flex;\n",
              "      gap: 12px;\n",
              "    }\n",
              "\n",
              "    .colab-df-convert {\n",
              "      background-color: #E8F0FE;\n",
              "      border: none;\n",
              "      border-radius: 50%;\n",
              "      cursor: pointer;\n",
              "      display: none;\n",
              "      fill: #1967D2;\n",
              "      height: 32px;\n",
              "      padding: 0 0 0 0;\n",
              "      width: 32px;\n",
              "    }\n",
              "\n",
              "    .colab-df-convert:hover {\n",
              "      background-color: #E2EBFA;\n",
              "      box-shadow: 0px 1px 2px rgba(60, 64, 67, 0.3), 0px 1px 3px 1px rgba(60, 64, 67, 0.15);\n",
              "      fill: #174EA6;\n",
              "    }\n",
              "\n",
              "    .colab-df-buttons div {\n",
              "      margin-bottom: 4px;\n",
              "    }\n",
              "\n",
              "    [theme=dark] .colab-df-convert {\n",
              "      background-color: #3B4455;\n",
              "      fill: #D2E3FC;\n",
              "    }\n",
              "\n",
              "    [theme=dark] .colab-df-convert:hover {\n",
              "      background-color: #434B5C;\n",
              "      box-shadow: 0px 1px 3px 1px rgba(0, 0, 0, 0.15);\n",
              "      filter: drop-shadow(0px 1px 2px rgba(0, 0, 0, 0.3));\n",
              "      fill: #FFFFFF;\n",
              "    }\n",
              "  </style>\n",
              "\n",
              "    <script>\n",
              "      const buttonEl =\n",
              "        document.querySelector('#df-e290162d-ce16-48cc-8e52-39f9a97462a3 button.colab-df-convert');\n",
              "      buttonEl.style.display =\n",
              "        google.colab.kernel.accessAllowed ? 'block' : 'none';\n",
              "\n",
              "      async function convertToInteractive(key) {\n",
              "        const element = document.querySelector('#df-e290162d-ce16-48cc-8e52-39f9a97462a3');\n",
              "        const dataTable =\n",
              "          await google.colab.kernel.invokeFunction('convertToInteractive',\n",
              "                                                    [key], {});\n",
              "        if (!dataTable) return;\n",
              "\n",
              "        const docLinkHtml = 'Like what you see? Visit the ' +\n",
              "          '<a target=\"_blank\" href=https://colab.research.google.com/notebooks/data_table.ipynb>data table notebook</a>'\n",
              "          + ' to learn more about interactive tables.';\n",
              "        element.innerHTML = '';\n",
              "        dataTable['output_type'] = 'display_data';\n",
              "        await google.colab.output.renderOutput(dataTable, element);\n",
              "        const docLink = document.createElement('div');\n",
              "        docLink.innerHTML = docLinkHtml;\n",
              "        element.appendChild(docLink);\n",
              "      }\n",
              "    </script>\n",
              "  </div>\n",
              "\n",
              "\n",
              "<div id=\"df-d1b92fc8-9b95-4800-b452-ee321b7e51c6\">\n",
              "  <button class=\"colab-df-quickchart\" onclick=\"quickchart('df-d1b92fc8-9b95-4800-b452-ee321b7e51c6')\"\n",
              "            title=\"Suggest charts\"\n",
              "            style=\"display:none;\">\n",
              "\n",
              "<svg xmlns=\"http://www.w3.org/2000/svg\" height=\"24px\"viewBox=\"0 0 24 24\"\n",
              "     width=\"24px\">\n",
              "    <g>\n",
              "        <path d=\"M19 3H5c-1.1 0-2 .9-2 2v14c0 1.1.9 2 2 2h14c1.1 0 2-.9 2-2V5c0-1.1-.9-2-2-2zM9 17H7v-7h2v7zm4 0h-2V7h2v10zm4 0h-2v-4h2v4z\"/>\n",
              "    </g>\n",
              "</svg>\n",
              "  </button>\n",
              "\n",
              "<style>\n",
              "  .colab-df-quickchart {\n",
              "      --bg-color: #E8F0FE;\n",
              "      --fill-color: #1967D2;\n",
              "      --hover-bg-color: #E2EBFA;\n",
              "      --hover-fill-color: #174EA6;\n",
              "      --disabled-fill-color: #AAA;\n",
              "      --disabled-bg-color: #DDD;\n",
              "  }\n",
              "\n",
              "  [theme=dark] .colab-df-quickchart {\n",
              "      --bg-color: #3B4455;\n",
              "      --fill-color: #D2E3FC;\n",
              "      --hover-bg-color: #434B5C;\n",
              "      --hover-fill-color: #FFFFFF;\n",
              "      --disabled-bg-color: #3B4455;\n",
              "      --disabled-fill-color: #666;\n",
              "  }\n",
              "\n",
              "  .colab-df-quickchart {\n",
              "    background-color: var(--bg-color);\n",
              "    border: none;\n",
              "    border-radius: 50%;\n",
              "    cursor: pointer;\n",
              "    display: none;\n",
              "    fill: var(--fill-color);\n",
              "    height: 32px;\n",
              "    padding: 0;\n",
              "    width: 32px;\n",
              "  }\n",
              "\n",
              "  .colab-df-quickchart:hover {\n",
              "    background-color: var(--hover-bg-color);\n",
              "    box-shadow: 0 1px 2px rgba(60, 64, 67, 0.3), 0 1px 3px 1px rgba(60, 64, 67, 0.15);\n",
              "    fill: var(--button-hover-fill-color);\n",
              "  }\n",
              "\n",
              "  .colab-df-quickchart-complete:disabled,\n",
              "  .colab-df-quickchart-complete:disabled:hover {\n",
              "    background-color: var(--disabled-bg-color);\n",
              "    fill: var(--disabled-fill-color);\n",
              "    box-shadow: none;\n",
              "  }\n",
              "\n",
              "  .colab-df-spinner {\n",
              "    border: 2px solid var(--fill-color);\n",
              "    border-color: transparent;\n",
              "    border-bottom-color: var(--fill-color);\n",
              "    animation:\n",
              "      spin 1s steps(1) infinite;\n",
              "  }\n",
              "\n",
              "  @keyframes spin {\n",
              "    0% {\n",
              "      border-color: transparent;\n",
              "      border-bottom-color: var(--fill-color);\n",
              "      border-left-color: var(--fill-color);\n",
              "    }\n",
              "    20% {\n",
              "      border-color: transparent;\n",
              "      border-left-color: var(--fill-color);\n",
              "      border-top-color: var(--fill-color);\n",
              "    }\n",
              "    30% {\n",
              "      border-color: transparent;\n",
              "      border-left-color: var(--fill-color);\n",
              "      border-top-color: var(--fill-color);\n",
              "      border-right-color: var(--fill-color);\n",
              "    }\n",
              "    40% {\n",
              "      border-color: transparent;\n",
              "      border-right-color: var(--fill-color);\n",
              "      border-top-color: var(--fill-color);\n",
              "    }\n",
              "    60% {\n",
              "      border-color: transparent;\n",
              "      border-right-color: var(--fill-color);\n",
              "    }\n",
              "    80% {\n",
              "      border-color: transparent;\n",
              "      border-right-color: var(--fill-color);\n",
              "      border-bottom-color: var(--fill-color);\n",
              "    }\n",
              "    90% {\n",
              "      border-color: transparent;\n",
              "      border-bottom-color: var(--fill-color);\n",
              "    }\n",
              "  }\n",
              "</style>\n",
              "\n",
              "  <script>\n",
              "    async function quickchart(key) {\n",
              "      const quickchartButtonEl =\n",
              "        document.querySelector('#' + key + ' button');\n",
              "      quickchartButtonEl.disabled = true;  // To prevent multiple clicks.\n",
              "      quickchartButtonEl.classList.add('colab-df-spinner');\n",
              "      try {\n",
              "        const charts = await google.colab.kernel.invokeFunction(\n",
              "            'suggestCharts', [key], {});\n",
              "      } catch (error) {\n",
              "        console.error('Error during call to suggestCharts:', error);\n",
              "      }\n",
              "      quickchartButtonEl.classList.remove('colab-df-spinner');\n",
              "      quickchartButtonEl.classList.add('colab-df-quickchart-complete');\n",
              "    }\n",
              "    (() => {\n",
              "      let quickchartButtonEl =\n",
              "        document.querySelector('#df-d1b92fc8-9b95-4800-b452-ee321b7e51c6 button');\n",
              "      quickchartButtonEl.style.display =\n",
              "        google.colab.kernel.accessAllowed ? 'block' : 'none';\n",
              "    })();\n",
              "  </script>\n",
              "</div>\n",
              "\n",
              "    </div>\n",
              "  </div>\n"
            ],
            "application/vnd.google.colaboratory.intrinsic+json": {
              "type": "dataframe",
              "summary": "{\n  \"name\": \"telecom\",\n  \"rows\": 8,\n  \"fields\": [\n    {\n      \"column\": \"tenure\",\n      \"properties\": {\n        \"dtype\": \"number\",\n        \"std\": 2478.9752758409018,\n        \"min\": 0.0,\n        \"max\": 7043.0,\n        \"num_unique_values\": 8,\n        \"samples\": [\n          32.37114865824223,\n          29.0,\n          7043.0\n        ],\n        \"semantic_type\": \"\",\n        \"description\": \"\"\n      }\n    },\n    {\n      \"column\": \"MonthlyCharges\",\n      \"properties\": {\n        \"dtype\": \"number\",\n        \"std\": 2468.7047672837775,\n        \"min\": 18.25,\n        \"max\": 7043.0,\n        \"num_unique_values\": 8,\n        \"samples\": [\n          64.76169246059918,\n          70.35,\n          7043.0\n        ],\n        \"semantic_type\": \"\",\n        \"description\": \"\"\n      }\n    },\n    {\n      \"column\": \"SeniorCitizen\",\n      \"properties\": {\n        \"dtype\": \"number\",\n        \"std\": 2489.9992387084,\n        \"min\": 0.0,\n        \"max\": 7043.0,\n        \"num_unique_values\": 5,\n        \"samples\": [\n          0.1621468124378816,\n          1.0,\n          0.3686116056100131\n        ],\n        \"semantic_type\": \"\",\n        \"description\": \"\"\n      }\n    }\n  ]\n}"
            }
          },
          "metadata": {},
          "execution_count": 13
        }
      ]
    },
    {
      "metadata": {
        "trusted": true,
        "_uuid": "bcffc85de07e37cf2aa862295aa2943be8ea2ab9",
        "colab": {
          "base_uri": "https://localhost:8080/"
        },
        "id": "KEsRzTHTeVlC",
        "outputId": "4153c639-e857-4e9b-f72d-628817949a0c"
      },
      "cell_type": "code",
      "source": [
        "# Let's see the type of each column\n",
        "telecom.info()"
      ],
      "execution_count": 26,
      "outputs": [
        {
          "output_type": "stream",
          "name": "stdout",
          "text": [
            "<class 'pandas.core.frame.DataFrame'>\n",
            "RangeIndex: 7043 entries, 0 to 7042\n",
            "Data columns (total 21 columns):\n",
            " #   Column            Non-Null Count  Dtype  \n",
            "---  ------            --------------  -----  \n",
            " 0   customerID        7043 non-null   object \n",
            " 1   tenure            7043 non-null   int64  \n",
            " 2   PhoneService      7043 non-null   object \n",
            " 3   Contract          7043 non-null   object \n",
            " 4   PaperlessBilling  7043 non-null   object \n",
            " 5   PaymentMethod     7043 non-null   object \n",
            " 6   MonthlyCharges    7043 non-null   float64\n",
            " 7   TotalCharges      7032 non-null   float64\n",
            " 8   Churn             7043 non-null   object \n",
            " 9   gender            7043 non-null   object \n",
            " 10  SeniorCitizen     7043 non-null   int64  \n",
            " 11  Partner           7043 non-null   object \n",
            " 12  Dependents        7043 non-null   object \n",
            " 13  MultipleLines     7043 non-null   object \n",
            " 14  InternetService   7043 non-null   object \n",
            " 15  OnlineSecurity    7043 non-null   object \n",
            " 16  OnlineBackup      7043 non-null   object \n",
            " 17  DeviceProtection  7043 non-null   object \n",
            " 18  TechSupport       7043 non-null   object \n",
            " 19  StreamingTV       7043 non-null   object \n",
            " 20  StreamingMovies   7043 non-null   object \n",
            "dtypes: float64(2), int64(2), object(17)\n",
            "memory usage: 1.1+ MB\n"
          ]
        }
      ]
    },
    {
      "metadata": {
        "trusted": true,
        "_uuid": "90860014127102c6098b922b41a2a87b12c7fda2",
        "colab": {
          "base_uri": "https://localhost:8080/"
        },
        "id": "fmaiEB3oeVlC",
        "outputId": "2a703a0f-b5ae-4ab1-a951-bd3fd80bc554"
      },
      "cell_type": "code",
      "source": [
        "#Checking Null values\n",
        "telecom.isnull().sum()*100/telecom.shape[0]\n",
        "# As you see, there are no NULL values in the dataset, hence it is clean."
      ],
      "execution_count": 65,
      "outputs": [
        {
          "output_type": "execute_result",
          "data": {
            "text/plain": [
              "customerID          0.0\n",
              "tenure              0.0\n",
              "PhoneService        0.0\n",
              "Contract            0.0\n",
              "PaperlessBilling    0.0\n",
              "PaymentMethod       0.0\n",
              "MonthlyCharges      0.0\n",
              "TotalCharges        0.0\n",
              "Churn               0.0\n",
              "gender              0.0\n",
              "SeniorCitizen       0.0\n",
              "Partner             0.0\n",
              "Dependents          0.0\n",
              "MultipleLines       0.0\n",
              "InternetService     0.0\n",
              "OnlineSecurity      0.0\n",
              "OnlineBackup        0.0\n",
              "DeviceProtection    0.0\n",
              "TechSupport         0.0\n",
              "StreamingTV         0.0\n",
              "StreamingMovies     0.0\n",
              "dtype: float64"
            ]
          },
          "metadata": {},
          "execution_count": 65
        }
      ]
    },
    {
      "metadata": {
        "_uuid": "452c0dafc57c9c3b2c9ffe8b0e02bc1948bb477b",
        "id": "iTkPAx4peVlC"
      },
      "cell_type": "markdown",
      "source": [
        "**Data PreProcessing**"
      ]
    },
    {
      "metadata": {
        "trusted": true,
        "_uuid": "3ecde1b816e6b7c7f302fd2791b1b63e09624bec",
        "colab": {
          "base_uri": "https://localhost:8080/"
        },
        "id": "Fxd0LDjheVlC",
        "outputId": "84b04993-5a98-48b1-c4c5-35d7823f4fcc"
      },
      "cell_type": "code",
      "source": [
        "telecom['TotalCharges'].describe()"
      ],
      "execution_count": 66,
      "outputs": [
        {
          "output_type": "execute_result",
          "data": {
            "text/plain": [
              "count     7043\n",
              "unique    6531\n",
              "top           \n",
              "freq        11\n",
              "Name: TotalCharges, dtype: object"
            ]
          },
          "metadata": {},
          "execution_count": 66
        }
      ]
    },
    {
      "metadata": {
        "trusted": true,
        "_uuid": "ca6ed4936da13087cd9dd8b5f1cc0b4f773fb654",
        "colab": {
          "base_uri": "https://localhost:8080/"
        },
        "id": "9RTQ-xDAeVlC",
        "outputId": "ead160a3-826d-491c-982e-0a621b482d70"
      },
      "cell_type": "code",
      "source": [
        "#Observed that there are some space in the 'TotalCharges' Feature which we replace with NaN. Also, convert the datatypes from Object to Numeric\n",
        "telecom['TotalCharges'] = telecom['TotalCharges'].replace(' ', np.nan)\n",
        "telecom['TotalCharges'] = pd.to_numeric(telecom['TotalCharges'])\n",
        "telecom['TotalCharges'].isnull().sum()"
      ],
      "execution_count": 67,
      "outputs": [
        {
          "output_type": "execute_result",
          "data": {
            "text/plain": [
              "11"
            ]
          },
          "metadata": {},
          "execution_count": 67
        }
      ]
    },
    {
      "cell_type": "code",
      "source": [
        "telecom['TotalCharges'].describe()\n"
      ],
      "metadata": {
        "colab": {
          "base_uri": "https://localhost:8080/"
        },
        "id": "HPJGxdWVuE4J",
        "outputId": "ab5d1a79-95e2-47f9-981f-ca24d2dea9c0"
      },
      "execution_count": 68,
      "outputs": [
        {
          "output_type": "execute_result",
          "data": {
            "text/plain": [
              "count    7032.000000\n",
              "mean     2283.300441\n",
              "std      2266.771362\n",
              "min        18.800000\n",
              "25%       401.450000\n",
              "50%      1397.475000\n",
              "75%      3794.737500\n",
              "max      8684.800000\n",
              "Name: TotalCharges, dtype: float64"
            ]
          },
          "metadata": {},
          "execution_count": 68
        }
      ]
    },
    {
      "metadata": {
        "trusted": true,
        "_uuid": "acacb9967aa46cc7f4e1b7feecdf15b8d4f85d81",
        "colab": {
          "base_uri": "https://localhost:8080/"
        },
        "id": "68a8A8bmeVlC",
        "outputId": "d889fa09-665e-44e2-e1e4-2b3a64b02596"
      },
      "cell_type": "code",
      "source": [
        "# Total Charges will be related to Monthly Charges.\n",
        "# We will impute Total charges multiplied by monthly charges & tenure\n",
        "value = telecom['MonthlyCharges']*telecom['tenure']\n",
        "telecom['TotalCharges'] = value.where(telecom['TotalCharges'].isnull(), other=telecom['TotalCharges'])\n",
        "telecom['TotalCharges'].describe()"
      ],
      "execution_count": 69,
      "outputs": [
        {
          "output_type": "execute_result",
          "data": {
            "text/plain": [
              "count    7043.000000\n",
              "mean     2279.734304\n",
              "std      2266.794470\n",
              "min         0.000000\n",
              "25%       398.550000\n",
              "50%      1394.550000\n",
              "75%      3786.600000\n",
              "max      8684.800000\n",
              "Name: TotalCharges, dtype: float64"
            ]
          },
          "metadata": {},
          "execution_count": 69
        }
      ]
    },
    {
      "metadata": {
        "_uuid": "9ae5fce36fc4afba20feece0c1ebd06563cc167d",
        "id": "ZqcHO67ueVlD"
      },
      "cell_type": "markdown",
      "source": [
        "**EXploratory Data Analytics**"
      ]
    },
    {
      "cell_type": "code",
      "source": [
        "#Univariate Analysis\n",
        "#Distribution of TotalCharges Feature\n",
        "plt.hist(telecom['TotalCharges'])\n",
        "# As you see here, most of the customers are in the range between 0 to 1000"
      ],
      "metadata": {
        "colab": {
          "base_uri": "https://localhost:8080/",
          "height": 519
        },
        "id": "WekUZzgq0k1H",
        "outputId": "b1475d9f-1da9-4070-c699-ec32c5025a04"
      },
      "execution_count": 70,
      "outputs": [
        {
          "output_type": "execute_result",
          "data": {
            "text/plain": [
              "(array([2701., 1227.,  685.,  503.,  460.,  414.,  396.,  311.,  224.,\n",
              "         122.]),\n",
              " array([   0.  ,  868.48, 1736.96, 2605.44, 3473.92, 4342.4 , 5210.88,\n",
              "        6079.36, 6947.84, 7816.32, 8684.8 ]),\n",
              " <BarContainer object of 10 artists>)"
            ]
          },
          "metadata": {},
          "execution_count": 70
        },
        {
          "output_type": "display_data",
          "data": {
            "text/plain": [
              "<Figure size 640x480 with 1 Axes>"
            ],
            "image/png": "[encoded data removed]"
          },
          "metadata": {}
        }
      ]
    },
    {
      "metadata": {
        "_uuid": "9b2defe8c2dac972d72a52b3538575b7662846c0",
        "id": "PfuztJ3qeVlD"
      },
      "cell_type": "markdown",
      "source": [
        "**Churn (Target Variable)**"
      ]
    },
    {
      "metadata": {
        "trusted": true,
        "_uuid": "90a54c495cf59eca312f5f908dcf49fdce29d372",
        "colab": {
          "base_uri": "https://localhost:8080/"
        },
        "id": "H2EeN64GeVlD",
        "outputId": "4f49f472-cc72-4276-9a17-f61a28699f83"
      },
      "cell_type": "code",
      "source": [
        "telecom.Churn.describe()"
      ],
      "execution_count": 71,
      "outputs": [
        {
          "output_type": "execute_result",
          "data": {
            "text/plain": [
              "count     7043\n",
              "unique       2\n",
              "top         No\n",
              "freq      5174\n",
              "Name: Churn, dtype: object"
            ]
          },
          "metadata": {},
          "execution_count": 71
        }
      ]
    },
    {
      "metadata": {
        "trusted": true,
        "_uuid": "1f27e6b73104175fd9399bc45ac474960484cc1d",
        "colab": {
          "base_uri": "https://localhost:8080/",
          "height": 449
        },
        "id": "NiaksXTJeVlD",
        "outputId": "bdef7f4e-87ec-45c0-84d5-3c8fb402ac67"
      },
      "cell_type": "code",
      "source": [
        "plt1 = sns.countplot(telecom['Churn'])\n",
        "\n",
        "#As you see here, Churn['Yes'] rate is low which indicates data is unbalanced"
      ],
      "execution_count": 78,
      "outputs": [
        {
          "output_type": "display_data",
          "data": {
            "text/plain": [
              "<Figure size 640x480 with 1 Axes>"
            ],
            "image/png": "[encoded data removed]"
          },
          "metadata": {}
        }
      ]
    },
    {
      "metadata": {
        "_uuid": "1373a4212115fd345c975008ae2ee4e86d074075",
        "id": "S93KB4txeVlD"
      },
      "cell_type": "markdown",
      "source": [
        "#### Tenure"
      ]
    },
    {
      "metadata": {
        "trusted": true,
        "_uuid": "eccb066114b029df7e097190267f0b15e7fee686",
        "id": "VGE9JrKaeVlD"
      },
      "cell_type": "code",
      "source": [
        "# The time for which a customer has been using the service."
      ],
      "execution_count": null,
      "outputs": []
    },
    {
      "metadata": {
        "trusted": true,
        "_uuid": "2faa68e85a4b7899d5604b4081dd45ad12b27e9a",
        "id": "Mzh6GoTCeVlD"
      },
      "cell_type": "code",
      "source": [
        "sns.boxplot(x = 'tenure', y = 'Churn', data = telecom)\n",
        "plt.show()"
      ],
      "execution_count": null,
      "outputs": []
    },
    {
      "metadata": {
        "trusted": true,
        "_uuid": "74e15d9add3d83f33655957f144f959e72c3897c",
        "id": "0-Wi5jlMeVlE"
      },
      "cell_type": "code",
      "source": [
        "# Customer with more tenure tends to churn less."
      ],
      "execution_count": null,
      "outputs": []
    },
    {
      "metadata": {
        "_uuid": "65cf921135b6b846ee883a04d92a7e0adacb7aa6",
        "id": "g3ZFp8DSeVlE"
      },
      "cell_type": "markdown",
      "source": [
        "#### Phone Service"
      ]
    },
    {
      "metadata": {
        "trusted": true,
        "_uuid": "3469e0792c6d5b2bdd71a3e43e47999ac002877a",
        "id": "IFyMletweVlE"
      },
      "cell_type": "code",
      "source": [
        "# Whether a customer has a landline phone service along with the internet service."
      ],
      "execution_count": null,
      "outputs": []
    },
    {
      "metadata": {
        "trusted": true,
        "_uuid": "04ae7fbfc50dc72ae1afe69a5f6cf2c2430eb339",
        "id": "GEeBAa3ieVlE"
      },
      "cell_type": "code",
      "source": [
        "pie_PhoneService_Yes = pd.DataFrame(telecom[telecom['PhoneService'] == \"Yes\"]['Churn'].value_counts())\n",
        "pie_PhoneService_Yes.plot.pie(subplots=True, labels = pie_PhoneService_Yes.index.values, autopct='%1.1f%%', startangle= 50 )\n",
        "plt.title('Churn Rate for customers \\n opted for Phone Service')\n",
        "plt.gca().set_aspect('equal')\n",
        "\n",
        "pie_PhoneService_No = pd.DataFrame(telecom[telecom['PhoneService'] == \"No\"]['Churn'].value_counts())\n",
        "pie_PhoneService_No.plot.pie(subplots=True, labels = pie_PhoneService_Yes.index.values, autopct='%1.1f%%', startangle= 50)\n",
        "plt.title('Churn Rate for customers \\n that did not opted for Phone Service')\n",
        "plt.gca().set_aspect('equal')\n",
        "\n",
        "plt.show()"
      ],
      "execution_count": null,
      "outputs": []
    },
    {
      "metadata": {
        "trusted": true,
        "_uuid": "6298de4611353ad29604ffd3cc01cef17b5201c2",
        "id": "abe0674xeVlM"
      },
      "cell_type": "code",
      "source": [
        "# Opting for phone service does not have a significant impact on churn rate."
      ],
      "execution_count": null,
      "outputs": []
    },
    {
      "metadata": {
        "_uuid": "7acc386fb2780770b54ee847c7a47cd9de317dcf",
        "id": "fgs-baNleVlM"
      },
      "cell_type": "markdown",
      "source": [
        "#### Contract"
      ]
    },
    {
      "metadata": {
        "trusted": true,
        "_uuid": "86be54edd7f8519ed23b8e9c1d9f13d86bf7e5c0",
        "id": "Ax14eZ64eVlM"
      },
      "cell_type": "code",
      "source": [
        "pie_Contract_m2m = pd.DataFrame(telecom[telecom['Contract'] == \"Month-to-month\"]['Churn'].value_counts())\n",
        "pie_Contract_m2m.plot.pie(subplots=True, labels = pie_Contract_m2m.index.values, autopct='%1.1f%%', startangle= 75)\n",
        "plt.title('Month to Month Contract')\n",
        "plt.gca().set_aspect('equal')\n",
        "\n",
        "pie_Contract_1y = pd.DataFrame(telecom[telecom['Contract'] == \"One year\"]['Churn'].value_counts())\n",
        "pie_Contract_1y.plot.pie(subplots=True, labels = pie_Contract_1y.index.values, autopct='%1.1f%%', startangle= 20)\n",
        "plt.title('One Year Contract')\n",
        "plt.gca().set_aspect('equal')\n",
        "\n",
        "pie_Contract_2y = pd.DataFrame(telecom[telecom['Contract'] == \"Two year\"]['Churn'].value_counts())\n",
        "pie_Contract_2y.plot.pie(subplots=True, labels = pie_Contract_2y.index.values, autopct='%1.1f%%', startangle= 5)\n",
        "plt.title('Two Year Contract')\n",
        "plt.gca().set_aspect('equal')\n",
        "\n",
        "plt.show()"
      ],
      "execution_count": null,
      "outputs": []
    },
    {
      "metadata": {
        "trusted": true,
        "_uuid": "3ab7ae6b16767092019988d6427123072cbe920e",
        "id": "1i2QGj2peVlM"
      },
      "cell_type": "code",
      "source": [
        "# Customers with One Year and Two year contract tends to Churn a lot lesser than month to month contract."
      ],
      "execution_count": null,
      "outputs": []
    },
    {
      "metadata": {
        "_uuid": "6079cb9a8b33b2e8d0db1729f7719a78f4729e03",
        "id": "EOuIxSo-eVlM"
      },
      "cell_type": "markdown",
      "source": [
        "#### Paperless Billing"
      ]
    },
    {
      "metadata": {
        "trusted": true,
        "_uuid": "eaca603cb7f62af338f3ec4abf45a2aa9f460269",
        "id": "oJkxSVIHeVlM"
      },
      "cell_type": "code",
      "source": [
        "plt.figure(figsize=(15,5))\n",
        "\n",
        "pie_PaperlessBilling_Yes = pd.DataFrame(telecom[telecom['PaperlessBilling'] == \"Yes\"]['Churn'].value_counts())\n",
        "pie_PaperlessBilling_Yes.plot.pie(subplots=True, labels = pie_PaperlessBilling_Yes.index.values, autopct='%1.1f%%', startangle= 60)\n",
        "plt.title('Churn Rate for customers \\n opted for Paperless Billing')\n",
        "plt.gca().set_aspect('equal')\n",
        "\n",
        "\n",
        "pie_PaperlessBilling_No = pd.DataFrame(telecom[telecom['PaperlessBilling'] == \"No\"]['Churn'].value_counts())\n",
        "pie_PaperlessBilling_No.plot.pie(subplots=True, labels = pie_PaperlessBilling_No.index.values, autopct='%1.1f%%', startangle= 30)\n",
        "plt.title('Churn Rate for customers \\n that did not opted for Paperless Billing')\n",
        "plt.gca().set_aspect('equal')\n",
        "\n",
        "plt.show()"
      ],
      "execution_count": null,
      "outputs": []
    },
    {
      "metadata": {
        "trusted": true,
        "_uuid": "47a332dc97d025a5dc11a0d997cd1a7cfe22e6b3",
        "id": "X3ijwqWceVlM"
      },
      "cell_type": "code",
      "source": [
        "# Churn Rate is higher for the customers who opted for paperless billing."
      ],
      "execution_count": null,
      "outputs": []
    },
    {
      "metadata": {
        "_uuid": "8dd42eb8fc410ac885c2c7a3fb27d1dfe2d57106",
        "id": "P4PXdMZkeVlM"
      },
      "cell_type": "markdown",
      "source": [
        "#### Payment Method"
      ]
    },
    {
      "metadata": {
        "trusted": true,
        "_uuid": "e78df31ff35ff588d66ce113e37ccf7863d5c5e8",
        "id": "1kwdllGseVlM"
      },
      "cell_type": "code",
      "source": [
        "telecom.PaymentMethod.describe()"
      ],
      "execution_count": null,
      "outputs": []
    },
    {
      "metadata": {
        "trusted": true,
        "_uuid": "5ec5a59eccb9c985e5d3ed16f92962893eaa5986",
        "id": "RJmFarnheVlM"
      },
      "cell_type": "code",
      "source": [
        "plt.figure(figsize=(15,10))\n",
        "pie_PaymentMethod_ec = pd.DataFrame(telecom[telecom['PaymentMethod'] == \"Electronic check\"]['Churn'].value_counts())\n",
        "pie_PaymentMethod_ec.plot.pie(subplots=True, labels = pie_PaymentMethod_ec.index.values, autopct='%1.1f%%', startangle= 82)\n",
        "plt.title('Electronic Check')\n",
        "plt.gca().set_aspect('equal')\n",
        "\n",
        "pie_PaymentMethod_mc = pd.DataFrame(telecom[telecom['PaymentMethod'] == \"Mailed check\"]['Churn'].value_counts())\n",
        "pie_PaymentMethod_mc.plot.pie(subplots=True, labels = pie_PaymentMethod_mc.index.values, autopct='%1.1f%%', startangle= 35)\n",
        "plt.title('Mailed check')\n",
        "plt.gca().set_aspect('equal')\n",
        "\n",
        "pie_PaymentMethod_bta = pd.DataFrame(telecom[telecom['PaymentMethod'] == \"Bank transfer (automatic)\"]['Churn'].value_counts())\n",
        "pie_PaymentMethod_bta.plot.pie(subplots=True, labels = pie_PaymentMethod_bta.index.values, autopct='%1.1f%%', startangle= 30)\n",
        "plt.title('Bank transfer (automatic)')\n",
        "plt.gca().set_aspect('equal')\n",
        "\n",
        "pie_PaymentMethod_cca = pd.DataFrame(telecom[telecom['PaymentMethod'] == \"Credit card (automatic)\"]['Churn'].value_counts())\n",
        "pie_PaymentMethod_cca.plot.pie(subplots=True, labels = pie_PaymentMethod_cca.index.values, autopct='%1.1f%%', startangle= 30)\n",
        "plt.title('Credit card (automatic)')\n",
        "plt.gca().set_aspect('equal')\n",
        "\n",
        "plt.show()"
      ],
      "execution_count": null,
      "outputs": []
    },
    {
      "metadata": {
        "trusted": true,
        "_uuid": "b8ec1f53ed37b61311df0017bfb62a1e2dfca394",
        "id": "w-UduE3CeVlN"
      },
      "cell_type": "code",
      "source": [
        "# Customers with Electronic Check tends to churn more than other payment methods."
      ],
      "execution_count": null,
      "outputs": []
    },
    {
      "metadata": {
        "_uuid": "8e53caf220dd6d9d1ac225cb8092551455a7333a",
        "id": "pglICPrNeVlN"
      },
      "cell_type": "markdown",
      "source": [
        "#### Monthly Charges"
      ]
    },
    {
      "metadata": {
        "trusted": true,
        "_uuid": "a6f19900487c4551d611edcf3183a8c37503cce7",
        "id": "6qFPitW-eVlN"
      },
      "cell_type": "code",
      "source": [
        "sns.boxplot(x = 'MonthlyCharges', y = 'Churn', data = telecom)\n",
        "plt.show()"
      ],
      "execution_count": null,
      "outputs": []
    },
    {
      "metadata": {
        "trusted": true,
        "_uuid": "cb98a91441a5d322e0e71686d24e23d90062d5d6",
        "id": "Uf_bf1WEeVlN"
      },
      "cell_type": "code",
      "source": [
        "# Median monthly charges are higher for customers who have churned."
      ],
      "execution_count": null,
      "outputs": []
    },
    {
      "metadata": {
        "_uuid": "23465e33bbe6c3a649457ba78ff1fc9a2d9a458d",
        "id": "F1GKs4-reVlN"
      },
      "cell_type": "markdown",
      "source": [
        "#### TotalCharges"
      ]
    },
    {
      "metadata": {
        "trusted": true,
        "_uuid": "435e66aac382b936609117b47aa2bfddd291a6a8",
        "id": "HaW_M88SeVlN"
      },
      "cell_type": "code",
      "source": [
        "sns.boxplot(x = 'TotalCharges', y = 'Churn', data = telecom)\n",
        "plt.show()"
      ],
      "execution_count": null,
      "outputs": []
    },
    {
      "metadata": {
        "trusted": true,
        "_uuid": "ea217f0bdc3e75484027287bf9ff0b4c3cd25b33",
        "id": "FNF2K6D4eVlN"
      },
      "cell_type": "code",
      "source": [
        "# Median Total charges are low for customers who have churned."
      ],
      "execution_count": null,
      "outputs": []
    },
    {
      "metadata": {
        "_uuid": "07b0efe510b9765594c26895a94703370462e864",
        "id": "8MOlVIQDeVlN"
      },
      "cell_type": "markdown",
      "source": [
        "#### Gender"
      ]
    },
    {
      "metadata": {
        "trusted": true,
        "_uuid": "5898604a9238dcb4be1c0888c55f5b78124b041a",
        "id": "_5hQu4lxeVlN"
      },
      "cell_type": "code",
      "source": [
        "plt.figure(figsize=(15,5))\n",
        "pie_Gender_M = pd.DataFrame(telecom[telecom['gender'] == \"Male\"]['Churn'].value_counts())\n",
        "pie_Gender_M.plot.pie(subplots = True, labels = pie_Gender_M.index.values, autopct='%1.1f%%', startangle= 50)\n",
        "plt.title('Male')\n",
        "plt.gca().set_aspect('equal')\n",
        "\n",
        "pie_Gender_F = pd.DataFrame(telecom[telecom['gender'] == \"Female\"]['Churn'].value_counts())\n",
        "pie_Gender_F.plot.pie(subplots = True,  labels = pie_Gender_F.index.values, autopct='%1.1f%%', startangle= 50)\n",
        "plt.title('Female')\n",
        "\n",
        "plt.gca().set_aspect('equal')\n",
        "plt.show()"
      ],
      "execution_count": null,
      "outputs": []
    },
    {
      "metadata": {
        "trusted": true,
        "_uuid": "4c82e086101eedfdaab6d7352998c12f185628aa",
        "id": "syO2IDsFeVlN"
      },
      "cell_type": "code",
      "source": [
        "# There is no effect of Gender on Churn."
      ],
      "execution_count": null,
      "outputs": []
    },
    {
      "metadata": {
        "_uuid": "f4fcdf94bbd3b556792b00e7d8aff1dbe9b4d133",
        "id": "zXBkqkD2eVlN"
      },
      "cell_type": "markdown",
      "source": [
        "#### Senior Citizen"
      ]
    },
    {
      "metadata": {
        "trusted": true,
        "_uuid": "217118385b114e93b36bffb2d83093cf4abef1c1",
        "id": "vrntl8tueVlO"
      },
      "cell_type": "code",
      "source": [
        "plt.figure(figsize=(15,5))\n",
        "pie_SeniorCitizen_Y = pd.DataFrame(telecom[telecom['SeniorCitizen'] == 1]['Churn'].value_counts())\n",
        "pie_SeniorCitizen_Y.plot.pie(subplots = True, labels = pie_SeniorCitizen_Y.index.values, autopct='%1.1f%%', startangle= 75)\n",
        "plt.title('Senior Citizen')\n",
        "plt.gca().set_aspect('equal')\n",
        "\n",
        "pie_SeniorCitizen_N = pd.DataFrame(telecom[telecom['SeniorCitizen'] == 0]['Churn'].value_counts())\n",
        "pie_SeniorCitizen_N.plot.pie(subplots = True, labels = pie_SeniorCitizen_N.index.values, autopct='%1.1f%%', startangle= 45)\n",
        "plt.title('Non Senior Citizen')\n",
        "\n",
        "plt.gca().set_aspect('equal')\n",
        "plt.show()"
      ],
      "execution_count": null,
      "outputs": []
    },
    {
      "metadata": {
        "trusted": true,
        "_uuid": "f81574675742f7a19e028336029e62bf962e896d",
        "id": "mfSfMXeEeVlO"
      },
      "cell_type": "code",
      "source": [
        "# Senior Citizens tends to churn more."
      ],
      "execution_count": null,
      "outputs": []
    },
    {
      "metadata": {
        "_uuid": "468cdfe940f3052bb0af81366aaf09043d74a9a6",
        "id": "wqNBa_8AeVlO"
      },
      "cell_type": "markdown",
      "source": [
        "#### Partner"
      ]
    },
    {
      "metadata": {
        "trusted": true,
        "_uuid": "989df33ae8ab9021d351f525bc95f7d0d3cf558d",
        "id": "Bt8BuZISeVlO"
      },
      "cell_type": "code",
      "source": [
        "plt.figure(figsize=(15,5))\n",
        "pie_Partner_Y = pd.DataFrame(telecom[telecom['Partner'] == 'Yes']['Churn'].value_counts())\n",
        "pie_Partner_Y.plot.pie(subplots = True,  labels = pie_Partner_Y.index.values, autopct='%1.1f%%', startangle= 35)\n",
        "plt.title('Married / Live in')\n",
        "plt.gca().set_aspect('equal')\n",
        "\n",
        "pie_Partner_N = pd.DataFrame(telecom[telecom['Partner'] == 'No']['Churn'].value_counts())\n",
        "pie_Partner_N.plot.pie(subplots = True,  labels = pie_Partner_N.index.values, autopct='%1.1f%%', startangle= 60)\n",
        "plt.title('Single')\n",
        "\n",
        "plt.gca().set_aspect('equal')\n",
        "plt.show()"
      ],
      "execution_count": null,
      "outputs": []
    },
    {
      "metadata": {
        "_uuid": "5710e1023a62a0f362950a1441594cf19d824734",
        "id": "T4FJmY90eVlO"
      },
      "cell_type": "markdown",
      "source": [
        "#### Dependents"
      ]
    },
    {
      "metadata": {
        "trusted": true,
        "_uuid": "2197051b7dbe49f28fba86def8e8a7eec7c4a766",
        "id": "opujDE6VeVlO"
      },
      "cell_type": "code",
      "source": [
        "plt.figure(figsize=(15,5))\n",
        "pie_Dependents_Y = pd.DataFrame(telecom[telecom['Dependents'] == 'Yes']['Churn'].value_counts())\n",
        "pie_Dependents_Y.plot.pie(subplots = True,  labels = pie_Dependents_Y.index.values, autopct='%1.1f%%', startangle= 35)\n",
        "plt.title('Has Dependents')\n",
        "plt.gca().set_aspect('equal')\n",
        "\n",
        "pie_Dependents_N = pd.DataFrame(telecom[telecom['Dependents'] == 'No']['Churn'].value_counts())\n",
        "pie_Dependents_N.plot.pie(subplots = True,  labels = pie_Dependents_N.index.values, autopct='%1.1f%%', startangle= 60)\n",
        "plt.title('No Dependents')\n",
        "\n",
        "plt.gca().set_aspect('equal')\n",
        "plt.show()"
      ],
      "execution_count": null,
      "outputs": []
    },
    {
      "metadata": {
        "trusted": true,
        "_uuid": "b9f9b49c6974a699694ace969e5620fd4f68b900",
        "id": "v0vIzUGbeVlO"
      },
      "cell_type": "code",
      "source": [
        "# Customers with no dependents tends to churn more."
      ],
      "execution_count": null,
      "outputs": []
    },
    {
      "metadata": {
        "_uuid": "93b496e5a50eab09c46e0c8fa2f2b4d0e87125de",
        "id": "aY9x1Vq2eVlO"
      },
      "cell_type": "markdown",
      "source": [
        "#### Multiple Lines"
      ]
    },
    {
      "metadata": {
        "trusted": true,
        "_uuid": "adc375caec0f0866b08e78e9a976cd016534a58f",
        "id": "6FVKsPU2eVlO"
      },
      "cell_type": "code",
      "source": [
        "# Whether a customer has multiple lines of internet connectivity."
      ],
      "execution_count": null,
      "outputs": []
    },
    {
      "metadata": {
        "trusted": true,
        "_uuid": "e477fb765858d3a32e2d864c73be480ef787ea24",
        "id": "_4IgH8dteVlO"
      },
      "cell_type": "code",
      "source": [
        "plt.figure(figsize=(15,5))\n",
        "pie_MultipleLines_Y = pd.DataFrame(telecom[telecom['MultipleLines'] == 'Yes']['Churn'].value_counts())\n",
        "pie_MultipleLines_Y.plot.pie(subplots = True,  labels = pie_MultipleLines_Y.index.values, autopct='%1.1f%%', startangle= 50)\n",
        "plt.title('Multiple lines of internet connectivity')\n",
        "plt.gca().set_aspect('equal')\n",
        "\n",
        "pie_MultipleLines_N = pd.DataFrame(telecom[telecom['MultipleLines'] == 'No']['Churn'].value_counts())\n",
        "pie_MultipleLines_N.plot.pie(subplots = True,  labels = pie_MultipleLines_N.index.values, autopct='%1.1f%%', startangle= 45)\n",
        "plt.title('Single line of internet connectivity')\n",
        "\n",
        "plt.gca().set_aspect('equal')\n",
        "plt.show()"
      ],
      "execution_count": null,
      "outputs": []
    },
    {
      "metadata": {
        "trusted": true,
        "_uuid": "8b53f214784ce64033c6d8d7b47e309937591020",
        "id": "cjQVkHZMeVlO"
      },
      "cell_type": "code",
      "source": [
        "# Multiple lines of internet connectivity doesn't effect churn that much."
      ],
      "execution_count": null,
      "outputs": []
    },
    {
      "metadata": {
        "_uuid": "9e097c3d460534b70dd8f7e91ae04d9be5341761",
        "id": "Pg0EOPoyeVlP"
      },
      "cell_type": "markdown",
      "source": [
        "#### Internet Service"
      ]
    },
    {
      "metadata": {
        "trusted": true,
        "_uuid": "1d3e55915223fec547fb2b4c744f114ac8beb682",
        "id": "TOyye3aseVlP"
      },
      "cell_type": "code",
      "source": [
        "plt.figure(figsize=(15,5))\n",
        "pie_InternetService_fo = pd.DataFrame(telecom[telecom['InternetService'] == \"Fiber optic\"]['Churn'].value_counts())\n",
        "pie_InternetService_fo.plot.pie(subplots = True, labels = pie_InternetService_fo.index.values, autopct='%1.1f%%', startangle= 75)\n",
        "plt.title('Fiber Optic')\n",
        "plt.gca().set_aspect('equal')\n",
        "\n",
        "pie_InternetService_dsl = pd.DataFrame(telecom[telecom['InternetService'] == \"DSL\"]['Churn'].value_counts())\n",
        "pie_InternetService_dsl.plot.pie(subplots = True, labels = pie_InternetService_dsl.index.values, autopct='%1.1f%%', startangle= 35)\n",
        "plt.title('DSL')\n",
        "plt.gca().set_aspect('equal')\n",
        "\n",
        "pie_InternetService_no = pd.DataFrame(telecom[telecom['InternetService'] == \"No\"]['Churn'].value_counts())\n",
        "pie_InternetService_no.plot.pie(subplots = True, labels = pie_InternetService_no.index.values, autopct='%1.1f%%', startangle= 13)\n",
        "plt.title('No Internet Service')\n",
        "plt.gca().set_aspect('equal')\n",
        "\n",
        "plt.show()"
      ],
      "execution_count": null,
      "outputs": []
    },
    {
      "metadata": {
        "trusted": true,
        "_uuid": "a289454de7d318542b990a835109ad4b35f30356",
        "id": "6fXazTZMeVlP"
      },
      "cell_type": "code",
      "source": [
        "# Customers with Fiber Optic Connection churn the most whereas least probability of churning for those with no internet service."
      ],
      "execution_count": null,
      "outputs": []
    },
    {
      "metadata": {
        "_uuid": "6515af8e153b66e9531094a10ad18e54c4482021",
        "id": "3mAxLa8VeVlP"
      },
      "cell_type": "markdown",
      "source": [
        "#### Online Security"
      ]
    },
    {
      "metadata": {
        "trusted": true,
        "_uuid": "c8fbafa2f7272e3f8c44fac956c9be1c25f332f4",
        "id": "VjBMIpMOeVlP"
      },
      "cell_type": "code",
      "source": [
        "plt.figure(figsize=(15,5))\n",
        "pie_OnlineSecurity_Y = pd.DataFrame(telecom[telecom['OnlineSecurity'] == 'Yes']['Churn'].value_counts())\n",
        "pie_OnlineSecurity_Y.plot.pie(subplots = True,  labels = pie_OnlineSecurity_Y.index.values, autopct='%1.1f%%', startangle= 25)\n",
        "plt.title('Online Security')\n",
        "plt.gca().set_aspect('equal')\n",
        "\n",
        "pie_OnlineSecurity_N = pd.DataFrame(telecom[telecom['OnlineSecurity'] == 'No']['Churn'].value_counts())\n",
        "pie_OnlineSecurity_N.plot.pie(subplots = True, labels = pie_OnlineSecurity_N.index.values, autopct='%1.1f%%', startangle= 75)\n",
        "plt.title('Not opted for Online Security')\n",
        "plt.gca().set_aspect('equal')\n",
        "plt.show()"
      ],
      "execution_count": null,
      "outputs": []
    },
    {
      "metadata": {
        "trusted": true,
        "_uuid": "ba4668aa0d0d17df509aca2920102b4455247959",
        "id": "IOB9vf-yeVlP"
      },
      "cell_type": "code",
      "source": [
        "# Customers opted for Online Security churn less than who have not opted."
      ],
      "execution_count": null,
      "outputs": []
    },
    {
      "metadata": {
        "_uuid": "12021160188c7f30e649c7a6f66904efccddcf5a",
        "id": "r2oRXpB_eVlQ"
      },
      "cell_type": "markdown",
      "source": [
        "#### Online Backup"
      ]
    },
    {
      "metadata": {
        "scrolled": true,
        "trusted": true,
        "_uuid": "c8f7212c52bb6b0e339658b40756cab9190c1c63",
        "id": "XeNY8dfkeVlQ"
      },
      "cell_type": "code",
      "source": [
        "plt.figure(figsize=(15,5))\n",
        "pie_OnlineBackup_Y = pd.DataFrame(telecom[telecom['OnlineBackup'] == 'Yes']['Churn'].value_counts())\n",
        "pie_OnlineBackup_Y.plot.pie(subplots = True,  labels = pie_OnlineBackup_Y.index.values, autopct='%1.1f%%', startangle= 40)\n",
        "plt.title('Online Backup')\n",
        "plt.gca().set_aspect('equal')\n",
        "\n",
        "pie_OnlineBackup_N = pd.DataFrame(telecom[telecom['OnlineBackup'] == 'No']['Churn'].value_counts())\n",
        "pie_OnlineBackup_N.plot.pie(subplots = True, labels = pie_OnlineBackup_N.index.values, autopct='%1.1f%%', startangle= 75)\n",
        "plt.title('Not opted for Online Backup')\n",
        "plt.gca().set_aspect('equal')\n",
        "\n",
        "plt.show()"
      ],
      "execution_count": null,
      "outputs": []
    },
    {
      "metadata": {
        "trusted": true,
        "_uuid": "4f1861860df75ea5518291c960127f1818442bf2",
        "id": "I98hO55yeVlQ"
      },
      "cell_type": "code",
      "source": [
        "# Customers opted for Online Backup churn less than who have not opted."
      ],
      "execution_count": null,
      "outputs": []
    },
    {
      "metadata": {
        "_uuid": "78b6e1b36664f494f81dc061af59f73f3a4be94c",
        "id": "LyLC8jSUeVlQ"
      },
      "cell_type": "markdown",
      "source": [
        "#### Device Protection"
      ]
    },
    {
      "metadata": {
        "trusted": true,
        "_uuid": "ebe857a12697364b1fec21efbba4a266002f9e75",
        "id": "vc2HQ0NweVlQ"
      },
      "cell_type": "code",
      "source": [
        "plt.figure(figsize=(15,5))\n",
        "\n",
        "pie_DeviceProtection_Y = pd.DataFrame(telecom[telecom['DeviceProtection'] == 'Yes']['Churn'].value_counts())\n",
        "pie_DeviceProtection_Y.plot.pie(subplots = True, labels = pie_DeviceProtection_Y.index.values, autopct='%1.1f%%', startangle= 40)\n",
        "plt.title('Online Backup')\n",
        "plt.gca().set_aspect('equal')\n",
        "\n",
        "pie_DeviceProtection_N = pd.DataFrame(telecom[telecom['DeviceProtection'] == 'No']['Churn'].value_counts())\n",
        "pie_DeviceProtection_N.plot.pie(subplots = True, labels = pie_DeviceProtection_N.index.values, autopct='%1.1f%%', startangle= 75)\n",
        "plt.title('Not opted for Online Backup')\n",
        "plt.gca().set_aspect('equal')\n",
        "plt.show()"
      ],
      "execution_count": null,
      "outputs": []
    },
    {
      "metadata": {
        "trusted": true,
        "_uuid": "5239ad7e4e8253850665ce1e24ef653e89ddff36",
        "id": "4F3eNXRveVlQ"
      },
      "cell_type": "code",
      "source": [
        "# Customers opted for Device Potection churn less than who have not opted."
      ],
      "execution_count": null,
      "outputs": []
    },
    {
      "metadata": {
        "_uuid": "8f8658fbba7562d9d57f9de87d9872092ad9a23d",
        "id": "2f26Fn3ZeVlQ"
      },
      "cell_type": "markdown",
      "source": [
        "#### Tech Support"
      ]
    },
    {
      "metadata": {
        "trusted": true,
        "_uuid": "243be34cefcd61b223430467a3ea4384111c9723",
        "id": "XIZfAQ2PeVlQ"
      },
      "cell_type": "code",
      "source": [
        "plt.figure(figsize=(15,5))\n",
        "pie_TechSupport_Y = pd.DataFrame(telecom[telecom['TechSupport'] == 'Yes']['Churn'].value_counts())\n",
        "pie_TechSupport_Y.plot.pie(subplots = True,labels = pie_TechSupport_Y.index.values, autopct='%1.1f%%', startangle= 30)\n",
        "plt.title('Tech Support')\n",
        "plt.gca().set_aspect('equal')\n",
        "\n",
        "pie_TechSupport_N = pd.DataFrame(telecom[telecom['TechSupport'] == 'No']['Churn'].value_counts())\n",
        "pie_TechSupport_N.plot.pie(subplots = True, labels = pie_TechSupport_N.index.values, autopct='%1.1f%%', startangle= 75)\n",
        "plt.title('Not opted for Tech Support')\n",
        "\n",
        "plt.gca().set_aspect('equal')\n",
        "plt.show()"
      ],
      "execution_count": null,
      "outputs": []
    },
    {
      "metadata": {
        "trusted": false,
        "_uuid": "5a74bb75dfa264ea979e1668122a8270f55944c4",
        "id": "bkUtsM3BeVlQ"
      },
      "cell_type": "code",
      "source": [
        "# Customers opted for Tech Support churn less than who have not opted."
      ],
      "execution_count": null,
      "outputs": []
    },
    {
      "metadata": {
        "_uuid": "1b7316bf53bea74ff8337c340378fbb8dfdccc92",
        "id": "ml9a6YKQeVlQ"
      },
      "cell_type": "markdown",
      "source": [
        "#### Streaming TV"
      ]
    },
    {
      "metadata": {
        "trusted": true,
        "_uuid": "310d250f965a77bc5c48175eb363a659c64ff293",
        "id": "IYQ_5q_2eVlQ"
      },
      "cell_type": "code",
      "source": [
        "plt.figure(figsize=(15,5))\n",
        "pie_StreamingTV_Y = pd.DataFrame(telecom[telecom['StreamingTV'] == 'Yes']['Churn'].value_counts())\n",
        "pie_StreamingTV_Y.plot.pie(subplots = True, labels = pie_StreamingTV_Y.index.values, autopct='%1.1f%%', startangle= 55)\n",
        "plt.title('Streaming TV')\n",
        "plt.gca().set_aspect('equal')\n",
        "\n",
        "pie_StreamingTV_N = pd.DataFrame(telecom[telecom['StreamingTV'] == 'No']['Churn'].value_counts())\n",
        "pie_StreamingTV_N.plot.pie(subplots = True,labels = pie_StreamingTV_N.index.values, autopct='%1.1f%%', startangle= 58)\n",
        "plt.title('Not opted for Streaming TV')\n",
        "plt.gca().set_aspect('equal')\n",
        "\n",
        "plt.show()"
      ],
      "execution_count": null,
      "outputs": []
    },
    {
      "metadata": {
        "trusted": false,
        "_uuid": "80e46b9474f3f9f1cad7350c3ff7043b99498bbf",
        "id": "dgL8-jdWeVlR"
      },
      "cell_type": "code",
      "source": [
        "# Streaming TV doesn't make such impact on churning."
      ],
      "execution_count": null,
      "outputs": []
    },
    {
      "metadata": {
        "_uuid": "4f4ccd4aae4823be7c416e9015ae8f1568387195",
        "id": "DKrWOdvgeVlR"
      },
      "cell_type": "markdown",
      "source": [
        "#### Streaming Movies"
      ]
    },
    {
      "metadata": {
        "trusted": true,
        "_uuid": "4bb3e9731812873e6c3234655b500b15ea5d2e6b",
        "id": "cKCCQYNteVlR"
      },
      "cell_type": "code",
      "source": [
        "plt.figure(figsize=(15,5))\n",
        "pie_StreamingMovies_Y = pd.DataFrame(telecom[telecom['StreamingMovies'] == 'Yes']['Churn'].value_counts())\n",
        "pie_StreamingMovies_Y.plot.pie(subplots = True, labels = pie_StreamingMovies_Y.index.values, autopct='%1.1f%%', startangle= 55)\n",
        "plt.title('Streaming Movies')\n",
        "plt.gca().set_aspect('equal')\n",
        "\n",
        "pie_StreamingMovies_N = pd.DataFrame(telecom[telecom['StreamingMovies'] == 'No']['Churn'].value_counts())\n",
        "pie_StreamingMovies_N.plot.pie(subplots = True, labels = pie_StreamingMovies_N.index.values, autopct='%1.1f%%', startangle= 60)\n",
        "plt.title('Not opted for Streaming TV')\n",
        "plt.gca().set_aspect('equal')\n",
        "\n",
        "plt.show()"
      ],
      "execution_count": null,
      "outputs": []
    },
    {
      "metadata": {
        "trusted": true,
        "_uuid": "0466802e6b19ba2814b636b5d2612f90b2195eb2",
        "id": "_25RjQS4eVlR"
      },
      "cell_type": "code",
      "source": [
        "# Streaming Movies doesn't make such impact on churning."
      ],
      "execution_count": null,
      "outputs": []
    },
    {
      "metadata": {
        "_uuid": "5de8e0aac5a4872bc49e9b77c9bca88faa8fd3cb",
        "id": "wM9DYwHxeVlR"
      },
      "cell_type": "markdown",
      "source": [
        "## Model Building"
      ]
    },
    {
      "metadata": {
        "_uuid": "84a02671b469051593ed7898f27a57b00b0ca004",
        "id": "HuP7A5SzeVlR"
      },
      "cell_type": "markdown",
      "source": [
        "### Data Preparation"
      ]
    },
    {
      "metadata": {
        "_uuid": "d6a5ce28aa3dd83a50e7ee48a2dcfec836da7a27",
        "id": "Q5qv0YIreVlR"
      },
      "cell_type": "markdown",
      "source": [
        "#### Converting some binary variables (Yes/No) to 0/1"
      ]
    },
    {
      "metadata": {
        "trusted": false,
        "_uuid": "51a118e7e371894773ef04151f4c620900f34535",
        "id": "AEn7KbmxeVlR"
      },
      "cell_type": "code",
      "source": [
        "# List of variables to map\n",
        "\n",
        "varlist =  ['PhoneService', 'PaperlessBilling', 'Churn', 'Partner', 'Dependents']\n",
        "\n",
        "# Defining the map function\n",
        "def binary_map(x):\n",
        "    return x.map({'Yes': 1, \"No\": 0})\n",
        "\n",
        "# Applying the function to the housing list\n",
        "telecom[varlist] = telecom[varlist].apply(binary_map)"
      ],
      "execution_count": null,
      "outputs": []
    },
    {
      "metadata": {
        "trusted": false,
        "_uuid": "234a448174381a41b1a9072bbe3715f9a6e14c97",
        "id": "qt0t6jSJeVlR"
      },
      "cell_type": "code",
      "source": [
        "telecom.head()"
      ],
      "execution_count": null,
      "outputs": []
    },
    {
      "metadata": {
        "_uuid": "c8aa8508f1e8980fba60bf594df216eb74332406",
        "id": "IawLOI3IeVlR"
      },
      "cell_type": "markdown",
      "source": [
        "#### For categorical variables with multiple levels, create dummy features (one-hot encoded)"
      ]
    },
    {
      "metadata": {
        "trusted": false,
        "_uuid": "f7debb8122f0a978aeaa6f6c45aafbb12d242701",
        "id": "SY_CMF3deVlR"
      },
      "cell_type": "code",
      "source": [
        "# Creating a dummy variable for some of the categorical variables and dropping the first one.\n",
        "dummy1 = pd.get_dummies(telecom[['Contract', 'PaymentMethod', 'gender', 'InternetService']], drop_first=True)\n",
        "\n",
        "# Adding the results to the master dataframe\n",
        "telecom = pd.concat([telecom, dummy1], axis=1)"
      ],
      "execution_count": null,
      "outputs": []
    },
    {
      "metadata": {
        "trusted": false,
        "_uuid": "818a3d7de13f54755b07b0ef83ba1b0460820f07",
        "id": "IbpvkEFteVlR"
      },
      "cell_type": "code",
      "source": [
        "telecom.head()"
      ],
      "execution_count": null,
      "outputs": []
    },
    {
      "metadata": {
        "trusted": false,
        "_uuid": "c5d167279764aad7e9f74d963cce03d1b50c8445",
        "id": "exxHemI2eVlR"
      },
      "cell_type": "code",
      "source": [
        "# Creating dummy variables for the remaining categorical variables and dropping the level with big names.\n",
        "\n",
        "# Creating dummy variables for the variable 'MultipleLines'\n",
        "ml = pd.get_dummies(telecom['MultipleLines'], prefix='MultipleLines')\n",
        "# Dropping MultipleLines_No phone service column\n",
        "ml1 = ml.drop(['MultipleLines_No phone service'], 1)\n",
        "#Adding the results to the master dataframe\n",
        "telecom = pd.concat([telecom,ml1], axis=1)\n",
        "\n",
        "# Creating dummy variables for the variable 'OnlineSecurity'.\n",
        "os = pd.get_dummies(telecom['OnlineSecurity'], prefix='OnlineSecurity')\n",
        "os1 = os.drop(['OnlineSecurity_No internet service'], 1)\n",
        "# Adding the results to the master dataframe\n",
        "telecom = pd.concat([telecom,os1], axis=1)\n",
        "\n",
        "# Creating dummy variables for the variable 'OnlineBackup'.\n",
        "ob = pd.get_dummies(telecom['OnlineBackup'], prefix='OnlineBackup')\n",
        "ob1 = ob.drop(['OnlineBackup_No internet service'], 1)\n",
        "# Adding the results to the master dataframe\n",
        "telecom = pd.concat([telecom,ob1], axis=1)\n",
        "\n",
        "# Creating dummy variables for the variable 'DeviceProtection'.\n",
        "dp = pd.get_dummies(telecom['DeviceProtection'], prefix='DeviceProtection')\n",
        "dp1 = dp.drop(['DeviceProtection_No internet service'], 1)\n",
        "# Adding the results to the master dataframe\n",
        "telecom = pd.concat([telecom,dp1], axis=1)\n",
        "\n",
        "# Creating dummy variables for the variable 'TechSupport'.\n",
        "ts = pd.get_dummies(telecom['TechSupport'], prefix='TechSupport')\n",
        "ts1 = ts.drop(['TechSupport_No internet service'], 1)\n",
        "# Adding the results to the master dataframe\n",
        "telecom = pd.concat([telecom,ts1], axis=1)\n",
        "\n",
        "# Creating dummy variables for the variable 'StreamingTV'.\n",
        "st =pd.get_dummies(telecom['StreamingTV'], prefix='StreamingTV')\n",
        "st1 = st.drop(['StreamingTV_No internet service'], 1)\n",
        "# Adding the results to the master dataframe\n",
        "telecom = pd.concat([telecom,st1], axis=1)\n",
        "\n",
        "# Creating dummy variables for the variable 'StreamingMovies'.\n",
        "sm = pd.get_dummies(telecom['StreamingMovies'], prefix='StreamingMovies')\n",
        "sm1 = sm.drop(['StreamingMovies_No internet service'], 1)\n",
        "# Adding the results to the master dataframe\n",
        "telecom = pd.concat([telecom,sm1], axis=1)"
      ],
      "execution_count": null,
      "outputs": []
    },
    {
      "metadata": {
        "trusted": false,
        "_uuid": "ca8d9e7b1a8b24d1809a0856f6312a25bf81467d",
        "id": "MVzL1bwXeVlS"
      },
      "cell_type": "code",
      "source": [
        "telecom.head()"
      ],
      "execution_count": null,
      "outputs": []
    },
    {
      "metadata": {
        "_uuid": "88ec64f311eaa28036828af6f59128088adb8d89",
        "id": "HWiPtzIbeVlS"
      },
      "cell_type": "markdown",
      "source": [
        "#### Dropping the repeated variables"
      ]
    },
    {
      "metadata": {
        "trusted": false,
        "_uuid": "c6c3484386f23b1c1a5903cdd575f5d4a2382902",
        "id": "-LJ2pyP2eVlS"
      },
      "cell_type": "code",
      "source": [
        "# We have created dummies for the below variables, so we can drop them\n",
        "telecom = telecom.drop(['Contract','PaymentMethod','gender','MultipleLines','InternetService', 'OnlineSecurity', 'OnlineBackup', 'DeviceProtection',\n",
        "       'TechSupport', 'StreamingTV', 'StreamingMovies'], 1)"
      ],
      "execution_count": null,
      "outputs": []
    },
    {
      "metadata": {
        "trusted": false,
        "_uuid": "5329de5267240652301631d0ec2040d0ebb62d15",
        "id": "Xk9cH1EOeVlS"
      },
      "cell_type": "code",
      "source": [
        "telecom.info()"
      ],
      "execution_count": null,
      "outputs": []
    },
    {
      "metadata": {
        "_uuid": "56e852c54ba7617d1bd40b941e7e5cfb12dc90cc",
        "id": "UGo68W0NeVlS"
      },
      "cell_type": "markdown",
      "source": [
        "Now you can see that you have all variables as numeric."
      ]
    },
    {
      "metadata": {
        "_uuid": "77dc64caff3171159ff85a653b04982ea102482a",
        "id": "CJTAkqrieVlS"
      },
      "cell_type": "markdown",
      "source": [
        "#### Checking for Outliers"
      ]
    },
    {
      "metadata": {
        "trusted": false,
        "_uuid": "f056737b215efce12101b90fa76bf58ca62c93ec",
        "id": "sVuWMz8veVlS"
      },
      "cell_type": "code",
      "source": [
        "# Checking for outliers in the continuous variables\n",
        "num_telecom = telecom[['tenure','MonthlyCharges','SeniorCitizen','TotalCharges']]"
      ],
      "execution_count": null,
      "outputs": []
    },
    {
      "metadata": {
        "trusted": false,
        "_uuid": "12a913fdc9bd4dc89248ef00dcde7ac199d9d0b8",
        "id": "_maE3uWieVlS"
      },
      "cell_type": "code",
      "source": [
        "# Checking outliers at 25%, 50%, 75%, 90%, 95% and 99%\n",
        "num_telecom.describe(percentiles=[.25, .5, .75, .90, .95, .99])"
      ],
      "execution_count": null,
      "outputs": []
    },
    {
      "metadata": {
        "_uuid": "b89e609f5cb5824c1dd498a5b6234af7b496e319",
        "id": "slBsv50jeVlS"
      },
      "cell_type": "markdown",
      "source": [
        "From the distribution shown above, you can see that there no outliers in your data. The numbers are gradually increasing."
      ]
    },
    {
      "metadata": {
        "_uuid": "e81109236459ea7368de53c59677104fbc2fdf22",
        "id": "KQ1AQjgTeVlS"
      },
      "cell_type": "markdown",
      "source": [
        "#### Checking for Missing Values and Inputing Them"
      ]
    },
    {
      "metadata": {
        "trusted": false,
        "_uuid": "31b1d514cf34df5ad3e60ee73444dc645693ab07",
        "id": "54xH_hXneVlS"
      },
      "cell_type": "code",
      "source": [
        "# Adding up the missing values (column-wise)\n",
        "telecom.isnull().sum()"
      ],
      "execution_count": null,
      "outputs": []
    },
    {
      "metadata": {
        "_uuid": "38fa6d6c3442b1b13c58bdd9c831d9fec5403843",
        "id": "zR0GAwZJeVlS"
      },
      "cell_type": "markdown",
      "source": [
        "It means that 11/7043 = 0.001561834 i.e 0.1%, best is to remove these observations from the analysis"
      ]
    },
    {
      "metadata": {
        "trusted": false,
        "_uuid": "f73d83be5b5b44bf16c1be83e6684766c358c186",
        "id": "GnfPvwXheVlS"
      },
      "cell_type": "code",
      "source": [
        "# Checking the percentage of missing values\n",
        "round(100*(telecom.isnull().sum()/len(telecom.index)), 2)"
      ],
      "execution_count": null,
      "outputs": []
    },
    {
      "metadata": {
        "trusted": false,
        "_uuid": "d50e02e738039aa4bcbf7850dbfa81b827f926f0",
        "id": "DXUqjkEfeVlS"
      },
      "cell_type": "code",
      "source": [
        "# Removing NaN TotalCharges rows\n",
        "telecom = telecom[~np.isnan(telecom['TotalCharges'])]"
      ],
      "execution_count": null,
      "outputs": []
    },
    {
      "metadata": {
        "trusted": false,
        "_uuid": "102fbf688a6d2e51e930b93eb38ea20240d8de4e",
        "id": "V-QfL7x9eVlT"
      },
      "cell_type": "code",
      "source": [
        "# Checking percentage of missing values after removing the missing values\n",
        "round(100*(telecom.isnull().sum()/len(telecom.index)), 2)"
      ],
      "execution_count": null,
      "outputs": []
    },
    {
      "metadata": {
        "_uuid": "9a1566e0b8dc69a6529027db94c622d537d61843",
        "id": "gllwCzaKeVlT"
      },
      "cell_type": "markdown",
      "source": [
        "Now we don't have any missing values"
      ]
    },
    {
      "metadata": {
        "_uuid": "deb40b406c82b157e8656bfb50d93fd79be60c8d",
        "id": "q7H2QLOLeVlT"
      },
      "cell_type": "markdown",
      "source": [
        "### Step 4: Test-Train Split"
      ]
    },
    {
      "metadata": {
        "trusted": false,
        "_uuid": "fe21054fb829fdfed2c4f766877081c52e831ebf",
        "id": "ys2A72IreVlT"
      },
      "cell_type": "code",
      "source": [
        "from sklearn.model_selection import train_test_split"
      ],
      "execution_count": null,
      "outputs": []
    },
    {
      "metadata": {
        "trusted": false,
        "_uuid": "c23923f95a60e1a6d65d9d60a577957841674bf9",
        "id": "MfLPplbqeVlT"
      },
      "cell_type": "code",
      "source": [
        "# Putting feature variable to X\n",
        "X = telecom.drop(['Churn','customerID'], axis=1)\n",
        "\n",
        "X.head()"
      ],
      "execution_count": null,
      "outputs": []
    },
    {
      "metadata": {
        "scrolled": true,
        "trusted": false,
        "_uuid": "acc85e7e70ee1d241e88b3c777ec70886ab64627",
        "id": "IYO1hrSQeVlT"
      },
      "cell_type": "code",
      "source": [
        "# Putting response variable to y\n",
        "y = telecom['Churn']\n",
        "\n",
        "y.head()"
      ],
      "execution_count": null,
      "outputs": []
    },
    {
      "metadata": {
        "trusted": false,
        "_uuid": "bae39d755264a1770cb5c4cdd4cde05e1642348a",
        "id": "uT0GC5PWeVlT"
      },
      "cell_type": "code",
      "source": [
        "# Splitting the data into train and test\n",
        "X_train, X_test, y_train, y_test = train_test_split(X, y, train_size=0.7, test_size=0.3, random_state=100)"
      ],
      "execution_count": null,
      "outputs": []
    },
    {
      "metadata": {
        "_uuid": "2ea5627bfdf786ec00432884d6ca5b98bd878b1d",
        "id": "7kdEmYZ-eVlT"
      },
      "cell_type": "markdown",
      "source": [
        "### Step 5: Feature Scaling"
      ]
    },
    {
      "metadata": {
        "trusted": false,
        "_uuid": "284ef882b7f4cabd39ccbfcdcdae0ad3ec379e43",
        "id": "G2KROi4_eVlT"
      },
      "cell_type": "code",
      "source": [
        "from sklearn.preprocessing import StandardScaler"
      ],
      "execution_count": null,
      "outputs": []
    },
    {
      "metadata": {
        "trusted": false,
        "_uuid": "ef2306c84461023060f0954686aa1ea282a32f7c",
        "id": "T1-ymiMpeVlT"
      },
      "cell_type": "code",
      "source": [
        "scaler = StandardScaler()\n",
        "\n",
        "X_train[['tenure','MonthlyCharges','TotalCharges']] = scaler.fit_transform(X_train[['tenure','MonthlyCharges','TotalCharges']])\n",
        "\n",
        "X_train.head()"
      ],
      "execution_count": null,
      "outputs": []
    },
    {
      "metadata": {
        "trusted": false,
        "_uuid": "9808c2feee8b995bf1f0241fee9c3f9ce9228ac9",
        "id": "J_qkIy0SeVlT"
      },
      "cell_type": "code",
      "source": [
        "### Checking the Churn Rate\n",
        "churn = (sum(telecom['Churn'])/len(telecom['Churn'].index))*100\n",
        "churn"
      ],
      "execution_count": null,
      "outputs": []
    },
    {
      "metadata": {
        "_uuid": "e0edcc8365202a7b44fb90158aa6fba87856fc97",
        "id": "fCkCOhO0eVlT"
      },
      "cell_type": "markdown",
      "source": [
        "We have almost 27% churn rate"
      ]
    },
    {
      "metadata": {
        "_uuid": "2c07c51e09c95a6178237046eb939e5f44a7ddef",
        "id": "msLeRNUteVlT"
      },
      "cell_type": "markdown",
      "source": [
        "### Step 6: Looking at Correlations"
      ]
    },
    {
      "metadata": {
        "trusted": false,
        "_uuid": "4bcf92481ab0cab0925637495db05211d2bbfa4b",
        "id": "MN6mi6JmeVlU"
      },
      "cell_type": "code",
      "source": [
        "# Let's see the correlation matrix\n",
        "plt.figure(figsize = (30,15))        # Size of the figure\n",
        "sns.heatmap(telecom.corr(),annot = True)\n",
        "plt.show()"
      ],
      "execution_count": null,
      "outputs": []
    },
    {
      "metadata": {
        "_uuid": "d0f098b6c74fd1da00de60a89fd2fc8ab76d1a16",
        "id": "B4GlxP2ceVlU"
      },
      "cell_type": "markdown",
      "source": [
        "#### Dropping highly correlated dummy variables"
      ]
    },
    {
      "metadata": {
        "trusted": false,
        "_uuid": "a760465580abffd70e9c3f392c663bf3df309aab",
        "id": "6Pf-_CjYeVlU"
      },
      "cell_type": "code",
      "source": [
        "X_test = X_test.drop(['MultipleLines_No','OnlineSecurity_No','OnlineBackup_No','DeviceProtection_No','TechSupport_No',\n",
        "                       'StreamingTV_No','StreamingMovies_No'], 1)\n",
        "X_train = X_train.drop(['MultipleLines_No','OnlineSecurity_No','OnlineBackup_No','DeviceProtection_No','TechSupport_No',\n",
        "                         'StreamingTV_No','StreamingMovies_No'], 1)"
      ],
      "execution_count": null,
      "outputs": []
    },
    {
      "metadata": {
        "_uuid": "aef274a2a692ffbcfcef25b65045fe2b453a84ce",
        "id": "b1899QgreVlU"
      },
      "cell_type": "markdown",
      "source": [
        "#### Checking the Correlation Matrix"
      ]
    },
    {
      "metadata": {
        "_uuid": "b55fd7447a6b13907e99daaa24b70a28abdcaded",
        "id": "S2S26oIceVlU"
      },
      "cell_type": "markdown",
      "source": [
        "After dropping highly correlated variables now let's check the correlation matrix again."
      ]
    },
    {
      "metadata": {
        "trusted": false,
        "_uuid": "cb850b656137120792e1c87579e256241b18761c",
        "id": "dQltaBXveVlU"
      },
      "cell_type": "code",
      "source": [
        "plt.figure(figsize = (20,10))\n",
        "sns.heatmap(X_train.corr(),annot = True)\n",
        "plt.show()"
      ],
      "execution_count": null,
      "outputs": []
    },
    {
      "metadata": {
        "_uuid": "3df76d395d00484eddc74931b520489bb64f4283",
        "id": "jM-pMWf9eVlU"
      },
      "cell_type": "markdown",
      "source": [
        "### Step 7: Model Building\n",
        "Let's start by splitting our data into a training set and a test set."
      ]
    },
    {
      "metadata": {
        "_uuid": "04a77e6763e2a6bd92396ef7abd506b3e1688036",
        "id": "sBWSMPyCeVlU"
      },
      "cell_type": "markdown",
      "source": [
        "#### Running Your First Training Model"
      ]
    },
    {
      "metadata": {
        "trusted": false,
        "_uuid": "0ca7a1360d71612fb3ebb7cf1b9b7c50bdadac65",
        "id": "gRQxJWAYeVlU"
      },
      "cell_type": "code",
      "source": [
        "import statsmodels.api as sm"
      ],
      "execution_count": null,
      "outputs": []
    },
    {
      "metadata": {
        "scrolled": true,
        "trusted": false,
        "_uuid": "9ad3fc827c9d6e06273cf12d1ea6941c2d787d0a",
        "id": "3vQbjEbDeVlU"
      },
      "cell_type": "code",
      "source": [
        "# Logistic regression model\n",
        "logm1 = sm.GLM(y_train,(sm.add_constant(X_train)), family = sm.families.Binomial())\n",
        "logm1.fit().summary()"
      ],
      "execution_count": null,
      "outputs": []
    },
    {
      "metadata": {
        "_uuid": "7d768741893b83256aff564292de7bd6ca2e36ea",
        "id": "9GcgC_AHeVlU"
      },
      "cell_type": "markdown",
      "source": [
        "### Step 8: Feature Selection Using RFE"
      ]
    },
    {
      "metadata": {
        "trusted": false,
        "_uuid": "0d7b45427862537d1023d7730c2e2050b872f51c",
        "id": "ZLY1qmjceVlU"
      },
      "cell_type": "code",
      "source": [
        "from sklearn.linear_model import LogisticRegression\n",
        "logreg = LogisticRegression()"
      ],
      "execution_count": null,
      "outputs": []
    },
    {
      "metadata": {
        "trusted": false,
        "_uuid": "26b981d29b89c106aff526cb1de9b6024bf59098",
        "id": "SwR5cwYceVlU"
      },
      "cell_type": "code",
      "source": [
        "from sklearn.feature_selection import RFE\n",
        "rfe = RFE(logreg, 15)             # running RFE with 13 variables as output\n",
        "rfe = rfe.fit(X_train, y_train)"
      ],
      "execution_count": null,
      "outputs": []
    },
    {
      "metadata": {
        "trusted": false,
        "_uuid": "330f5418ecf18c9beb4188d36b37dda12ec0a190",
        "id": "NEvjdN52eVlU"
      },
      "cell_type": "code",
      "source": [
        "rfe.support_"
      ],
      "execution_count": null,
      "outputs": []
    },
    {
      "metadata": {
        "scrolled": false,
        "trusted": false,
        "_uuid": "b1c59a6e66f8268d8e97607a6436354a6ae9c734",
        "id": "rBU7cQ5NeVlU"
      },
      "cell_type": "code",
      "source": [
        "list(zip(X_train.columns, rfe.support_, rfe.ranking_))"
      ],
      "execution_count": null,
      "outputs": []
    },
    {
      "metadata": {
        "trusted": false,
        "_uuid": "9d3c129c3d4bf299ab925ff1720451ed34f621e7",
        "id": "ljo0HicpeVlU"
      },
      "cell_type": "code",
      "source": [
        "col = X_train.columns[rfe.support_]"
      ],
      "execution_count": null,
      "outputs": []
    },
    {
      "metadata": {
        "scrolled": false,
        "trusted": false,
        "_uuid": "4fd80a70c824741d2729e35ab6686f871d81af6f",
        "id": "rCj9piIYeVlU"
      },
      "cell_type": "code",
      "source": [
        "X_train.columns[~rfe.support_]"
      ],
      "execution_count": null,
      "outputs": []
    },
    {
      "metadata": {
        "_uuid": "85dbf82b2c79c91fdbd58a899cd70637967f8665",
        "id": "Rhntc_TneVlV"
      },
      "cell_type": "markdown",
      "source": [
        "##### Assessing the model with StatsModels"
      ]
    },
    {
      "metadata": {
        "scrolled": false,
        "trusted": false,
        "_uuid": "44101b1bb8883b2de1598daabc5c01f319db3729",
        "id": "vH4mT0q6eVlV"
      },
      "cell_type": "code",
      "source": [
        "X_train_sm = sm.add_constant(X_train[col])\n",
        "logm2 = sm.GLM(y_train,X_train_sm, family = sm.families.Binomial())\n",
        "res = logm2.fit()\n",
        "res.summary()"
      ],
      "execution_count": null,
      "outputs": []
    },
    {
      "metadata": {
        "trusted": false,
        "_uuid": "04c5aaa05b6cd5d5190242231588c76f73427552",
        "id": "KIyYRaa9eVlY"
      },
      "cell_type": "code",
      "source": [
        "# Getting the predicted values on the train set\n",
        "y_train_pred = res.predict(X_train_sm)\n",
        "y_train_pred[:10]"
      ],
      "execution_count": null,
      "outputs": []
    },
    {
      "metadata": {
        "trusted": false,
        "_uuid": "1e7c74e5a7f3e073124b5c35e7af43cabbe4a5b9",
        "id": "61oYgGiSeVlY"
      },
      "cell_type": "code",
      "source": [
        "y_train_pred = y_train_pred.values.reshape(-1)\n",
        "y_train_pred[:10]"
      ],
      "execution_count": null,
      "outputs": []
    },
    {
      "metadata": {
        "_uuid": "887cde5aeddfc942155ca991003fda5c0eae63eb",
        "id": "_sWsnlnceVlY"
      },
      "cell_type": "markdown",
      "source": [
        "##### Creating a dataframe with the actual churn flag and the predicted probabilities"
      ]
    },
    {
      "metadata": {
        "trusted": false,
        "_uuid": "9c226688e6e7f5476dd208e3d8803a98d5bef199",
        "id": "GhQfauVieVlY"
      },
      "cell_type": "code",
      "source": [
        "y_train_pred_final = pd.DataFrame({'Churn':y_train.values, 'Churn_Prob':y_train_pred})\n",
        "y_train_pred_final['CustID'] = y_train.index\n",
        "y_train_pred_final.head()"
      ],
      "execution_count": null,
      "outputs": []
    },
    {
      "metadata": {
        "_uuid": "666ea7ec5e265beb6ad17869807670240fc511eb",
        "id": "XjDec08beVlY"
      },
      "cell_type": "markdown",
      "source": [
        "##### Creating new column 'predicted' with 1 if Churn_Prob > 0.5 else 0"
      ]
    },
    {
      "metadata": {
        "trusted": false,
        "_uuid": "acd29f45cc73be78b100206964f6a6caadaaf9e9",
        "id": "05sVXBvMeVlY"
      },
      "cell_type": "code",
      "source": [
        "y_train_pred_final['predicted'] = y_train_pred_final.Churn_Prob.map(lambda x: 1 if x > 0.5 else 0)\n",
        "\n",
        "# Let's see the head\n",
        "y_train_pred_final.head()"
      ],
      "execution_count": null,
      "outputs": []
    },
    {
      "metadata": {
        "trusted": false,
        "_uuid": "8d2fe452ad1c09265bf0e1aa47836cf45288592f",
        "id": "h7HPIXjCeVlY"
      },
      "cell_type": "code",
      "source": [
        "from sklearn import metrics"
      ],
      "execution_count": null,
      "outputs": []
    },
    {
      "metadata": {
        "trusted": false,
        "_uuid": "47d574f51eecdae08d53eb843f8456e6b97b3d2e",
        "id": "iEPdf9hmeVlY"
      },
      "cell_type": "code",
      "source": [
        "# Confusion matrix\n",
        "confusion = metrics.confusion_matrix(y_train_pred_final.Churn, y_train_pred_final.predicted )\n",
        "print(confusion)"
      ],
      "execution_count": null,
      "outputs": []
    },
    {
      "metadata": {
        "trusted": false,
        "_uuid": "4691edfa6135f5d51041c663cc522d633b0c71b3",
        "id": "ntjKtT-BeVlY"
      },
      "cell_type": "code",
      "source": [
        "# Predicted     not_churn    churn\n",
        "# Actual\n",
        "# not_churn        3270      365\n",
        "# churn            579       708"
      ],
      "execution_count": null,
      "outputs": []
    },
    {
      "metadata": {
        "trusted": false,
        "_uuid": "b9b7ccf98c3748709316e822a171bc783172b0fd",
        "id": "un3U_pTNeVlY"
      },
      "cell_type": "code",
      "source": [
        "# Let's check the overall accuracy.\n",
        "print(metrics.accuracy_score(y_train_pred_final.Churn, y_train_pred_final.predicted))"
      ],
      "execution_count": null,
      "outputs": []
    },
    {
      "metadata": {
        "_uuid": "04d17343d540d7e6ff46d685f130e6ebc429d477",
        "id": "xlCtjQJveVlY"
      },
      "cell_type": "markdown",
      "source": [
        "#### Checking VIFs"
      ]
    },
    {
      "metadata": {
        "trusted": false,
        "_uuid": "26f6a538c5516a01ab072939c1e3db9f8b21bab3",
        "id": "uiqtRUp9eVlZ"
      },
      "cell_type": "code",
      "source": [
        "# Check for the VIF values of the feature variables.\n",
        "from statsmodels.stats.outliers_influence import variance_inflation_factor"
      ],
      "execution_count": null,
      "outputs": []
    },
    {
      "metadata": {
        "trusted": false,
        "_uuid": "c024f1159e92018745dada8685a5c3c7774f7c86",
        "id": "t_I-rFUWeVlZ"
      },
      "cell_type": "code",
      "source": [
        "# Create a dataframe that will contain the names of all the feature variables and their respective VIFs\n",
        "vif = pd.DataFrame()\n",
        "vif['Features'] = X_train[col].columns\n",
        "vif['VIF'] = [variance_inflation_factor(X_train[col].values, i) for i in range(X_train[col].shape[1])]\n",
        "vif['VIF'] = round(vif['VIF'], 2)\n",
        "vif = vif.sort_values(by = \"VIF\", ascending = False)\n",
        "vif"
      ],
      "execution_count": null,
      "outputs": []
    },
    {
      "metadata": {
        "_uuid": "55aee64cba19a97e86c46aab784df60e6ca60271",
        "id": "CESQwN-8eVlZ"
      },
      "cell_type": "markdown",
      "source": [
        "There are a few variables with high VIF. It's best to drop these variables as they aren't helping much with prediction and unnecessarily making the model complex. The variable 'PhoneService' has the highest VIF. So let's start by dropping that."
      ]
    },
    {
      "metadata": {
        "trusted": false,
        "_uuid": "62e543861a742abb255932f0a0f7dacd0055da83",
        "id": "36dS0ukXeVlZ"
      },
      "cell_type": "code",
      "source": [
        "col = col.drop('PhoneService', 1)\n",
        "col"
      ],
      "execution_count": null,
      "outputs": []
    },
    {
      "metadata": {
        "trusted": false,
        "_uuid": "e6cddeb2e9e683c4d86efbb68cb53e1f9c80d3c6",
        "id": "1D5hC-4DeVlZ"
      },
      "cell_type": "code",
      "source": [
        "# Let's re-run the model using the selected variables\n",
        "X_train_sm = sm.add_constant(X_train[col])\n",
        "logm3 = sm.GLM(y_train,X_train_sm, family = sm.families.Binomial())\n",
        "res = logm3.fit()\n",
        "res.summary()"
      ],
      "execution_count": null,
      "outputs": []
    },
    {
      "metadata": {
        "trusted": false,
        "_uuid": "1df5aec93e819b81ea0f00b3b1978266b2bb887b",
        "id": "uZmLviiWeVlZ"
      },
      "cell_type": "code",
      "source": [
        "y_train_pred = res.predict(X_train_sm).values.reshape(-1)"
      ],
      "execution_count": null,
      "outputs": []
    },
    {
      "metadata": {
        "trusted": false,
        "_uuid": "61688bb17377ce04f5db0dba48a9076f5b0e6870",
        "id": "XvlcYDkDeVlZ"
      },
      "cell_type": "code",
      "source": [
        "y_train_pred[:10]"
      ],
      "execution_count": null,
      "outputs": []
    },
    {
      "metadata": {
        "trusted": false,
        "_uuid": "18b605d5ae4a3862d6ca6125ee5bf1ea7f8dd5a2",
        "id": "MLnxFMkSeVlZ"
      },
      "cell_type": "code",
      "source": [
        "y_train_pred_final['Churn_Prob'] = y_train_pred"
      ],
      "execution_count": null,
      "outputs": []
    },
    {
      "metadata": {
        "trusted": false,
        "_uuid": "25c9cb6abc3b30ba3150d73ddb3e27cdd7ef0b7e",
        "id": "ilIikkYXeVlZ"
      },
      "cell_type": "code",
      "source": [
        "# Creating new column 'predicted' with 1 if Churn_Prob > 0.5 else 0\n",
        "y_train_pred_final['predicted'] = y_train_pred_final.Churn_Prob.map(lambda x: 1 if x > 0.5 else 0)\n",
        "y_train_pred_final.head()"
      ],
      "execution_count": null,
      "outputs": []
    },
    {
      "metadata": {
        "trusted": false,
        "_uuid": "0e28b0a24e5fa8a28adb21b9f9ed3bb310c8a9ee",
        "id": "MWB0pYzNeVlb"
      },
      "cell_type": "code",
      "source": [
        "# Let's check the overall accuracy.\n",
        "print(metrics.accuracy_score(y_train_pred_final.Churn, y_train_pred_final.predicted))"
      ],
      "execution_count": null,
      "outputs": []
    },
    {
      "metadata": {
        "_uuid": "82c5a4cba080b6038b63b0a4fbd0c2002cc42379",
        "id": "o1pvMHoceVlb"
      },
      "cell_type": "markdown",
      "source": [
        "So overall the accuracy hasn't dropped much."
      ]
    },
    {
      "metadata": {
        "_uuid": "32d09006c5f740c9403079bf4224e51da63fa63f",
        "id": "cQ5uJ5uOeVlb"
      },
      "cell_type": "markdown",
      "source": [
        "##### Let's check the VIFs again"
      ]
    },
    {
      "metadata": {
        "trusted": false,
        "_uuid": "8a74edce4b4915a067ca59d786c95fee8a2037ea",
        "id": "aM-dIcTZeVlb"
      },
      "cell_type": "code",
      "source": [
        "vif = pd.DataFrame()\n",
        "vif['Features'] = X_train[col].columns\n",
        "vif['VIF'] = [variance_inflation_factor(X_train[col].values, i) for i in range(X_train[col].shape[1])]\n",
        "vif['VIF'] = round(vif['VIF'], 2)\n",
        "vif = vif.sort_values(by = \"VIF\", ascending = False)\n",
        "vif"
      ],
      "execution_count": null,
      "outputs": []
    },
    {
      "metadata": {
        "trusted": false,
        "_uuid": "33f6bdc10c18a82cf32bdbd34825c0f1098a2bd1",
        "id": "_4uPdbxteVlb"
      },
      "cell_type": "code",
      "source": [
        "# Let's drop TotalCharges since it has a high VIF\n",
        "col = col.drop('TotalCharges')\n",
        "col"
      ],
      "execution_count": null,
      "outputs": []
    },
    {
      "metadata": {
        "trusted": false,
        "_uuid": "5e99a8e8b8bfcf9759a8c8299789c9c5cd9a39f1",
        "id": "lq_JPCkFeVlb"
      },
      "cell_type": "code",
      "source": [
        "# Let's re-run the model using the selected variables\n",
        "X_train_sm = sm.add_constant(X_train[col])\n",
        "logm4 = sm.GLM(y_train,X_train_sm, family = sm.families.Binomial())\n",
        "res = logm4.fit()\n",
        "res.summary()"
      ],
      "execution_count": null,
      "outputs": []
    },
    {
      "metadata": {
        "trusted": false,
        "_uuid": "0b0e6f2e6da6cef6d309225dd7cfd757291291c7",
        "id": "7BG2-zb1eVlb"
      },
      "cell_type": "code",
      "source": [
        "y_train_pred = res.predict(X_train_sm).values.reshape(-1)"
      ],
      "execution_count": null,
      "outputs": []
    },
    {
      "metadata": {
        "trusted": false,
        "_uuid": "52612c4449c7768d7674c150b5cd88ffaeb7a893",
        "id": "VdJ_EaqNeVlb"
      },
      "cell_type": "code",
      "source": [
        "y_train_pred[:10]"
      ],
      "execution_count": null,
      "outputs": []
    },
    {
      "metadata": {
        "trusted": false,
        "_uuid": "106127712ae07af5aeefe39dd9166ba879623228",
        "id": "7TlG2fIOeVlb"
      },
      "cell_type": "code",
      "source": [
        "y_train_pred_final['Churn_Prob'] = y_train_pred"
      ],
      "execution_count": null,
      "outputs": []
    },
    {
      "metadata": {
        "trusted": false,
        "_uuid": "6016a8bf0ede3ac5f4032f0f667a29170544a8b0",
        "id": "79dLet9FeVlb"
      },
      "cell_type": "code",
      "source": [
        "# Creating new column 'predicted' with 1 if Churn_Prob > 0.5 else 0\n",
        "y_train_pred_final['predicted'] = y_train_pred_final.Churn_Prob.map(lambda x: 1 if x > 0.5 else 0)\n",
        "y_train_pred_final.head()"
      ],
      "execution_count": null,
      "outputs": []
    },
    {
      "metadata": {
        "trusted": false,
        "_uuid": "4266ce940256844722ec627961c0d5a2d8413aa5",
        "id": "siyYtGLWeVlc"
      },
      "cell_type": "code",
      "source": [
        "# Let's check the overall accuracy.\n",
        "print(metrics.accuracy_score(y_train_pred_final.Churn, y_train_pred_final.predicted))"
      ],
      "execution_count": null,
      "outputs": []
    },
    {
      "metadata": {
        "_uuid": "7bcb93cc7a5becd2a20aa0cc92f72a9b93a2ed21",
        "id": "RVLWi1O9eVlc"
      },
      "cell_type": "markdown",
      "source": [
        "The accuracy is still practically the same."
      ]
    },
    {
      "metadata": {
        "_uuid": "add41e4cab4772a18aab86602d6302cec3053dbe",
        "id": "Z8ytGUvaeVlc"
      },
      "cell_type": "markdown",
      "source": [
        "##### Let's now check the VIFs again"
      ]
    },
    {
      "metadata": {
        "trusted": false,
        "_uuid": "66ce6c91094d35a39047c95b61d2952a7fb004e2",
        "id": "80afTyjfeVlc"
      },
      "cell_type": "code",
      "source": [
        "vif = pd.DataFrame()\n",
        "vif['Features'] = X_train[col].columns\n",
        "vif['VIF'] = [variance_inflation_factor(X_train[col].values, i) for i in range(X_train[col].shape[1])]\n",
        "vif['VIF'] = round(vif['VIF'], 2)\n",
        "vif = vif.sort_values(by = \"VIF\", ascending = False)\n",
        "vif"
      ],
      "execution_count": null,
      "outputs": []
    },
    {
      "metadata": {
        "_uuid": "938c511935cd9f0f162c1fb4fff463848bad322b",
        "id": "GwuZ8m4aeVlc"
      },
      "cell_type": "markdown",
      "source": [
        "All variables have a good value of VIF. So we need not drop any more variables and we can proceed with making predictions using this model only"
      ]
    },
    {
      "metadata": {
        "trusted": false,
        "_uuid": "2e64439caaf6ce50f308c1cf3711381b90e4ccd0",
        "id": "8Jq2fypoeVlc"
      },
      "cell_type": "code",
      "source": [
        "# Let's take a look at the confusion matrix again\n",
        "confusion = metrics.confusion_matrix(y_train_pred_final.Churn, y_train_pred_final.predicted )\n",
        "confusion"
      ],
      "execution_count": null,
      "outputs": []
    },
    {
      "metadata": {
        "trusted": false,
        "_uuid": "8cd94de9ca8fd2df3b26b34579b32a296a9abb5a",
        "id": "0_1FUR1veVlc"
      },
      "cell_type": "code",
      "source": [
        "# Actual/Predicted     not_churn    churn\n",
        "        # not_churn        3269      366\n",
        "        # churn            595       692"
      ],
      "execution_count": null,
      "outputs": []
    },
    {
      "metadata": {
        "trusted": false,
        "_uuid": "5f320d1db9856f2a42e583dbfaef4a5ac6e33f46",
        "id": "ysM4Wg_6eVlc"
      },
      "cell_type": "code",
      "source": [
        "# Let's check the overall accuracy.\n",
        "metrics.accuracy_score(y_train_pred_final.Churn, y_train_pred_final.predicted)"
      ],
      "execution_count": null,
      "outputs": []
    },
    {
      "metadata": {
        "_uuid": "57278333a8e3d1ffcd5bc0561af9fb5a14d9f913",
        "id": "ydRdYxdReVlc"
      },
      "cell_type": "markdown",
      "source": [
        "## Metrics beyond simply accuracy"
      ]
    },
    {
      "metadata": {
        "trusted": false,
        "_uuid": "c0a218ddfa246defc7f1025d10a9f9db52ae68f9",
        "id": "3FHdU9pBeVlc"
      },
      "cell_type": "code",
      "source": [
        "TP = confusion[1,1] # true positive\n",
        "TN = confusion[0,0] # true negatives\n",
        "FP = confusion[0,1] # false positives\n",
        "FN = confusion[1,0] # false negatives"
      ],
      "execution_count": null,
      "outputs": []
    },
    {
      "metadata": {
        "trusted": false,
        "_uuid": "e8ab27edd6aacc86de9c18c50239ead9ad059372",
        "id": "4FJXSSfGeVlc"
      },
      "cell_type": "code",
      "source": [
        "# Let's see the sensitivity of our logistic regression model\n",
        "TP / float(TP+FN)"
      ],
      "execution_count": null,
      "outputs": []
    },
    {
      "metadata": {
        "trusted": false,
        "_uuid": "2767eab9b33386923f4e4989987d2b86c2ed88a7",
        "id": "ApaLQj-eeVlc"
      },
      "cell_type": "code",
      "source": [
        "# Let us calculate specificity\n",
        "TN / float(TN+FP)"
      ],
      "execution_count": null,
      "outputs": []
    },
    {
      "metadata": {
        "trusted": false,
        "_uuid": "a5cbebc832dd1f92a7eb5488c8a24142611ef91e",
        "id": "Aab0XXoweVlc"
      },
      "cell_type": "code",
      "source": [
        "# Calculate false postive rate - predicting churn when customer does not have churned\n",
        "print(FP/ float(TN+FP))"
      ],
      "execution_count": null,
      "outputs": []
    },
    {
      "metadata": {
        "trusted": false,
        "_uuid": "8e4a73f85883f90ab3d76b506bf439364143cf0e",
        "id": "EoU5ydD3eVlc"
      },
      "cell_type": "code",
      "source": [
        "# positive predictive value\n",
        "print (TP / float(TP+FP))"
      ],
      "execution_count": null,
      "outputs": []
    },
    {
      "metadata": {
        "trusted": false,
        "_uuid": "03a9bf792a7368ea563be6a825530b3ada35721b",
        "id": "OGqFsAjUeVlc"
      },
      "cell_type": "code",
      "source": [
        "# Negative predictive value\n",
        "print (TN / float(TN+ FN))"
      ],
      "execution_count": null,
      "outputs": []
    },
    {
      "metadata": {
        "collapsed": true,
        "_uuid": "cfe24236d17778378a04a6ac3bd479776b8b1105",
        "id": "Qlef_61oeVlc"
      },
      "cell_type": "markdown",
      "source": [
        "### Step 9: Plotting the ROC Curve"
      ]
    },
    {
      "metadata": {
        "_uuid": "93751b0ae0304a27f6d118e04dcb3fe8d0e833f4",
        "id": "U69j4pUWeVlc"
      },
      "cell_type": "markdown",
      "source": [
        "An ROC curve demonstrates several things:\n",
        "\n",
        "- It shows the tradeoff between sensitivity and specificity (any increase in sensitivity will be accompanied by a decrease in specificity).\n",
        "- The closer the curve follows the left-hand border and then the top border of the ROC space, the more accurate the test.\n",
        "- The closer the curve comes to the 45-degree diagonal of the ROC space, the less accurate the test."
      ]
    },
    {
      "metadata": {
        "trusted": false,
        "_uuid": "e85955b549a6fe712efc9250643e36cf85a52962",
        "id": "88OC3aQ8eVld"
      },
      "cell_type": "code",
      "source": [
        "def draw_roc( actual, probs ):\n",
        "    fpr, tpr, thresholds = metrics.roc_curve( actual, probs,\n",
        "                                              drop_intermediate = False )\n",
        "    auc_score = metrics.roc_auc_score( actual, probs )\n",
        "    plt.figure(figsize=(5, 5))\n",
        "    plt.plot( fpr, tpr, label='ROC curve (area = %0.2f)' % auc_score )\n",
        "    plt.plot([0, 1], [0, 1], 'k--')\n",
        "    plt.xlim([0.0, 1.0])\n",
        "    plt.ylim([0.0, 1.05])\n",
        "    plt.xlabel('False Positive Rate or [1 - True Negative Rate]')\n",
        "    plt.ylabel('True Positive Rate')\n",
        "    plt.title('Receiver operating characteristic example')\n",
        "    plt.legend(loc=\"lower right\")\n",
        "    plt.show()\n",
        "\n",
        "    return None"
      ],
      "execution_count": null,
      "outputs": []
    },
    {
      "metadata": {
        "trusted": false,
        "_uuid": "62c61c9d182e3db7693e76a826c4dd8ffb779a87",
        "id": "wokys3j8eVld"
      },
      "cell_type": "code",
      "source": [
        "fpr, tpr, thresholds = metrics.roc_curve( y_train_pred_final.Churn, y_train_pred_final.Churn_Prob, drop_intermediate = False )"
      ],
      "execution_count": null,
      "outputs": []
    },
    {
      "metadata": {
        "trusted": false,
        "_uuid": "4f317ac318fa2c49e71596ad0385259a8f85ef2e",
        "id": "IqK5toGKeVld"
      },
      "cell_type": "code",
      "source": [
        "draw_roc(y_train_pred_final.Churn, y_train_pred_final.Churn_Prob)"
      ],
      "execution_count": null,
      "outputs": []
    },
    {
      "metadata": {
        "_uuid": "d015bb93ccd90b3156360d7290044e7817a529b2",
        "id": "FqQ9ADw8eVld"
      },
      "cell_type": "markdown",
      "source": [
        "### Step 10: Finding Optimal Cutoff Point"
      ]
    },
    {
      "metadata": {
        "_uuid": "9aec133bc998f419830b92faccdfb657cc7adcea",
        "id": "k7tV7AMBeVld"
      },
      "cell_type": "markdown",
      "source": [
        "Optimal cutoff probability is that prob where we get balanced sensitivity and specificity"
      ]
    },
    {
      "metadata": {
        "scrolled": true,
        "trusted": false,
        "_uuid": "f62cbbc7380771b5f3e3d34997ccad0b3419e3e6",
        "id": "5Xn9jPnEeVld"
      },
      "cell_type": "code",
      "source": [
        "# Let's create columns with different probability cutoffs\n",
        "numbers = [float(x)/10 for x in range(10)]\n",
        "for i in numbers:\n",
        "    y_train_pred_final[i]= y_train_pred_final.Churn_Prob.map(lambda x: 1 if x > i else 0)\n",
        "y_train_pred_final.head()"
      ],
      "execution_count": null,
      "outputs": []
    },
    {
      "metadata": {
        "trusted": false,
        "_uuid": "9824a08590ce90f3235239a7ec27b6e6885803aa",
        "id": "J-cq8yiVeVld"
      },
      "cell_type": "code",
      "source": [
        "# Now let's calculate accuracy sensitivity and specificity for various probability cutoffs.\n",
        "cutoff_df = pd.DataFrame( columns = ['prob','accuracy','sensi','speci'])\n",
        "from sklearn.metrics import confusion_matrix\n",
        "\n",
        "# TP = confusion[1,1] # true positive\n",
        "# TN = confusion[0,0] # true negatives\n",
        "# FP = confusion[0,1] # false positives\n",
        "# FN = confusion[1,0] # false negatives\n",
        "\n",
        "num = [0.0,0.1,0.2,0.3,0.4,0.5,0.6,0.7,0.8,0.9]\n",
        "for i in num:\n",
        "    cm1 = metrics.confusion_matrix(y_train_pred_final.Churn, y_train_pred_final[i] )\n",
        "    total1=sum(sum(cm1))\n",
        "    accuracy = (cm1[0,0]+cm1[1,1])/total1\n",
        "\n",
        "    speci = cm1[0,0]/(cm1[0,0]+cm1[0,1])\n",
        "    sensi = cm1[1,1]/(cm1[1,0]+cm1[1,1])\n",
        "    cutoff_df.loc[i] =[ i ,accuracy,sensi,speci]\n",
        "print(cutoff_df)"
      ],
      "execution_count": null,
      "outputs": []
    },
    {
      "metadata": {
        "trusted": false,
        "_uuid": "c693bd9eec3a760ecbd507ee8201caab9f3f358b",
        "id": "JHjyiXPyeVld"
      },
      "cell_type": "code",
      "source": [
        "# Let's plot accuracy sensitivity and specificity for various probabilities.\n",
        "cutoff_df.plot.line(x='prob', y=['accuracy','sensi','speci'])\n",
        "plt.show()"
      ],
      "execution_count": null,
      "outputs": []
    },
    {
      "metadata": {
        "_uuid": "2e2fbdb518a785a3f288de69c74a67a8d0a3fe4a",
        "id": "2HfIpf4CeVle"
      },
      "cell_type": "markdown",
      "source": [
        "#### From the curve above, 0.3 is the optimum point to take it as a cutoff probability."
      ]
    },
    {
      "metadata": {
        "trusted": false,
        "_uuid": "05443c85dbfdb65865982ddbaec0fa9d08a0e6a9",
        "id": "lu4pOzk9eVle"
      },
      "cell_type": "code",
      "source": [
        "y_train_pred_final['final_predicted'] = y_train_pred_final.Churn_Prob.map( lambda x: 1 if x > 0.3 else 0)\n",
        "\n",
        "y_train_pred_final.head()"
      ],
      "execution_count": null,
      "outputs": []
    },
    {
      "metadata": {
        "trusted": false,
        "_uuid": "d2819db13fd1adf59975c8953148cfe9b4016561",
        "id": "72n_Bm2PeVle"
      },
      "cell_type": "code",
      "source": [
        "# Let's check the overall accuracy.\n",
        "metrics.accuracy_score(y_train_pred_final.Churn, y_train_pred_final.final_predicted)"
      ],
      "execution_count": null,
      "outputs": []
    },
    {
      "metadata": {
        "trusted": false,
        "_uuid": "e76e93da8728cc5acfc7653cbbecdabc340cbd2e",
        "id": "CFYB_JNFeVle"
      },
      "cell_type": "code",
      "source": [
        "confusion2 = metrics.confusion_matrix(y_train_pred_final.Churn, y_train_pred_final.final_predicted )\n",
        "confusion2"
      ],
      "execution_count": null,
      "outputs": []
    },
    {
      "metadata": {
        "trusted": false,
        "_uuid": "ebc214f7f6634b6fe6c56c0310bb3c29d581df37",
        "id": "vq1FBfBpeVle"
      },
      "cell_type": "code",
      "source": [
        "TP = confusion2[1,1] # true positive\n",
        "TN = confusion2[0,0] # true negatives\n",
        "FP = confusion2[0,1] # false positives\n",
        "FN = confusion2[1,0] # false negatives"
      ],
      "execution_count": null,
      "outputs": []
    },
    {
      "metadata": {
        "trusted": false,
        "_uuid": "e48857c89190539cfeed70f3e06851ec1402484c",
        "id": "cLVCJzwyeVle"
      },
      "cell_type": "code",
      "source": [
        "# Let's see the sensitivity of our logistic regression model\n",
        "TP / float(TP+FN)"
      ],
      "execution_count": null,
      "outputs": []
    },
    {
      "metadata": {
        "trusted": false,
        "_uuid": "ba07c3f503cfa4f4701f893b8f94acc0b8490654",
        "id": "jKy3XqsyeVle"
      },
      "cell_type": "code",
      "source": [
        "# Let us calculate specificity\n",
        "TN / float(TN+FP)"
      ],
      "execution_count": null,
      "outputs": []
    },
    {
      "metadata": {
        "trusted": false,
        "_uuid": "69871a56548e9e10aecb347851137d5e9322f217",
        "id": "s6RDrfCIeVle"
      },
      "cell_type": "code",
      "source": [
        "# Calculate false postive rate - predicting churn when customer does not have churned\n",
        "print(FP/ float(TN+FP))"
      ],
      "execution_count": null,
      "outputs": []
    },
    {
      "metadata": {
        "trusted": false,
        "_uuid": "c8daaa1a1887b3c50d745c770629c762edac1d71",
        "id": "3NTfo-qBeVle"
      },
      "cell_type": "code",
      "source": [
        "# Positive predictive value\n",
        "print (TP / float(TP+FP))"
      ],
      "execution_count": null,
      "outputs": []
    },
    {
      "metadata": {
        "trusted": false,
        "_uuid": "5a3fb8b26ea0866f7b89c9f41b01051d9a156998",
        "id": "XT93VFzdeVle"
      },
      "cell_type": "code",
      "source": [
        "# Negative predictive value\n",
        "print (TN / float(TN+ FN))"
      ],
      "execution_count": null,
      "outputs": []
    },
    {
      "metadata": {
        "_uuid": "ab2f68d41c10898c0262f1f91e9d99a2370a3d90",
        "id": "QCqGgH8BeVle"
      },
      "cell_type": "markdown",
      "source": [
        ""
      ]
    },
    {
      "metadata": {
        "_uuid": "b9cb979b0a15679f65facbbc5f7721f6bb9b4b44",
        "id": "St6kD_qCeVle"
      },
      "cell_type": "markdown",
      "source": [
        ""
      ]
    },
    {
      "metadata": {
        "_uuid": "3d070654853e80728dc81591866def5cd92fd6a0",
        "id": "vxm5OttSeVle"
      },
      "cell_type": "markdown",
      "source": [
        ""
      ]
    },
    {
      "metadata": {
        "_uuid": "83df450ba949c854f10128bba98b1b1e09ab03c3",
        "id": "ZM6wObN5eVle"
      },
      "cell_type": "markdown",
      "source": [
        ""
      ]
    },
    {
      "metadata": {
        "_uuid": "00078b404c737f2f24640cb138b9304718533083",
        "id": "7HU-AjuWeVle"
      },
      "cell_type": "markdown",
      "source": [
        "## Precision and Recall"
      ]
    },
    {
      "metadata": {
        "trusted": false,
        "_uuid": "e38632dde0577e437d7d235db866850e73257cf3",
        "id": "DdOR1VWZeVle"
      },
      "cell_type": "code",
      "source": [
        "#Looking at the confusion matrix again"
      ],
      "execution_count": null,
      "outputs": []
    },
    {
      "metadata": {
        "trusted": false,
        "_uuid": "fe02696cfc7f726344091be69a256694792cc8d6",
        "id": "-WAEAFqJeVle"
      },
      "cell_type": "code",
      "source": [
        "confusion = metrics.confusion_matrix(y_train_pred_final.Churn, y_train_pred_final.predicted )\n",
        "confusion"
      ],
      "execution_count": null,
      "outputs": []
    },
    {
      "metadata": {
        "_uuid": "56401196905cc30bc415104f18bd3e3f55b6a632",
        "id": "FIH8-IeNeVle"
      },
      "cell_type": "markdown",
      "source": [
        "##### Precision\n",
        "TP / TP + FP"
      ]
    },
    {
      "metadata": {
        "trusted": false,
        "_uuid": "3ea6844759463a78e30cd982347e91f50331d2b7",
        "id": "xdr8MkACeVlf"
      },
      "cell_type": "code",
      "source": [
        "confusion[1,1]/(confusion[0,1]+confusion[1,1])"
      ],
      "execution_count": null,
      "outputs": []
    },
    {
      "metadata": {
        "_uuid": "34e402799cfe5229b7c72b481b4d616def9c80da",
        "id": "WyPh2jtneVlf"
      },
      "cell_type": "markdown",
      "source": [
        "##### Recall\n",
        "TP / TP + FN"
      ]
    },
    {
      "metadata": {
        "trusted": false,
        "_uuid": "466dccb626a1dc80d856d682c061c8c4e3dae096",
        "id": "6LjYYrdMeVlf"
      },
      "cell_type": "code",
      "source": [
        "confusion[1,1]/(confusion[1,0]+confusion[1,1])"
      ],
      "execution_count": null,
      "outputs": []
    },
    {
      "metadata": {
        "_uuid": "724fa242ef1d31a7de4ab23c6c21ac75abf5a20f",
        "id": "rrW8n2yMeVlf"
      },
      "cell_type": "markdown",
      "source": [
        "Using sklearn utilities for the same"
      ]
    },
    {
      "metadata": {
        "trusted": false,
        "_uuid": "c0bc7fe62d2d37f74c31be28e99b7a7f6e47d191",
        "id": "peoxcQD1eVlf"
      },
      "cell_type": "code",
      "source": [
        "from sklearn.metrics import precision_score, recall_score"
      ],
      "execution_count": null,
      "outputs": []
    },
    {
      "metadata": {
        "trusted": false,
        "_uuid": "776c96950d5d0b433e85bf2bf28184f0390a7eab",
        "id": "scfu9YHTeVlf"
      },
      "cell_type": "code",
      "source": [
        "?precision_score"
      ],
      "execution_count": null,
      "outputs": []
    },
    {
      "metadata": {
        "trusted": false,
        "_uuid": "217b418388a87d4ecc828fa31faf296e1fa5a8a3",
        "id": "zgU1kSXreVlf"
      },
      "cell_type": "code",
      "source": [
        "precision_score(y_train_pred_final.Churn, y_train_pred_final.predicted)"
      ],
      "execution_count": null,
      "outputs": []
    },
    {
      "metadata": {
        "trusted": false,
        "_uuid": "1b60034f598ad58755c04c08b8d224d2392afec3",
        "id": "8yWtADEkeVlf"
      },
      "cell_type": "code",
      "source": [
        "recall_score(y_train_pred_final.Churn, y_train_pred_final.predicted)"
      ],
      "execution_count": null,
      "outputs": []
    },
    {
      "metadata": {
        "_uuid": "3ff6c9d7e0b242b692f55bacac3c052eacc35376",
        "id": "unGMMVeIeVlf"
      },
      "cell_type": "markdown",
      "source": [
        "### Precision and recall tradeoff"
      ]
    },
    {
      "metadata": {
        "trusted": false,
        "_uuid": "59c36e27db7c1af5a3f2703c220b4d7c526e2302",
        "id": "Ge-2xkiJeVlf"
      },
      "cell_type": "code",
      "source": [
        "from sklearn.metrics import precision_recall_curve"
      ],
      "execution_count": null,
      "outputs": []
    },
    {
      "metadata": {
        "trusted": false,
        "_uuid": "74efee2cfdbe129528898796e956d2bcd75a08c3",
        "id": "KIc5QYFReVlf"
      },
      "cell_type": "code",
      "source": [
        "y_train_pred_final.Churn, y_train_pred_final.predicted"
      ],
      "execution_count": null,
      "outputs": []
    },
    {
      "metadata": {
        "trusted": false,
        "_uuid": "72319de2bb6ef72acee16c26e369c426b2239d14",
        "id": "xfJNOZmSeVlf"
      },
      "cell_type": "code",
      "source": [
        "p, r, thresholds = precision_recall_curve(y_train_pred_final.Churn, y_train_pred_final.Churn_Prob)"
      ],
      "execution_count": null,
      "outputs": []
    },
    {
      "metadata": {
        "scrolled": true,
        "trusted": false,
        "_uuid": "bb8989d7d692162b3abb234c9143e86bf454ca90",
        "id": "WtXnzf8LeVlf"
      },
      "cell_type": "code",
      "source": [
        "plt.plot(thresholds, p[:-1], \"g-\")\n",
        "plt.plot(thresholds, r[:-1], \"r-\")\n",
        "plt.show()"
      ],
      "execution_count": null,
      "outputs": []
    },
    {
      "metadata": {
        "_uuid": "7cedce01a9c68228e25fa65a8bc36b5e601c2660",
        "id": "RkebGooeeVlf"
      },
      "cell_type": "markdown",
      "source": [
        "### Step 11: Making predictions on the test set"
      ]
    },
    {
      "metadata": {
        "trusted": false,
        "_uuid": "0d93a82e132acb8a85f62ef16a7dd5c2d12cd8d6",
        "id": "-OBDruzCeVlf"
      },
      "cell_type": "code",
      "source": [
        "X_test[['tenure','MonthlyCharges','TotalCharges']] = scaler.transform(X_test[['tenure','MonthlyCharges','TotalCharges']])"
      ],
      "execution_count": null,
      "outputs": []
    },
    {
      "metadata": {
        "trusted": false,
        "_uuid": "af396f88d02fa082e8c38523b782c549f6f8245c",
        "id": "A9G8B6u-eVlf"
      },
      "cell_type": "code",
      "source": [
        "X_test = X_test[col]\n",
        "X_test.head()"
      ],
      "execution_count": null,
      "outputs": []
    },
    {
      "metadata": {
        "trusted": false,
        "_uuid": "ecc7cef3c6d162e4b57fadaeb9b7862a180501ca",
        "id": "mgkCbvcUeVlf"
      },
      "cell_type": "code",
      "source": [
        "X_test_sm = sm.add_constant(X_test)"
      ],
      "execution_count": null,
      "outputs": []
    },
    {
      "metadata": {
        "_uuid": "8aac6a21364faeaaeb9e4b1d01ce179d7112ba0b",
        "id": "4Ek78MFSeVlg"
      },
      "cell_type": "markdown",
      "source": [
        "Making predictions on the test set"
      ]
    },
    {
      "metadata": {
        "trusted": false,
        "_uuid": "4da01082af62f158a5a207f0c05a90f522740947",
        "id": "qU7T0iKfeVlg"
      },
      "cell_type": "code",
      "source": [
        "y_test_pred = res.predict(X_test_sm)"
      ],
      "execution_count": null,
      "outputs": []
    },
    {
      "metadata": {
        "trusted": false,
        "_uuid": "e0309c774ad02f75af455810068803ed000d2552",
        "id": "DpvM6x0aeVlg"
      },
      "cell_type": "code",
      "source": [
        "y_test_pred[:10]"
      ],
      "execution_count": null,
      "outputs": []
    },
    {
      "metadata": {
        "trusted": false,
        "_uuid": "a859c1f5071eac6ad361ec5cc694da21c5f9cacf",
        "id": "KLv3Dh5seVlg"
      },
      "cell_type": "code",
      "source": [
        "# Converting y_pred to a dataframe which is an array\n",
        "y_pred_1 = pd.DataFrame(y_test_pred)"
      ],
      "execution_count": null,
      "outputs": []
    },
    {
      "metadata": {
        "trusted": false,
        "_uuid": "77dcaca1a3bbcb24a5876c4c442e9cef1a86deae",
        "id": "-AMwX4g8eVlg"
      },
      "cell_type": "code",
      "source": [
        "# Let's see the head\n",
        "y_pred_1.head()"
      ],
      "execution_count": null,
      "outputs": []
    },
    {
      "metadata": {
        "trusted": false,
        "_uuid": "6b2c062e71978d219de9b1c5360156daa77ec3db",
        "id": "sHAZOZP0eVlg"
      },
      "cell_type": "code",
      "source": [
        "# Converting y_test to dataframe\n",
        "y_test_df = pd.DataFrame(y_test)"
      ],
      "execution_count": null,
      "outputs": []
    },
    {
      "metadata": {
        "trusted": false,
        "_uuid": "de6911d7be0f90d681fd657413edef58b56d70d5",
        "id": "IjF_KSrGeVlg"
      },
      "cell_type": "code",
      "source": [
        "# Putting CustID to index\n",
        "y_test_df['CustID'] = y_test_df.index"
      ],
      "execution_count": null,
      "outputs": []
    },
    {
      "metadata": {
        "trusted": false,
        "_uuid": "87ae92fb2fa2b3952fe11751584beda7220b8727",
        "id": "IZorZArpeVli"
      },
      "cell_type": "code",
      "source": [
        "# Removing index for both dataframes to append them side by side\n",
        "y_pred_1.reset_index(drop=True, inplace=True)\n",
        "y_test_df.reset_index(drop=True, inplace=True)"
      ],
      "execution_count": null,
      "outputs": []
    },
    {
      "metadata": {
        "trusted": false,
        "_uuid": "9c301a2ea3c0af6b22545d0b414587426038d1a5",
        "id": "weX0QObKeVli"
      },
      "cell_type": "code",
      "source": [
        "# Appending y_test_df and y_pred_1\n",
        "y_pred_final = pd.concat([y_test_df, y_pred_1],axis=1)"
      ],
      "execution_count": null,
      "outputs": []
    },
    {
      "metadata": {
        "trusted": false,
        "_uuid": "ac279c63c08fc2873a358e5d6a106e8cc4e5fea3",
        "id": "Vu8dDS5oeVli"
      },
      "cell_type": "code",
      "source": [
        "y_pred_final.head()"
      ],
      "execution_count": null,
      "outputs": []
    },
    {
      "metadata": {
        "trusted": false,
        "_uuid": "8049953c8896640393fd2075b8db75d76a612326",
        "id": "LK0GtElyeVli"
      },
      "cell_type": "code",
      "source": [
        "# Renaming the column\n",
        "y_pred_final= y_pred_final.rename(columns={ 0 : 'Churn_Prob'})"
      ],
      "execution_count": null,
      "outputs": []
    },
    {
      "metadata": {
        "trusted": false,
        "_uuid": "542c062760a80dd4e6a3c21d2787769de56e69ae",
        "id": "20WVZzrCeVlj"
      },
      "cell_type": "code",
      "source": [
        "# Rearranging the columns\n",
        "y_pred_final = y_pred_final.reindex_axis(['CustID','Churn','Churn_Prob'], axis=1)"
      ],
      "execution_count": null,
      "outputs": []
    },
    {
      "metadata": {
        "trusted": false,
        "_uuid": "966b02e39b81c41380bf1fba465a82fa817c5c2e",
        "id": "3hr6lYNteVlj"
      },
      "cell_type": "code",
      "source": [
        "# Let's see the head of y_pred_final\n",
        "y_pred_final.head()"
      ],
      "execution_count": null,
      "outputs": []
    },
    {
      "metadata": {
        "trusted": false,
        "_uuid": "bd68e2844e85384ccdb495381269336cb07575b0",
        "id": "zSFUyDmWeVlj"
      },
      "cell_type": "code",
      "source": [
        "y_pred_final['final_predicted'] = y_pred_final.Churn_Prob.map(lambda x: 1 if x > 0.42 else 0)"
      ],
      "execution_count": null,
      "outputs": []
    },
    {
      "metadata": {
        "trusted": false,
        "_uuid": "bf010bf223c34fc298bb973e80d1321fe0c4aef7",
        "id": "sgIy66_HeVlj"
      },
      "cell_type": "code",
      "source": [
        "y_pred_final.head()"
      ],
      "execution_count": null,
      "outputs": []
    },
    {
      "metadata": {
        "scrolled": true,
        "trusted": false,
        "_uuid": "2257635f18d447104d50f148927b44914b92ee44",
        "id": "Ni80-frxeVlj"
      },
      "cell_type": "code",
      "source": [
        "# Let's check the overall accuracy.\n",
        "metrics.accuracy_score(y_pred_final.Churn, y_pred_final.final_predicted)"
      ],
      "execution_count": null,
      "outputs": []
    },
    {
      "metadata": {
        "scrolled": true,
        "trusted": false,
        "_uuid": "0cdb384811913f392b9d0b0798daadc70ca9dcef",
        "id": "yDgodgKoeVlj"
      },
      "cell_type": "code",
      "source": [
        "confusion2 = metrics.confusion_matrix(y_pred_final.Churn, y_pred_final.final_predicted )\n",
        "confusion2"
      ],
      "execution_count": null,
      "outputs": []
    },
    {
      "metadata": {
        "trusted": false,
        "_uuid": "b8a36f361e2929723e6acae890e9eaf093401706",
        "id": "7eBSRYAWeVlj"
      },
      "cell_type": "code",
      "source": [
        "TP = confusion2[1,1] # true positive\n",
        "TN = confusion2[0,0] # true negatives\n",
        "FP = confusion2[0,1] # false positives\n",
        "FN = confusion2[1,0] # false negatives"
      ],
      "execution_count": null,
      "outputs": []
    },
    {
      "metadata": {
        "trusted": false,
        "_uuid": "fa6fa1d9fa0913389ae03fa0b71c787b8304975f",
        "id": "um1nDV8AeVlj"
      },
      "cell_type": "code",
      "source": [
        "# Let's see the sensitivity of our logistic regression model\n",
        "TP / float(TP+FN)"
      ],
      "execution_count": null,
      "outputs": []
    },
    {
      "metadata": {
        "trusted": false,
        "_uuid": "b62cddb18e469f679f0f4d2652d1f6899e539af0",
        "id": "pIWyKKkIeVlj"
      },
      "cell_type": "code",
      "source": [
        "# Let us calculate specificity\n",
        "TN / float(TN+FP)"
      ],
      "execution_count": null,
      "outputs": []
    }
  ],
  "metadata": {
    "kernelspec": {
      "display_name": "Python 3",
      "language": "python",
      "name": "python3"
    },
    "language_info": {
      "name": "python",
      "version": "3.6.6",
      "mimetype": "text/x-python",
      "codemirror_mode": {
        "name": "ipython",
        "version": 3
      },
      "pygments_lexer": "ipython3",
      "nbconvert_exporter": "python",
      "file_extension": ".py"
    },
    "colab": {
      "name": "Telecom Churn Prediction ( Logistic Regression )",
      "provenance": [],
      "include_colab_link": true
    }
  },
  "nbformat": 4,
  "nbformat_minor": 0
}